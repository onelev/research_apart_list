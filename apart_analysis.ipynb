{
 "cells": [
  {
   "cell_type": "markdown",
   "id": "6758750a",
   "metadata": {},
   "source": [
    "## Исследование объявлений о продаже квартир"
   ]
  },
  {
   "cell_type": "markdown",
   "id": "b6f6214e",
   "metadata": {},
   "source": [
    "В нашем распоряжении данные сервиса Яндекс Недвижимость, представляющие собой объявления о продаже квартир в Санкт-Петербурге и соседних населенных пунктах.\n",
    "\n",
    "Задача: установить рыночную стоимость квартир, какие параметры влияют на ценообразование квартир."
   ]
  },
  {
   "cell_type": "markdown",
   "id": "e9b3644f",
   "metadata": {},
   "source": [
    "## **Описание данных:**"
   ]
  },
  {
   "cell_type": "code",
   "execution_count": 1,
   "id": "9b461326",
   "metadata": {},
   "outputs": [],
   "source": [
    "# импортирую библиотеки\n",
    "import pandas as pd\n",
    "import matplotlib.pyplot as plt\n",
    "import warnings\n",
    "import seaborn as sns\n",
    "warnings.filterwarnings(\"ignore\")"
   ]
  },
  {
   "cell_type": "code",
   "execution_count": 2,
   "id": "9d9e0bc6",
   "metadata": {},
   "outputs": [
    {
     "data": {
      "text/html": [
       "<div>\n",
       "<style scoped>\n",
       "    .dataframe tbody tr th:only-of-type {\n",
       "        vertical-align: middle;\n",
       "    }\n",
       "\n",
       "    .dataframe tbody tr th {\n",
       "        vertical-align: top;\n",
       "    }\n",
       "\n",
       "    .dataframe thead th {\n",
       "        text-align: right;\n",
       "    }\n",
       "</style>\n",
       "<table border=\"1\" class=\"dataframe\">\n",
       "  <thead>\n",
       "    <tr style=\"text-align: right;\">\n",
       "      <th></th>\n",
       "      <th>total_images</th>\n",
       "      <th>last_price</th>\n",
       "      <th>total_area</th>\n",
       "      <th>first_day_exposition</th>\n",
       "      <th>rooms</th>\n",
       "      <th>ceiling_height</th>\n",
       "      <th>floors_total</th>\n",
       "      <th>living_area</th>\n",
       "      <th>floor</th>\n",
       "      <th>is_apartment</th>\n",
       "      <th>...</th>\n",
       "      <th>kitchen_area</th>\n",
       "      <th>balcony</th>\n",
       "      <th>locality_name</th>\n",
       "      <th>airports_nearest</th>\n",
       "      <th>cityCenters_nearest</th>\n",
       "      <th>parks_around3000</th>\n",
       "      <th>parks_nearest</th>\n",
       "      <th>ponds_around3000</th>\n",
       "      <th>ponds_nearest</th>\n",
       "      <th>days_exposition</th>\n",
       "    </tr>\n",
       "  </thead>\n",
       "  <tbody>\n",
       "    <tr>\n",
       "      <th>0</th>\n",
       "      <td>20</td>\n",
       "      <td>13000000.0</td>\n",
       "      <td>108.0</td>\n",
       "      <td>2019-03-07T00:00:00</td>\n",
       "      <td>3</td>\n",
       "      <td>2.70</td>\n",
       "      <td>16.0</td>\n",
       "      <td>51.0</td>\n",
       "      <td>8</td>\n",
       "      <td>NaN</td>\n",
       "      <td>...</td>\n",
       "      <td>25.0</td>\n",
       "      <td>NaN</td>\n",
       "      <td>Санкт-Петербург</td>\n",
       "      <td>18863.0</td>\n",
       "      <td>16028.0</td>\n",
       "      <td>1.0</td>\n",
       "      <td>482.0</td>\n",
       "      <td>2.0</td>\n",
       "      <td>755.0</td>\n",
       "      <td>NaN</td>\n",
       "    </tr>\n",
       "    <tr>\n",
       "      <th>1</th>\n",
       "      <td>7</td>\n",
       "      <td>3350000.0</td>\n",
       "      <td>40.4</td>\n",
       "      <td>2018-12-04T00:00:00</td>\n",
       "      <td>1</td>\n",
       "      <td>NaN</td>\n",
       "      <td>11.0</td>\n",
       "      <td>18.6</td>\n",
       "      <td>1</td>\n",
       "      <td>NaN</td>\n",
       "      <td>...</td>\n",
       "      <td>11.0</td>\n",
       "      <td>2.0</td>\n",
       "      <td>посёлок Шушары</td>\n",
       "      <td>12817.0</td>\n",
       "      <td>18603.0</td>\n",
       "      <td>0.0</td>\n",
       "      <td>NaN</td>\n",
       "      <td>0.0</td>\n",
       "      <td>NaN</td>\n",
       "      <td>81.0</td>\n",
       "    </tr>\n",
       "    <tr>\n",
       "      <th>2</th>\n",
       "      <td>10</td>\n",
       "      <td>5196000.0</td>\n",
       "      <td>56.0</td>\n",
       "      <td>2015-08-20T00:00:00</td>\n",
       "      <td>2</td>\n",
       "      <td>NaN</td>\n",
       "      <td>5.0</td>\n",
       "      <td>34.3</td>\n",
       "      <td>4</td>\n",
       "      <td>NaN</td>\n",
       "      <td>...</td>\n",
       "      <td>8.3</td>\n",
       "      <td>0.0</td>\n",
       "      <td>Санкт-Петербург</td>\n",
       "      <td>21741.0</td>\n",
       "      <td>13933.0</td>\n",
       "      <td>1.0</td>\n",
       "      <td>90.0</td>\n",
       "      <td>2.0</td>\n",
       "      <td>574.0</td>\n",
       "      <td>558.0</td>\n",
       "    </tr>\n",
       "    <tr>\n",
       "      <th>3</th>\n",
       "      <td>0</td>\n",
       "      <td>64900000.0</td>\n",
       "      <td>159.0</td>\n",
       "      <td>2015-07-24T00:00:00</td>\n",
       "      <td>3</td>\n",
       "      <td>NaN</td>\n",
       "      <td>14.0</td>\n",
       "      <td>NaN</td>\n",
       "      <td>9</td>\n",
       "      <td>NaN</td>\n",
       "      <td>...</td>\n",
       "      <td>NaN</td>\n",
       "      <td>0.0</td>\n",
       "      <td>Санкт-Петербург</td>\n",
       "      <td>28098.0</td>\n",
       "      <td>6800.0</td>\n",
       "      <td>2.0</td>\n",
       "      <td>84.0</td>\n",
       "      <td>3.0</td>\n",
       "      <td>234.0</td>\n",
       "      <td>424.0</td>\n",
       "    </tr>\n",
       "    <tr>\n",
       "      <th>4</th>\n",
       "      <td>2</td>\n",
       "      <td>10000000.0</td>\n",
       "      <td>100.0</td>\n",
       "      <td>2018-06-19T00:00:00</td>\n",
       "      <td>2</td>\n",
       "      <td>3.03</td>\n",
       "      <td>14.0</td>\n",
       "      <td>32.0</td>\n",
       "      <td>13</td>\n",
       "      <td>NaN</td>\n",
       "      <td>...</td>\n",
       "      <td>41.0</td>\n",
       "      <td>NaN</td>\n",
       "      <td>Санкт-Петербург</td>\n",
       "      <td>31856.0</td>\n",
       "      <td>8098.0</td>\n",
       "      <td>2.0</td>\n",
       "      <td>112.0</td>\n",
       "      <td>1.0</td>\n",
       "      <td>48.0</td>\n",
       "      <td>121.0</td>\n",
       "    </tr>\n",
       "  </tbody>\n",
       "</table>\n",
       "<p>5 rows × 22 columns</p>\n",
       "</div>"
      ],
      "text/plain": [
       "   total_images  last_price  total_area first_day_exposition  rooms  \\\n",
       "0            20  13000000.0       108.0  2019-03-07T00:00:00      3   \n",
       "1             7   3350000.0        40.4  2018-12-04T00:00:00      1   \n",
       "2            10   5196000.0        56.0  2015-08-20T00:00:00      2   \n",
       "3             0  64900000.0       159.0  2015-07-24T00:00:00      3   \n",
       "4             2  10000000.0       100.0  2018-06-19T00:00:00      2   \n",
       "\n",
       "   ceiling_height  floors_total  living_area  floor is_apartment  ...  \\\n",
       "0            2.70          16.0         51.0      8          NaN  ...   \n",
       "1             NaN          11.0         18.6      1          NaN  ...   \n",
       "2             NaN           5.0         34.3      4          NaN  ...   \n",
       "3             NaN          14.0          NaN      9          NaN  ...   \n",
       "4            3.03          14.0         32.0     13          NaN  ...   \n",
       "\n",
       "   kitchen_area  balcony    locality_name  airports_nearest  \\\n",
       "0          25.0      NaN  Санкт-Петербург           18863.0   \n",
       "1          11.0      2.0   посёлок Шушары           12817.0   \n",
       "2           8.3      0.0  Санкт-Петербург           21741.0   \n",
       "3           NaN      0.0  Санкт-Петербург           28098.0   \n",
       "4          41.0      NaN  Санкт-Петербург           31856.0   \n",
       "\n",
       "  cityCenters_nearest  parks_around3000  parks_nearest  ponds_around3000  \\\n",
       "0             16028.0               1.0          482.0               2.0   \n",
       "1             18603.0               0.0            NaN               0.0   \n",
       "2             13933.0               1.0           90.0               2.0   \n",
       "3              6800.0               2.0           84.0               3.0   \n",
       "4              8098.0               2.0          112.0               1.0   \n",
       "\n",
       "   ponds_nearest  days_exposition  \n",
       "0          755.0              NaN  \n",
       "1            NaN             81.0  \n",
       "2          574.0            558.0  \n",
       "3          234.0            424.0  \n",
       "4           48.0            121.0  \n",
       "\n",
       "[5 rows x 22 columns]"
      ]
     },
     "execution_count": 2,
     "metadata": {},
     "output_type": "execute_result"
    }
   ],
   "source": [
    "#код ревьюера\n",
    "try:\n",
    "    data = pd.read_csv('/--', sep='\\t')\n",
    "except:\n",
    "    data = pd.read_csv(\n",
    "    '/---/real_estate_data.csv', sep='\\t'\n",
    "    )\n",
    "data.head()"
   ]
  },
  {
   "cell_type": "code",
   "execution_count": 3,
   "id": "abb0c1ee",
   "metadata": {},
   "outputs": [
    {
     "name": "stdout",
     "output_type": "stream",
     "text": [
      "<class 'pandas.core.frame.DataFrame'>\n",
      "RangeIndex: 23699 entries, 0 to 23698\n",
      "Data columns (total 22 columns):\n",
      " #   Column                Non-Null Count  Dtype  \n",
      "---  ------                --------------  -----  \n",
      " 0   total_images          23699 non-null  int64  \n",
      " 1   last_price            23699 non-null  float64\n",
      " 2   total_area            23699 non-null  float64\n",
      " 3   first_day_exposition  23699 non-null  object \n",
      " 4   rooms                 23699 non-null  int64  \n",
      " 5   ceiling_height        14504 non-null  float64\n",
      " 6   floors_total          23613 non-null  float64\n",
      " 7   living_area           21796 non-null  float64\n",
      " 8   floor                 23699 non-null  int64  \n",
      " 9   is_apartment          2775 non-null   object \n",
      " 10  studio                23699 non-null  bool   \n",
      " 11  open_plan             23699 non-null  bool   \n",
      " 12  kitchen_area          21421 non-null  float64\n",
      " 13  balcony               12180 non-null  float64\n",
      " 14  locality_name         23650 non-null  object \n",
      " 15  airports_nearest      18157 non-null  float64\n",
      " 16  cityCenters_nearest   18180 non-null  float64\n",
      " 17  parks_around3000      18181 non-null  float64\n",
      " 18  parks_nearest         8079 non-null   float64\n",
      " 19  ponds_around3000      18181 non-null  float64\n",
      " 20  ponds_nearest         9110 non-null   float64\n",
      " 21  days_exposition       20518 non-null  float64\n",
      "dtypes: bool(2), float64(14), int64(3), object(3)\n",
      "memory usage: 3.7+ MB\n"
     ]
    }
   ],
   "source": [
    "data.info()"
   ]
  },
  {
   "cell_type": "code",
   "execution_count": 4,
   "id": "85441bcb",
   "metadata": {},
   "outputs": [],
   "source": [
    "# сразу переименую столбец \"до центра города\"\n",
    "data = data.rename(columns={'cityCenters_nearest' : 'city_center_nearest'})"
   ]
  },
  {
   "cell_type": "code",
   "execution_count": 5,
   "id": "4c3cb1fd",
   "metadata": {},
   "outputs": [
    {
     "data": {
      "text/plain": [
       "total_images                0\n",
       "last_price                  0\n",
       "total_area                  0\n",
       "first_day_exposition        0\n",
       "rooms                       0\n",
       "ceiling_height           9195\n",
       "floors_total               86\n",
       "living_area              1903\n",
       "floor                       0\n",
       "is_apartment            20924\n",
       "studio                      0\n",
       "open_plan                   0\n",
       "kitchen_area             2278\n",
       "balcony                 11519\n",
       "locality_name              49\n",
       "airports_nearest         5542\n",
       "city_center_nearest      5519\n",
       "parks_around3000         5518\n",
       "parks_nearest           15620\n",
       "ponds_around3000         5518\n",
       "ponds_nearest           14589\n",
       "days_exposition          3181\n",
       "dtype: int64"
      ]
     },
     "execution_count": 5,
     "metadata": {},
     "output_type": "execute_result"
    }
   ],
   "source": [
    "# посмотрим сколько данных у нас отсутствует\n",
    "data.isna().sum()\n",
    "#data.isna().sum()/len(data)*100"
   ]
  },
  {
   "cell_type": "markdown",
   "id": "de23eb1a",
   "metadata": {},
   "source": [
    "Мне необходимо избавиться от пропусков в значениях. Для начала я буду групировать по парам свойства и заполнять медианными значениями. Так меньше шанс допустить ошибку. "
   ]
  },
  {
   "cell_type": "code",
   "execution_count": 6,
   "id": "9461d4a8",
   "metadata": {},
   "outputs": [],
   "source": [
    "# раздадим медианные значения по группировке площадь - кол-во комнат\n",
    "data['kitchen_area'] = (data['kitchen_area']\n",
    "    .fillna(data.groupby(['total_area', 'rooms'])['kitchen_area']\n",
    "    .transform('median'))\n",
    ")\n",
    "# если комнат 0, скорее всего это студия, в студии примем площадь кухни 5метров\n",
    "data[data['studio'] == True].loc[data['rooms'] == 0, 'kitchen_area'] = 5\n",
    "\n",
    "# найдем медианные значения в группировке комнаты-жилая площадь\n",
    "data['kitchen_area'] = (data['kitchen_area']\n",
    "    .fillna(data.groupby(['rooms', 'living_area'])['kitchen_area']\n",
    "    .transform('median'))\n",
    ")\n",
    "# найдем медианные значения в группировке суммарная площадь-жилая площадь\n",
    "data['kitchen_area'] = (data['kitchen_area']\n",
    "    .fillna(data.groupby(['total_area', 'living_area'])['kitchen_area']\n",
    "    .transform('median'))\n",
    ")\n",
    "# доочистим оставшиеся по кол-ву комнат\n",
    "data['kitchen_area'] = (data['kitchen_area']\n",
    "    .fillna(data.groupby('rooms')['kitchen_area']\n",
    "    .transform('median'))\n",
    ")"
   ]
  },
  {
   "cell_type": "code",
   "execution_count": 7,
   "id": "629f294c",
   "metadata": {},
   "outputs": [],
   "source": [
    "# найдем жилую площадь как медианную по площади квартир и комнатам\n",
    "data['living_area'] = (data['living_area']\n",
    "    .fillna(data.groupby(['total_area', 'rooms'])['living_area']\n",
    "    .transform('median'))\n",
    ")\n",
    "\n",
    "data['living_area'] = (data['living_area']\n",
    "    .fillna(data.groupby(['total_area', 'kitchen_area'])['living_area']\n",
    "    .transform('median'))\n",
    ")\n",
    "\n",
    "data['living_area'] = (data['living_area']\n",
    "    .fillna(data.groupby(['rooms', 'kitchen_area'])['living_area']\n",
    "    .transform('median'))\n",
    ")\n",
    "\n",
    "data['living_area'] = (data['living_area']\n",
    "    .fillna(data.groupby('rooms')['living_area']\n",
    "    .transform('median'))\n",
    ")"
   ]
  },
  {
   "cell_type": "code",
   "execution_count": 8,
   "id": "687d7237",
   "metadata": {},
   "outputs": [
    {
     "data": {
      "text/html": [
       "<div>\n",
       "<style scoped>\n",
       "    .dataframe tbody tr th:only-of-type {\n",
       "        vertical-align: middle;\n",
       "    }\n",
       "\n",
       "    .dataframe tbody tr th {\n",
       "        vertical-align: top;\n",
       "    }\n",
       "\n",
       "    .dataframe thead th {\n",
       "        text-align: right;\n",
       "    }\n",
       "</style>\n",
       "<table border=\"1\" class=\"dataframe\">\n",
       "  <thead>\n",
       "    <tr style=\"text-align: right;\">\n",
       "      <th></th>\n",
       "      <th>total_images</th>\n",
       "      <th>last_price</th>\n",
       "      <th>total_area</th>\n",
       "      <th>first_day_exposition</th>\n",
       "      <th>rooms</th>\n",
       "      <th>ceiling_height</th>\n",
       "      <th>floors_total</th>\n",
       "      <th>living_area</th>\n",
       "      <th>floor</th>\n",
       "      <th>is_apartment</th>\n",
       "      <th>...</th>\n",
       "      <th>kitchen_area</th>\n",
       "      <th>balcony</th>\n",
       "      <th>locality_name</th>\n",
       "      <th>airports_nearest</th>\n",
       "      <th>city_center_nearest</th>\n",
       "      <th>parks_around3000</th>\n",
       "      <th>parks_nearest</th>\n",
       "      <th>ponds_around3000</th>\n",
       "      <th>ponds_nearest</th>\n",
       "      <th>days_exposition</th>\n",
       "    </tr>\n",
       "  </thead>\n",
       "  <tbody>\n",
       "    <tr>\n",
       "      <th>184</th>\n",
       "      <td>7</td>\n",
       "      <td>2600000.0</td>\n",
       "      <td>30.20</td>\n",
       "      <td>2018-02-14T00:00:00</td>\n",
       "      <td>1</td>\n",
       "      <td>2.65</td>\n",
       "      <td>9.0</td>\n",
       "      <td>26.10</td>\n",
       "      <td>5</td>\n",
       "      <td>NaN</td>\n",
       "      <td>...</td>\n",
       "      <td>6.20</td>\n",
       "      <td>NaN</td>\n",
       "      <td>Санкт-Петербург</td>\n",
       "      <td>13952.0</td>\n",
       "      <td>15031.0</td>\n",
       "      <td>0.0</td>\n",
       "      <td>NaN</td>\n",
       "      <td>1.0</td>\n",
       "      <td>824.0</td>\n",
       "      <td>12.0</td>\n",
       "    </tr>\n",
       "    <tr>\n",
       "      <th>424</th>\n",
       "      <td>14</td>\n",
       "      <td>11500000.0</td>\n",
       "      <td>98.00</td>\n",
       "      <td>2016-05-10T00:00:00</td>\n",
       "      <td>3</td>\n",
       "      <td>2.65</td>\n",
       "      <td>3.0</td>\n",
       "      <td>88.00</td>\n",
       "      <td>3</td>\n",
       "      <td>False</td>\n",
       "      <td>...</td>\n",
       "      <td>14.00</td>\n",
       "      <td>1.0</td>\n",
       "      <td>Санкт-Петербург</td>\n",
       "      <td>39363.0</td>\n",
       "      <td>13270.0</td>\n",
       "      <td>0.0</td>\n",
       "      <td>NaN</td>\n",
       "      <td>0.0</td>\n",
       "      <td>NaN</td>\n",
       "      <td>90.0</td>\n",
       "    </tr>\n",
       "    <tr>\n",
       "      <th>440</th>\n",
       "      <td>8</td>\n",
       "      <td>2480000.0</td>\n",
       "      <td>27.11</td>\n",
       "      <td>2018-03-12T00:00:00</td>\n",
       "      <td>0</td>\n",
       "      <td>NaN</td>\n",
       "      <td>17.0</td>\n",
       "      <td>24.75</td>\n",
       "      <td>4</td>\n",
       "      <td>NaN</td>\n",
       "      <td>...</td>\n",
       "      <td>6.00</td>\n",
       "      <td>2.0</td>\n",
       "      <td>Санкт-Петербург</td>\n",
       "      <td>38171.0</td>\n",
       "      <td>15015.0</td>\n",
       "      <td>0.0</td>\n",
       "      <td>NaN</td>\n",
       "      <td>2.0</td>\n",
       "      <td>982.0</td>\n",
       "      <td>64.0</td>\n",
       "    </tr>\n",
       "    <tr>\n",
       "      <th>545</th>\n",
       "      <td>9</td>\n",
       "      <td>4700000.0</td>\n",
       "      <td>23.80</td>\n",
       "      <td>2018-12-28T00:00:00</td>\n",
       "      <td>1</td>\n",
       "      <td>NaN</td>\n",
       "      <td>18.0</td>\n",
       "      <td>20.00</td>\n",
       "      <td>9</td>\n",
       "      <td>NaN</td>\n",
       "      <td>...</td>\n",
       "      <td>5.00</td>\n",
       "      <td>NaN</td>\n",
       "      <td>Санкт-Петербург</td>\n",
       "      <td>9731.0</td>\n",
       "      <td>11849.0</td>\n",
       "      <td>0.0</td>\n",
       "      <td>NaN</td>\n",
       "      <td>0.0</td>\n",
       "      <td>NaN</td>\n",
       "      <td>108.0</td>\n",
       "    </tr>\n",
       "    <tr>\n",
       "      <th>551</th>\n",
       "      <td>8</td>\n",
       "      <td>3100000.0</td>\n",
       "      <td>31.59</td>\n",
       "      <td>2018-03-08T00:00:00</td>\n",
       "      <td>1</td>\n",
       "      <td>2.70</td>\n",
       "      <td>19.0</td>\n",
       "      <td>30.55</td>\n",
       "      <td>2</td>\n",
       "      <td>NaN</td>\n",
       "      <td>...</td>\n",
       "      <td>9.28</td>\n",
       "      <td>2.0</td>\n",
       "      <td>посёлок Мурино</td>\n",
       "      <td>NaN</td>\n",
       "      <td>NaN</td>\n",
       "      <td>NaN</td>\n",
       "      <td>NaN</td>\n",
       "      <td>NaN</td>\n",
       "      <td>NaN</td>\n",
       "      <td>70.0</td>\n",
       "    </tr>\n",
       "    <tr>\n",
       "      <th>...</th>\n",
       "      <td>...</td>\n",
       "      <td>...</td>\n",
       "      <td>...</td>\n",
       "      <td>...</td>\n",
       "      <td>...</td>\n",
       "      <td>...</td>\n",
       "      <td>...</td>\n",
       "      <td>...</td>\n",
       "      <td>...</td>\n",
       "      <td>...</td>\n",
       "      <td>...</td>\n",
       "      <td>...</td>\n",
       "      <td>...</td>\n",
       "      <td>...</td>\n",
       "      <td>...</td>\n",
       "      <td>...</td>\n",
       "      <td>...</td>\n",
       "      <td>...</td>\n",
       "      <td>...</td>\n",
       "      <td>...</td>\n",
       "      <td>...</td>\n",
       "    </tr>\n",
       "    <tr>\n",
       "      <th>22907</th>\n",
       "      <td>9</td>\n",
       "      <td>65000000.0</td>\n",
       "      <td>228.00</td>\n",
       "      <td>2016-06-02T00:00:00</td>\n",
       "      <td>4</td>\n",
       "      <td>NaN</td>\n",
       "      <td>5.0</td>\n",
       "      <td>200.00</td>\n",
       "      <td>2</td>\n",
       "      <td>NaN</td>\n",
       "      <td>...</td>\n",
       "      <td>33.20</td>\n",
       "      <td>NaN</td>\n",
       "      <td>Санкт-Петербург</td>\n",
       "      <td>22783.0</td>\n",
       "      <td>1295.0</td>\n",
       "      <td>3.0</td>\n",
       "      <td>619.0</td>\n",
       "      <td>3.0</td>\n",
       "      <td>269.0</td>\n",
       "      <td>NaN</td>\n",
       "    </tr>\n",
       "    <tr>\n",
       "      <th>23102</th>\n",
       "      <td>0</td>\n",
       "      <td>5800000.0</td>\n",
       "      <td>66.00</td>\n",
       "      <td>2017-06-09T00:00:00</td>\n",
       "      <td>5</td>\n",
       "      <td>NaN</td>\n",
       "      <td>5.0</td>\n",
       "      <td>55.50</td>\n",
       "      <td>1</td>\n",
       "      <td>NaN</td>\n",
       "      <td>...</td>\n",
       "      <td>15.00</td>\n",
       "      <td>0.0</td>\n",
       "      <td>Санкт-Петербург</td>\n",
       "      <td>12007.0</td>\n",
       "      <td>11933.0</td>\n",
       "      <td>0.0</td>\n",
       "      <td>NaN</td>\n",
       "      <td>0.0</td>\n",
       "      <td>NaN</td>\n",
       "      <td>21.0</td>\n",
       "    </tr>\n",
       "    <tr>\n",
       "      <th>23191</th>\n",
       "      <td>3</td>\n",
       "      <td>1900000.0</td>\n",
       "      <td>18.90</td>\n",
       "      <td>2016-04-04T00:00:00</td>\n",
       "      <td>1</td>\n",
       "      <td>NaN</td>\n",
       "      <td>16.0</td>\n",
       "      <td>16.00</td>\n",
       "      <td>12</td>\n",
       "      <td>NaN</td>\n",
       "      <td>...</td>\n",
       "      <td>9.00</td>\n",
       "      <td>0.0</td>\n",
       "      <td>Тосно</td>\n",
       "      <td>NaN</td>\n",
       "      <td>NaN</td>\n",
       "      <td>NaN</td>\n",
       "      <td>NaN</td>\n",
       "      <td>NaN</td>\n",
       "      <td>NaN</td>\n",
       "      <td>115.0</td>\n",
       "    </tr>\n",
       "    <tr>\n",
       "      <th>23202</th>\n",
       "      <td>13</td>\n",
       "      <td>4919880.0</td>\n",
       "      <td>67.92</td>\n",
       "      <td>2018-10-23T00:00:00</td>\n",
       "      <td>2</td>\n",
       "      <td>NaN</td>\n",
       "      <td>3.0</td>\n",
       "      <td>63.00</td>\n",
       "      <td>3</td>\n",
       "      <td>NaN</td>\n",
       "      <td>...</td>\n",
       "      <td>13.04</td>\n",
       "      <td>NaN</td>\n",
       "      <td>Всеволожск</td>\n",
       "      <td>NaN</td>\n",
       "      <td>NaN</td>\n",
       "      <td>NaN</td>\n",
       "      <td>NaN</td>\n",
       "      <td>NaN</td>\n",
       "      <td>NaN</td>\n",
       "      <td>60.0</td>\n",
       "    </tr>\n",
       "    <tr>\n",
       "      <th>23579</th>\n",
       "      <td>7</td>\n",
       "      <td>2350000.0</td>\n",
       "      <td>24.80</td>\n",
       "      <td>2018-06-07T00:00:00</td>\n",
       "      <td>1</td>\n",
       "      <td>NaN</td>\n",
       "      <td>10.0</td>\n",
       "      <td>18.00</td>\n",
       "      <td>2</td>\n",
       "      <td>NaN</td>\n",
       "      <td>...</td>\n",
       "      <td>8.00</td>\n",
       "      <td>NaN</td>\n",
       "      <td>Кудрово</td>\n",
       "      <td>NaN</td>\n",
       "      <td>NaN</td>\n",
       "      <td>NaN</td>\n",
       "      <td>NaN</td>\n",
       "      <td>NaN</td>\n",
       "      <td>NaN</td>\n",
       "      <td>89.0</td>\n",
       "    </tr>\n",
       "  </tbody>\n",
       "</table>\n",
       "<p>201 rows × 22 columns</p>\n",
       "</div>"
      ],
      "text/plain": [
       "       total_images  last_price  total_area first_day_exposition  rooms  \\\n",
       "184               7   2600000.0       30.20  2018-02-14T00:00:00      1   \n",
       "424              14  11500000.0       98.00  2016-05-10T00:00:00      3   \n",
       "440               8   2480000.0       27.11  2018-03-12T00:00:00      0   \n",
       "545               9   4700000.0       23.80  2018-12-28T00:00:00      1   \n",
       "551               8   3100000.0       31.59  2018-03-08T00:00:00      1   \n",
       "...             ...         ...         ...                  ...    ...   \n",
       "22907             9  65000000.0      228.00  2016-06-02T00:00:00      4   \n",
       "23102             0   5800000.0       66.00  2017-06-09T00:00:00      5   \n",
       "23191             3   1900000.0       18.90  2016-04-04T00:00:00      1   \n",
       "23202            13   4919880.0       67.92  2018-10-23T00:00:00      2   \n",
       "23579             7   2350000.0       24.80  2018-06-07T00:00:00      1   \n",
       "\n",
       "       ceiling_height  floors_total  living_area  floor is_apartment  ...  \\\n",
       "184              2.65           9.0        26.10      5          NaN  ...   \n",
       "424              2.65           3.0        88.00      3        False  ...   \n",
       "440               NaN          17.0        24.75      4          NaN  ...   \n",
       "545               NaN          18.0        20.00      9          NaN  ...   \n",
       "551              2.70          19.0        30.55      2          NaN  ...   \n",
       "...               ...           ...          ...    ...          ...  ...   \n",
       "22907             NaN           5.0       200.00      2          NaN  ...   \n",
       "23102             NaN           5.0        55.50      1          NaN  ...   \n",
       "23191             NaN          16.0        16.00     12          NaN  ...   \n",
       "23202             NaN           3.0        63.00      3          NaN  ...   \n",
       "23579             NaN          10.0        18.00      2          NaN  ...   \n",
       "\n",
       "       kitchen_area  balcony    locality_name  airports_nearest  \\\n",
       "184            6.20      NaN  Санкт-Петербург           13952.0   \n",
       "424           14.00      1.0  Санкт-Петербург           39363.0   \n",
       "440            6.00      2.0  Санкт-Петербург           38171.0   \n",
       "545            5.00      NaN  Санкт-Петербург            9731.0   \n",
       "551            9.28      2.0   посёлок Мурино               NaN   \n",
       "...             ...      ...              ...               ...   \n",
       "22907         33.20      NaN  Санкт-Петербург           22783.0   \n",
       "23102         15.00      0.0  Санкт-Петербург           12007.0   \n",
       "23191          9.00      0.0            Тосно               NaN   \n",
       "23202         13.04      NaN       Всеволожск               NaN   \n",
       "23579          8.00      NaN          Кудрово               NaN   \n",
       "\n",
       "      city_center_nearest  parks_around3000  parks_nearest  ponds_around3000  \\\n",
       "184               15031.0               0.0            NaN               1.0   \n",
       "424               13270.0               0.0            NaN               0.0   \n",
       "440               15015.0               0.0            NaN               2.0   \n",
       "545               11849.0               0.0            NaN               0.0   \n",
       "551                   NaN               NaN            NaN               NaN   \n",
       "...                   ...               ...            ...               ...   \n",
       "22907              1295.0               3.0          619.0               3.0   \n",
       "23102             11933.0               0.0            NaN               0.0   \n",
       "23191                 NaN               NaN            NaN               NaN   \n",
       "23202                 NaN               NaN            NaN               NaN   \n",
       "23579                 NaN               NaN            NaN               NaN   \n",
       "\n",
       "       ponds_nearest  days_exposition  \n",
       "184            824.0             12.0  \n",
       "424              NaN             90.0  \n",
       "440            982.0             64.0  \n",
       "545              NaN            108.0  \n",
       "551              NaN             70.0  \n",
       "...              ...              ...  \n",
       "22907          269.0              NaN  \n",
       "23102            NaN             21.0  \n",
       "23191            NaN            115.0  \n",
       "23202            NaN             60.0  \n",
       "23579            NaN             89.0  \n",
       "\n",
       "[201 rows x 22 columns]"
      ]
     },
     "metadata": {},
     "output_type": "display_data"
    }
   ],
   "source": [
    "# посмотрим имеются ли объявления, в которых суммарная площадь меньше \n",
    "# суммы жилой и кухонной площадей\n",
    "display(data.query('total_area < living_area + kitchen_area'))"
   ]
  },
  {
   "cell_type": "code",
   "execution_count": 9,
   "id": "3485cc1c",
   "metadata": {},
   "outputs": [],
   "source": [
    "# таких данных 172 штуки, это менее 1 процента всех данных\n",
    "# полагаю что от этих данных можно избавиться\n",
    "data = data.query('total_area > living_area + kitchen_area')"
   ]
  },
  {
   "cell_type": "code",
   "execution_count": 10,
   "id": "4dfdf6d9",
   "metadata": {},
   "outputs": [],
   "source": [
    "# там где отсутствуют значения балконов сделаем их равными нулю\n",
    "data['balcony'] = data['balcony'].fillna(0)"
   ]
  },
  {
   "cell_type": "code",
   "execution_count": 11,
   "id": "35027441",
   "metadata": {},
   "outputs": [],
   "source": [
    "# где отсутствуют значения апартаментов, будем считать что это не апартаменты\n",
    "data['is_apartment'] = data['is_apartment'].where(data['is_apartment'].isin([True]), False)\n",
    "#display(data.query('is_apartment == True'))"
   ]
  },
  {
   "cell_type": "code",
   "execution_count": 12,
   "id": "26479b98",
   "metadata": {},
   "outputs": [],
   "source": [
    "# поскольку высота потолков зависит от многих данных, например года постройки, конкретного\n",
    "# месторасположения квартиры и прочих данных, которыми мы не располагаем\n",
    "# применю метод с медианами по кол-ву комнат\n",
    "\n",
    "data['ceiling_height'] = (data['ceiling_height']\n",
    "    .fillna(data.groupby('rooms')['ceiling_height']\n",
    "    .transform('median'))\n",
    ")\n",
    "# остается ОДНА квартира, что с ней не так?!\n",
    "# выпилю ее, если не найду причину!!!!"
   ]
  },
  {
   "cell_type": "code",
   "execution_count": 13,
   "id": "a54f69a1",
   "metadata": {},
   "outputs": [],
   "source": [
    "# посмотрим что же за уникальный объект у нас остался\n",
    "data['ceiling_height'] = (data['ceiling_height']\n",
    "    .fillna(data.groupby('total_area')['ceiling_height']\n",
    "    .transform('median'))\n",
    ")"
   ]
  },
  {
   "cell_type": "code",
   "execution_count": 14,
   "id": "36016389",
   "metadata": {},
   "outputs": [
    {
     "data": {
      "text/plain": [
       "5.0     5745\n",
       "9.0     3735\n",
       "16.0    1355\n",
       "12.0    1351\n",
       "4.0     1188\n",
       "10.0    1167\n",
       "25.0    1050\n",
       "6.0      899\n",
       "17.0     824\n",
       "3.0      657\n",
       "7.0      585\n",
       "14.0     547\n",
       "18.0     492\n",
       "24.0     459\n",
       "8.0      387\n",
       "2.0      374\n",
       "15.0     363\n",
       "23.0     345\n",
       "19.0     329\n",
       "22.0     279\n",
       "20.0     268\n",
       "13.0     227\n",
       "11.0     201\n",
       "27.0     160\n",
       "21.0     150\n",
       "26.0     123\n",
       "35.0      23\n",
       "1.0       23\n",
       "28.0      21\n",
       "36.0       3\n",
       "34.0       1\n",
       "60.0       1\n",
       "29.0       1\n",
       "33.0       1\n",
       "52.0       1\n",
       "37.0       1\n",
       "Name: floors_total, dtype: int64"
      ]
     },
     "metadata": {},
     "output_type": "display_data"
    },
    {
     "data": {
      "text/html": [
       "<div>\n",
       "<style scoped>\n",
       "    .dataframe tbody tr th:only-of-type {\n",
       "        vertical-align: middle;\n",
       "    }\n",
       "\n",
       "    .dataframe tbody tr th {\n",
       "        vertical-align: top;\n",
       "    }\n",
       "\n",
       "    .dataframe thead th {\n",
       "        text-align: right;\n",
       "    }\n",
       "</style>\n",
       "<table border=\"1\" class=\"dataframe\">\n",
       "  <thead>\n",
       "    <tr style=\"text-align: right;\">\n",
       "      <th></th>\n",
       "      <th>total_images</th>\n",
       "      <th>last_price</th>\n",
       "      <th>total_area</th>\n",
       "      <th>first_day_exposition</th>\n",
       "      <th>rooms</th>\n",
       "      <th>ceiling_height</th>\n",
       "      <th>floors_total</th>\n",
       "      <th>living_area</th>\n",
       "      <th>floor</th>\n",
       "      <th>is_apartment</th>\n",
       "      <th>...</th>\n",
       "      <th>kitchen_area</th>\n",
       "      <th>balcony</th>\n",
       "      <th>locality_name</th>\n",
       "      <th>airports_nearest</th>\n",
       "      <th>city_center_nearest</th>\n",
       "      <th>parks_around3000</th>\n",
       "      <th>parks_nearest</th>\n",
       "      <th>ponds_around3000</th>\n",
       "      <th>ponds_nearest</th>\n",
       "      <th>days_exposition</th>\n",
       "    </tr>\n",
       "  </thead>\n",
       "  <tbody>\n",
       "    <tr>\n",
       "      <th>2253</th>\n",
       "      <td>12</td>\n",
       "      <td>3800000.0</td>\n",
       "      <td>45.5</td>\n",
       "      <td>2018-06-28T00:00:00</td>\n",
       "      <td>2</td>\n",
       "      <td>2.88</td>\n",
       "      <td>60.0</td>\n",
       "      <td>27.4</td>\n",
       "      <td>4</td>\n",
       "      <td>False</td>\n",
       "      <td>...</td>\n",
       "      <td>7.4</td>\n",
       "      <td>0.0</td>\n",
       "      <td>Кронштадт</td>\n",
       "      <td>67763.0</td>\n",
       "      <td>49488.0</td>\n",
       "      <td>2.0</td>\n",
       "      <td>342.0</td>\n",
       "      <td>3.0</td>\n",
       "      <td>614.0</td>\n",
       "      <td>166.0</td>\n",
       "    </tr>\n",
       "  </tbody>\n",
       "</table>\n",
       "<p>1 rows × 22 columns</p>\n",
       "</div>"
      ],
      "text/plain": [
       "      total_images  last_price  total_area first_day_exposition  rooms  \\\n",
       "2253            12   3800000.0        45.5  2018-06-28T00:00:00      2   \n",
       "\n",
       "      ceiling_height  floors_total  living_area  floor is_apartment  ...  \\\n",
       "2253            2.88          60.0         27.4      4        False  ...   \n",
       "\n",
       "      kitchen_area  balcony  locality_name  airports_nearest  \\\n",
       "2253           7.4      0.0      Кронштадт           67763.0   \n",
       "\n",
       "     city_center_nearest  parks_around3000  parks_nearest  ponds_around3000  \\\n",
       "2253             49488.0               2.0          342.0               3.0   \n",
       "\n",
       "      ponds_nearest  days_exposition  \n",
       "2253          614.0            166.0  \n",
       "\n",
       "[1 rows x 22 columns]"
      ]
     },
     "metadata": {},
     "output_type": "display_data"
    }
   ],
   "source": [
    "# проверим какие есть вообще значения этажности дома\n",
    "display(data['floors_total'].value_counts())\n",
    "# 60й этаж кажется подозрительным, посмотрим где находится квартира\n",
    "display(data.query('floors_total == 60'))\n",
    "# в Кронштадте точно нет небоскребов, скорее всего это ошибка\n",
    "data.loc[data['floors_total'] == 60, 'floors_total'] = 6"
   ]
  },
  {
   "cell_type": "code",
   "execution_count": 15,
   "id": "33a7e495",
   "metadata": {},
   "outputs": [],
   "source": [
    "# days_exposition не буду менять не на что, поскольку, вероятно, если нет значения - объявление еще не снято\n",
    "# заменю его на 0\n",
    "data['days_exposition'] = data['days_exposition'].fillna(0)"
   ]
  },
  {
   "cell_type": "code",
   "execution_count": 16,
   "id": "bbbefa53",
   "metadata": {},
   "outputs": [
    {
     "data": {
      "text/html": [
       "<div>\n",
       "<style scoped>\n",
       "    .dataframe tbody tr th:only-of-type {\n",
       "        vertical-align: middle;\n",
       "    }\n",
       "\n",
       "    .dataframe tbody tr th {\n",
       "        vertical-align: top;\n",
       "    }\n",
       "\n",
       "    .dataframe thead th {\n",
       "        text-align: right;\n",
       "    }\n",
       "</style>\n",
       "<table border=\"1\" class=\"dataframe\">\n",
       "  <thead>\n",
       "    <tr style=\"text-align: right;\">\n",
       "      <th></th>\n",
       "      <th>total_images</th>\n",
       "      <th>last_price</th>\n",
       "      <th>total_area</th>\n",
       "      <th>first_day_exposition</th>\n",
       "      <th>rooms</th>\n",
       "      <th>ceiling_height</th>\n",
       "      <th>floors_total</th>\n",
       "      <th>living_area</th>\n",
       "      <th>floor</th>\n",
       "      <th>is_apartment</th>\n",
       "      <th>...</th>\n",
       "      <th>kitchen_area</th>\n",
       "      <th>balcony</th>\n",
       "      <th>locality_name</th>\n",
       "      <th>airports_nearest</th>\n",
       "      <th>city_center_nearest</th>\n",
       "      <th>parks_around3000</th>\n",
       "      <th>parks_nearest</th>\n",
       "      <th>ponds_around3000</th>\n",
       "      <th>ponds_nearest</th>\n",
       "      <th>days_exposition</th>\n",
       "    </tr>\n",
       "  </thead>\n",
       "  <tbody>\n",
       "    <tr>\n",
       "      <th>186</th>\n",
       "      <td>12</td>\n",
       "      <td>11640000.0</td>\n",
       "      <td>65.2</td>\n",
       "      <td>2018-10-02T00:00:00</td>\n",
       "      <td>2</td>\n",
       "      <td>2.60</td>\n",
       "      <td>0.0</td>\n",
       "      <td>30.80</td>\n",
       "      <td>4</td>\n",
       "      <td>False</td>\n",
       "      <td>...</td>\n",
       "      <td>12.00</td>\n",
       "      <td>0.0</td>\n",
       "      <td>Санкт-Петербург</td>\n",
       "      <td>39197.0</td>\n",
       "      <td>12373.0</td>\n",
       "      <td>1.0</td>\n",
       "      <td>123.0</td>\n",
       "      <td>0.0</td>\n",
       "      <td>NaN</td>\n",
       "      <td>49.0</td>\n",
       "    </tr>\n",
       "    <tr>\n",
       "      <th>237</th>\n",
       "      <td>4</td>\n",
       "      <td>2438033.0</td>\n",
       "      <td>28.1</td>\n",
       "      <td>2016-11-23T00:00:00</td>\n",
       "      <td>1</td>\n",
       "      <td>2.64</td>\n",
       "      <td>0.0</td>\n",
       "      <td>20.75</td>\n",
       "      <td>1</td>\n",
       "      <td>False</td>\n",
       "      <td>...</td>\n",
       "      <td>6.80</td>\n",
       "      <td>0.0</td>\n",
       "      <td>Санкт-Петербург</td>\n",
       "      <td>22041.0</td>\n",
       "      <td>17369.0</td>\n",
       "      <td>0.0</td>\n",
       "      <td>NaN</td>\n",
       "      <td>1.0</td>\n",
       "      <td>374.0</td>\n",
       "      <td>251.0</td>\n",
       "    </tr>\n",
       "    <tr>\n",
       "      <th>457</th>\n",
       "      <td>4</td>\n",
       "      <td>9788348.0</td>\n",
       "      <td>70.8</td>\n",
       "      <td>2015-08-01T00:00:00</td>\n",
       "      <td>2</td>\n",
       "      <td>2.60</td>\n",
       "      <td>0.0</td>\n",
       "      <td>38.40</td>\n",
       "      <td>12</td>\n",
       "      <td>False</td>\n",
       "      <td>...</td>\n",
       "      <td>10.63</td>\n",
       "      <td>0.0</td>\n",
       "      <td>Санкт-Петербург</td>\n",
       "      <td>37364.0</td>\n",
       "      <td>8322.0</td>\n",
       "      <td>2.0</td>\n",
       "      <td>309.0</td>\n",
       "      <td>2.0</td>\n",
       "      <td>706.0</td>\n",
       "      <td>727.0</td>\n",
       "    </tr>\n",
       "    <tr>\n",
       "      <th>671</th>\n",
       "      <td>4</td>\n",
       "      <td>6051191.0</td>\n",
       "      <td>93.6</td>\n",
       "      <td>2017-04-06T00:00:00</td>\n",
       "      <td>3</td>\n",
       "      <td>2.65</td>\n",
       "      <td>0.0</td>\n",
       "      <td>47.10</td>\n",
       "      <td>8</td>\n",
       "      <td>False</td>\n",
       "      <td>...</td>\n",
       "      <td>16.80</td>\n",
       "      <td>0.0</td>\n",
       "      <td>Санкт-Петербург</td>\n",
       "      <td>22041.0</td>\n",
       "      <td>17369.0</td>\n",
       "      <td>0.0</td>\n",
       "      <td>NaN</td>\n",
       "      <td>1.0</td>\n",
       "      <td>374.0</td>\n",
       "      <td>123.0</td>\n",
       "    </tr>\n",
       "    <tr>\n",
       "      <th>1757</th>\n",
       "      <td>5</td>\n",
       "      <td>3600000.0</td>\n",
       "      <td>39.0</td>\n",
       "      <td>2017-04-22T00:00:00</td>\n",
       "      <td>1</td>\n",
       "      <td>2.64</td>\n",
       "      <td>0.0</td>\n",
       "      <td>18.00</td>\n",
       "      <td>9</td>\n",
       "      <td>False</td>\n",
       "      <td>...</td>\n",
       "      <td>10.00</td>\n",
       "      <td>0.0</td>\n",
       "      <td>Санкт-Петербург</td>\n",
       "      <td>22735.0</td>\n",
       "      <td>11618.0</td>\n",
       "      <td>1.0</td>\n",
       "      <td>835.0</td>\n",
       "      <td>1.0</td>\n",
       "      <td>652.0</td>\n",
       "      <td>77.0</td>\n",
       "    </tr>\n",
       "    <tr>\n",
       "      <th>...</th>\n",
       "      <td>...</td>\n",
       "      <td>...</td>\n",
       "      <td>...</td>\n",
       "      <td>...</td>\n",
       "      <td>...</td>\n",
       "      <td>...</td>\n",
       "      <td>...</td>\n",
       "      <td>...</td>\n",
       "      <td>...</td>\n",
       "      <td>...</td>\n",
       "      <td>...</td>\n",
       "      <td>...</td>\n",
       "      <td>...</td>\n",
       "      <td>...</td>\n",
       "      <td>...</td>\n",
       "      <td>...</td>\n",
       "      <td>...</td>\n",
       "      <td>...</td>\n",
       "      <td>...</td>\n",
       "      <td>...</td>\n",
       "      <td>...</td>\n",
       "    </tr>\n",
       "    <tr>\n",
       "      <th>22542</th>\n",
       "      <td>5</td>\n",
       "      <td>8500000.0</td>\n",
       "      <td>63.5</td>\n",
       "      <td>2017-05-24T00:00:00</td>\n",
       "      <td>2</td>\n",
       "      <td>2.80</td>\n",
       "      <td>0.0</td>\n",
       "      <td>32.75</td>\n",
       "      <td>3</td>\n",
       "      <td>False</td>\n",
       "      <td>...</td>\n",
       "      <td>11.00</td>\n",
       "      <td>0.0</td>\n",
       "      <td>Санкт-Петербург</td>\n",
       "      <td>51340.0</td>\n",
       "      <td>15363.0</td>\n",
       "      <td>0.0</td>\n",
       "      <td>NaN</td>\n",
       "      <td>1.0</td>\n",
       "      <td>853.0</td>\n",
       "      <td>512.0</td>\n",
       "    </tr>\n",
       "    <tr>\n",
       "      <th>22656</th>\n",
       "      <td>4</td>\n",
       "      <td>4574160.0</td>\n",
       "      <td>64.5</td>\n",
       "      <td>2017-04-02T00:00:00</td>\n",
       "      <td>2</td>\n",
       "      <td>2.60</td>\n",
       "      <td>0.0</td>\n",
       "      <td>31.70</td>\n",
       "      <td>20</td>\n",
       "      <td>False</td>\n",
       "      <td>...</td>\n",
       "      <td>14.40</td>\n",
       "      <td>0.0</td>\n",
       "      <td>Санкт-Петербург</td>\n",
       "      <td>22041.0</td>\n",
       "      <td>17369.0</td>\n",
       "      <td>0.0</td>\n",
       "      <td>NaN</td>\n",
       "      <td>1.0</td>\n",
       "      <td>374.0</td>\n",
       "      <td>127.0</td>\n",
       "    </tr>\n",
       "    <tr>\n",
       "      <th>22808</th>\n",
       "      <td>0</td>\n",
       "      <td>14569263.0</td>\n",
       "      <td>110.4</td>\n",
       "      <td>2016-11-20T00:00:00</td>\n",
       "      <td>3</td>\n",
       "      <td>2.65</td>\n",
       "      <td>0.0</td>\n",
       "      <td>45.38</td>\n",
       "      <td>6</td>\n",
       "      <td>False</td>\n",
       "      <td>...</td>\n",
       "      <td>23.42</td>\n",
       "      <td>0.0</td>\n",
       "      <td>Санкт-Петербург</td>\n",
       "      <td>19095.0</td>\n",
       "      <td>4529.0</td>\n",
       "      <td>0.0</td>\n",
       "      <td>NaN</td>\n",
       "      <td>0.0</td>\n",
       "      <td>NaN</td>\n",
       "      <td>260.0</td>\n",
       "    </tr>\n",
       "    <tr>\n",
       "      <th>23590</th>\n",
       "      <td>0</td>\n",
       "      <td>21187872.0</td>\n",
       "      <td>123.3</td>\n",
       "      <td>2017-04-25T00:00:00</td>\n",
       "      <td>3</td>\n",
       "      <td>2.65</td>\n",
       "      <td>0.0</td>\n",
       "      <td>50.40</td>\n",
       "      <td>18</td>\n",
       "      <td>False</td>\n",
       "      <td>...</td>\n",
       "      <td>23.60</td>\n",
       "      <td>0.0</td>\n",
       "      <td>Санкт-Петербург</td>\n",
       "      <td>19095.0</td>\n",
       "      <td>4529.0</td>\n",
       "      <td>0.0</td>\n",
       "      <td>NaN</td>\n",
       "      <td>0.0</td>\n",
       "      <td>NaN</td>\n",
       "      <td>104.0</td>\n",
       "    </tr>\n",
       "    <tr>\n",
       "      <th>23658</th>\n",
       "      <td>6</td>\n",
       "      <td>3063600.0</td>\n",
       "      <td>43.8</td>\n",
       "      <td>2016-11-28T00:00:00</td>\n",
       "      <td>1</td>\n",
       "      <td>2.70</td>\n",
       "      <td>0.0</td>\n",
       "      <td>14.00</td>\n",
       "      <td>8</td>\n",
       "      <td>False</td>\n",
       "      <td>...</td>\n",
       "      <td>15.50</td>\n",
       "      <td>2.0</td>\n",
       "      <td>Санкт-Петербург</td>\n",
       "      <td>8426.0</td>\n",
       "      <td>12082.0</td>\n",
       "      <td>2.0</td>\n",
       "      <td>24.0</td>\n",
       "      <td>1.0</td>\n",
       "      <td>271.0</td>\n",
       "      <td>246.0</td>\n",
       "    </tr>\n",
       "  </tbody>\n",
       "</table>\n",
       "<p>80 rows × 22 columns</p>\n",
       "</div>"
      ],
      "text/plain": [
       "       total_images  last_price  total_area first_day_exposition  rooms  \\\n",
       "186              12  11640000.0        65.2  2018-10-02T00:00:00      2   \n",
       "237               4   2438033.0        28.1  2016-11-23T00:00:00      1   \n",
       "457               4   9788348.0        70.8  2015-08-01T00:00:00      2   \n",
       "671               4   6051191.0        93.6  2017-04-06T00:00:00      3   \n",
       "1757              5   3600000.0        39.0  2017-04-22T00:00:00      1   \n",
       "...             ...         ...         ...                  ...    ...   \n",
       "22542             5   8500000.0        63.5  2017-05-24T00:00:00      2   \n",
       "22656             4   4574160.0        64.5  2017-04-02T00:00:00      2   \n",
       "22808             0  14569263.0       110.4  2016-11-20T00:00:00      3   \n",
       "23590             0  21187872.0       123.3  2017-04-25T00:00:00      3   \n",
       "23658             6   3063600.0        43.8  2016-11-28T00:00:00      1   \n",
       "\n",
       "       ceiling_height  floors_total  living_area  floor is_apartment  ...  \\\n",
       "186              2.60           0.0        30.80      4        False  ...   \n",
       "237              2.64           0.0        20.75      1        False  ...   \n",
       "457              2.60           0.0        38.40     12        False  ...   \n",
       "671              2.65           0.0        47.10      8        False  ...   \n",
       "1757             2.64           0.0        18.00      9        False  ...   \n",
       "...               ...           ...          ...    ...          ...  ...   \n",
       "22542            2.80           0.0        32.75      3        False  ...   \n",
       "22656            2.60           0.0        31.70     20        False  ...   \n",
       "22808            2.65           0.0        45.38      6        False  ...   \n",
       "23590            2.65           0.0        50.40     18        False  ...   \n",
       "23658            2.70           0.0        14.00      8        False  ...   \n",
       "\n",
       "       kitchen_area  balcony    locality_name  airports_nearest  \\\n",
       "186           12.00      0.0  Санкт-Петербург           39197.0   \n",
       "237            6.80      0.0  Санкт-Петербург           22041.0   \n",
       "457           10.63      0.0  Санкт-Петербург           37364.0   \n",
       "671           16.80      0.0  Санкт-Петербург           22041.0   \n",
       "1757          10.00      0.0  Санкт-Петербург           22735.0   \n",
       "...             ...      ...              ...               ...   \n",
       "22542         11.00      0.0  Санкт-Петербург           51340.0   \n",
       "22656         14.40      0.0  Санкт-Петербург           22041.0   \n",
       "22808         23.42      0.0  Санкт-Петербург           19095.0   \n",
       "23590         23.60      0.0  Санкт-Петербург           19095.0   \n",
       "23658         15.50      2.0  Санкт-Петербург            8426.0   \n",
       "\n",
       "      city_center_nearest  parks_around3000  parks_nearest  ponds_around3000  \\\n",
       "186               12373.0               1.0          123.0               0.0   \n",
       "237               17369.0               0.0            NaN               1.0   \n",
       "457                8322.0               2.0          309.0               2.0   \n",
       "671               17369.0               0.0            NaN               1.0   \n",
       "1757              11618.0               1.0          835.0               1.0   \n",
       "...                   ...               ...            ...               ...   \n",
       "22542             15363.0               0.0            NaN               1.0   \n",
       "22656             17369.0               0.0            NaN               1.0   \n",
       "22808              4529.0               0.0            NaN               0.0   \n",
       "23590              4529.0               0.0            NaN               0.0   \n",
       "23658             12082.0               2.0           24.0               1.0   \n",
       "\n",
       "       ponds_nearest  days_exposition  \n",
       "186              NaN             49.0  \n",
       "237            374.0            251.0  \n",
       "457            706.0            727.0  \n",
       "671            374.0            123.0  \n",
       "1757           652.0             77.0  \n",
       "...              ...              ...  \n",
       "22542          853.0            512.0  \n",
       "22656          374.0            127.0  \n",
       "22808            NaN            260.0  \n",
       "23590            NaN            104.0  \n",
       "23658          271.0            246.0  \n",
       "\n",
       "[80 rows x 22 columns]"
      ]
     },
     "execution_count": 16,
     "metadata": {},
     "output_type": "execute_result"
    }
   ],
   "source": [
    "# что делать с суммарным количеством этажей тоже не понятно, поскольку не ясно как восстановить\n",
    "# данные\n",
    "data['floors_total'] = data['floors_total'].fillna(0)\n",
    "data.query('floors_total == 0')"
   ]
  },
  {
   "cell_type": "code",
   "execution_count": 17,
   "id": "5c8603b8",
   "metadata": {
    "scrolled": false
   },
   "outputs": [
    {
     "data": {
      "text/plain": [
       "array(['Санкт-Петербург', 'посёлок Шушары', 'городской посёлок Янино-1',\n",
       "       'посёлок Парголово', 'посёлок Мурино', 'Ломоносов', 'Сертолово',\n",
       "       'Петергоф', 'Пушкин', 'деревня Кудрово', 'Коммунар', 'Колпино',\n",
       "       'поселок городского типа Красный Бор', 'Гатчина', 'поселок Мурино',\n",
       "       'деревня Фёдоровское', 'Выборг', 'Кронштадт', 'Кировск',\n",
       "       'деревня Новое Девяткино', 'посёлок Металлострой',\n",
       "       'посёлок городского типа Лебяжье',\n",
       "       'посёлок городского типа Сиверский', 'поселок Молодцово',\n",
       "       'поселок городского типа Кузьмоловский',\n",
       "       'садовое товарищество Новая Ропша', 'Павловск',\n",
       "       'деревня Пикколово', 'Всеволожск', 'Волхов', 'Кингисепп',\n",
       "       'Приозерск', 'Сестрорецк', 'деревня Куттузи', 'посёлок Аннино',\n",
       "       'поселок городского типа Ефимовский', 'посёлок Плодовое',\n",
       "       'деревня Заклинье', 'поселок Торковичи', 'поселок Первомайское',\n",
       "       'Красное Село', 'посёлок Понтонный', 'Сясьстрой', 'деревня Старая',\n",
       "       'деревня Лесколово', 'посёлок Новый Свет', 'Сланцы',\n",
       "       'село Путилово', 'Ивангород', 'Мурино', 'Шлиссельбург',\n",
       "       'Никольское', 'Зеленогорск', 'Сосновый Бор', 'поселок Новый Свет',\n",
       "       'деревня Оржицы', 'деревня Кальтино', 'Кудрово',\n",
       "       'поселок Романовка', 'посёлок Бугры', 'поселок Бугры',\n",
       "       'поселок городского типа Рощино', 'Кириши', 'Луга', 'Волосово',\n",
       "       'Отрадное', 'село Павлово', 'поселок Оредеж', 'село Копорье',\n",
       "       'посёлок городского типа Красный Бор', 'посёлок Молодёжное',\n",
       "       'Тихвин', 'посёлок Победа', 'деревня Нурма',\n",
       "       'поселок городского типа Синявино', 'Тосно',\n",
       "       'посёлок городского типа Кузьмоловский', 'посёлок Стрельна',\n",
       "       'Бокситогорск', 'посёлок Александровская', 'деревня Лопухинка',\n",
       "       'Пикалёво', 'поселок Терволово',\n",
       "       'поселок городского типа Советский', 'Подпорожье',\n",
       "       'посёлок Петровское', 'посёлок городского типа Токсово',\n",
       "       'поселок Сельцо', 'посёлок городского типа Вырица',\n",
       "       'деревня Кипень', 'деревня Келози', 'деревня Вартемяги',\n",
       "       'посёлок Тельмана', 'поселок Севастьяново',\n",
       "       'городской поселок Большая Ижора', nan,\n",
       "       'городской посёлок Павлово', 'деревня Агалатово',\n",
       "       'посёлок Новогорелово', 'городской посёлок Лесогорский',\n",
       "       'деревня Лаголово', 'поселок Цвелодубово',\n",
       "       'поселок городского типа Рахья', 'поселок городского типа Вырица',\n",
       "       'деревня Белогорка', 'поселок Заводской',\n",
       "       'городской посёлок Новоселье', 'деревня Большие Колпаны',\n",
       "       'деревня Горбунки', 'деревня Батово', 'деревня Заневка',\n",
       "       'деревня Иссад', 'Приморск', 'городской посёлок Фёдоровское',\n",
       "       'деревня Мистолово', 'Новая Ладога', 'поселок Зимитицы',\n",
       "       'поселок Барышево', 'деревня Разметелево',\n",
       "       'поселок городского типа имени Свердлова', 'деревня Пеники',\n",
       "       'поселок Рябово', 'деревня Пудомяги', 'поселок станции Корнево',\n",
       "       'деревня Низино', 'деревня Бегуницы', 'посёлок Поляны',\n",
       "       'городской посёлок Мга', 'поселок Елизаветино',\n",
       "       'посёлок городского типа Кузнечное', 'деревня Колтуши',\n",
       "       'поселок Запорожское', 'посёлок городского типа Рощино',\n",
       "       'деревня Гостилицы', 'деревня Малое Карлино',\n",
       "       'посёлок Мичуринское', 'посёлок городского типа имени Морозова',\n",
       "       'посёлок Песочный', 'посёлок Сосново', 'деревня Аро',\n",
       "       'поселок Ильичёво', 'посёлок городского типа Тайцы',\n",
       "       'деревня Малое Верево', 'деревня Извара', 'поселок станции Вещево',\n",
       "       'село Паша', 'деревня Калитино',\n",
       "       'посёлок городского типа Ульяновка', 'деревня Чудской Бор',\n",
       "       'поселок городского типа Дубровка', 'деревня Мины',\n",
       "       'поселок Войсковицы', 'посёлок городского типа имени Свердлова',\n",
       "       'деревня Коркино', 'посёлок Ропша',\n",
       "       'поселок городского типа Приладожский', 'посёлок Щеглово',\n",
       "       'Лодейное Поле', 'деревня Рабитицы',\n",
       "       'поселок городского типа Никольский', 'деревня Кузьмолово',\n",
       "       'деревня Малые Колпаны', 'поселок Тельмана',\n",
       "       'посёлок Петро-Славянка', 'городской посёлок Назия',\n",
       "       'посёлок Репино', 'посёлок Ильичёво', 'поселок Углово',\n",
       "       'поселок Старая Малукса', 'садовое товарищество Рахья',\n",
       "       'поселок Аннино', 'поселок Победа', 'деревня Меньково',\n",
       "       'деревня Старые Бегуницы', 'посёлок Сапёрный', 'поселок Семрино',\n",
       "       'поселок Гаврилово', 'поселок Глажево', 'поселок Кобринское',\n",
       "       'деревня Гарболово', 'поселок станции Приветнинское',\n",
       "       'деревня Мануйлово', 'деревня Пчева', 'поселок Поляны',\n",
       "       'поселок Цвылёво', 'поселок Мельниково', 'посёлок Пудость',\n",
       "       'посёлок Усть-Луга', 'Светогорск', 'поселок Селезнёво',\n",
       "       'поселок городского типа Рябово', 'Каменногорск', 'деревня Кривко',\n",
       "       'поселок Глебычево', 'деревня Парицы', 'поселок Жилпосёлок',\n",
       "       'посёлок городского типа Мга', 'городской поселок Янино-1',\n",
       "       'посёлок Войскорово', 'село Никольское', 'посёлок Терволово',\n",
       "       'поселок Стеклянный', 'посёлок городского типа Важины',\n",
       "       'посёлок Мыза-Ивановка', 'село Русско-Высоцкое',\n",
       "       'поселок городского типа Лебяжье',\n",
       "       'поселок городского типа Форносово', 'село Старая Ладога',\n",
       "       'поселок Житково', 'городской посёлок Виллози', 'деревня Лампово',\n",
       "       'деревня Шпаньково', 'деревня Лаврики', 'посёлок Сумино',\n",
       "       'посёлок Возрождение', 'деревня Старосиверская',\n",
       "       'посёлок Кикерино', 'поселок Возрождение',\n",
       "       'деревня Старое Хинколово', 'посёлок Пригородный',\n",
       "       'посёлок Торфяное', 'Любань', 'городской посёлок Будогощь',\n",
       "       'поселок Суходолье', 'поселок Красная Долина', 'деревня Хапо-Ое',\n",
       "       'поселок городского типа Дружная Горка', 'поселок Лисий Нос',\n",
       "       'деревня Яльгелево', 'посёлок Стеклянный', 'село Рождествено',\n",
       "       'деревня Старополье', 'посёлок Левашово', 'деревня Сяськелево',\n",
       "       'деревня Камышовка',\n",
       "       'садоводческое некоммерческое товарищество Лесная Поляна',\n",
       "       'деревня Хязельки', 'поселок Жилгородок',\n",
       "       'посёлок городского типа Павлово', 'деревня Ялгино',\n",
       "       'поселок Новый Учхоз', 'городской посёлок Рощино',\n",
       "       'поселок Гончарово', 'поселок Почап', 'посёлок Сапёрное',\n",
       "       'посёлок Платформа 69-й километр', 'поселок Каложицы',\n",
       "       'деревня Фалилеево', 'посёлок Гаврилово', 'деревня Пельгора',\n",
       "       'поселок городского типа Лесогорский', 'деревня Торошковичи',\n",
       "       'посёлок Белоостров', 'посёлок Алексеевка', 'поселок Серебрянский',\n",
       "       'поселок Лукаши', 'поселок Петровское', 'деревня Щеглово',\n",
       "       'поселок Мичуринское', 'деревня Тарасово', 'поселок Кингисеппский',\n",
       "       'посёлок при железнодорожной станции Вещево', 'поселок Ушаки',\n",
       "       'деревня Котлы', 'деревня Сижно', 'деревня Торосово',\n",
       "       'посёлок Форт Красная Горка', 'поселок городского типа Токсово',\n",
       "       'деревня Новолисино', 'посёлок станции Громово', 'деревня Глинка',\n",
       "       'посёлок Мельниково', 'поселок городского типа Назия',\n",
       "       'деревня Старая Пустошь', 'поселок Коммунары', 'поселок Починок',\n",
       "       'посёлок городского типа Вознесенье', 'деревня Разбегаево',\n",
       "       'посёлок городского типа Рябово', 'поселок Гладкое',\n",
       "       'деревня Юкки',\n",
       "       'посёлок при железнодорожной станции Приветнинское',\n",
       "       'поселок Тёсово-4', 'посёлок Жилгородок', 'деревня Бор',\n",
       "       'посёлок Коробицыно', 'деревня Большая Вруда', 'деревня Курковицы',\n",
       "       'посёлок Лисий Нос', 'городской посёлок Советский',\n",
       "       'посёлок Кобралово', 'деревня Суоранда', 'поселок Кобралово',\n",
       "       'поселок городского типа Кондратьево',\n",
       "       'коттеджный поселок Счастье', 'поселок Любань', 'деревня Реброво',\n",
       "       'деревня Зимитицы', 'деревня Тойворово', 'поселок Семиозерье',\n",
       "       'поселок Лесное', 'поселок Совхозный', 'поселок Усть-Луга',\n",
       "       'посёлок Ленинское', 'посёлок Суйда',\n",
       "       'посёлок городского типа Форносово', 'деревня Нижние Осельки',\n",
       "       'посёлок станции Свирь', 'поселок Перово', 'Высоцк',\n",
       "       'поселок Гарболово', 'село Шум', 'поселок Котельский',\n",
       "       'поселок станции Лужайка', 'деревня Большая Пустомержа',\n",
       "       'поселок Красносельское', 'деревня Вахнова Кара', 'деревня Пижма',\n",
       "       'коттеджный поселок Кивеннапа Север', 'поселок Коробицыно',\n",
       "       'поселок Ромашки', 'посёлок Перово', 'деревня Каськово',\n",
       "       'деревня Куровицы', 'посёлок Плоское', 'поселок Сумино',\n",
       "       'поселок городского типа Большая Ижора', 'поселок Кирпичное',\n",
       "       'деревня Ям-Тесово', 'деревня Раздолье', 'деревня Терпилицы',\n",
       "       'посёлок Шугозеро', 'деревня Ваганово', 'поселок Пушное',\n",
       "       'садовое товарищество Садко', 'посёлок Усть-Ижора',\n",
       "       'городской посёлок Свирьстрой', 'поселок Громово',\n",
       "       'деревня Кисельня', 'посёлок Старая Малукса',\n",
       "       'деревня Трубников Бор', 'поселок Калитино',\n",
       "       'посёлок Высокоключевой', 'садовое товарищество Приладожский',\n",
       "       'посёлок Пансионат Зелёный Бор', 'деревня Выскатка',\n",
       "       'деревня Ненимяки', 'поселок Пансионат Зелёный Бор',\n",
       "       'деревня Снегирёвка', 'деревня Рапполово', 'деревня Пустынка',\n",
       "       'поселок Рабитицы', 'деревня Большой Сабск', 'деревня Русско',\n",
       "       'деревня Лупполово', 'деревня Большое Рейзино',\n",
       "       'деревня Малая Романовка', 'поселок Дружноселье', 'поселок Пчевжа',\n",
       "       'поселок Володарское', 'деревня Нижняя',\n",
       "       'коттеджный посёлок Лесное', 'деревня Тихковицы',\n",
       "       'деревня Борисова Грива', 'посёлок Дзержинского'], dtype=object)"
      ]
     },
     "execution_count": 17,
     "metadata": {},
     "output_type": "execute_result"
    }
   ],
   "source": [
    "# просмотрим все уникальные значения названий населенных пунктов\n",
    "data['locality_name'].unique()"
   ]
  },
  {
   "cell_type": "code",
   "execution_count": 18,
   "id": "a8803183",
   "metadata": {},
   "outputs": [],
   "source": [
    "data['locality_name'] = data['locality_name'].str.replace('ё', 'е', regex=True)"
   ]
  },
  {
   "cell_type": "code",
   "execution_count": 19,
   "id": "f8b75333",
   "metadata": {},
   "outputs": [],
   "source": [
    "# с пропусками в названии населенного пункта поступим так - мы не можем ни по каким данным\n",
    "# его воспроизвести, так что следует заменить его на 'unknown'\n",
    "data['locality_name'] = data['locality_name'].fillna('unknown')"
   ]
  },
  {
   "cell_type": "code",
   "execution_count": 20,
   "id": "35b71624",
   "metadata": {},
   "outputs": [],
   "source": [
    "# заменю расстояние до центра медианными значениями по сгруппированным по стоимости квартир данным\n",
    "\n",
    "\n",
    "data['city_center_nearest'] = (data['city_center_nearest']\n",
    "    .fillna(data.groupby(['locality_name'])['city_center_nearest']\n",
    "    .transform('median'))\n",
    ")\n",
    "\n",
    "data['city_center_nearest'] = round(data['city_center_nearest'] / 1000)\n"
   ]
  },
  {
   "cell_type": "code",
   "execution_count": 21,
   "id": "1067c73d",
   "metadata": {},
   "outputs": [],
   "source": [
    "# заменю расствояние до аэропорта\n",
    "data['airports_nearest'] = (data['airports_nearest']\n",
    "                               .fillna(data.groupby(['locality_name', 'last_price'])['airports_nearest']\n",
    "                               .transform('median'))\n",
    "                              )\n"
   ]
  },
  {
   "cell_type": "markdown",
   "id": "190beabd",
   "metadata": {},
   "source": [
    "Данные о расстоянии до аэропорта, ближайшего пруда/парка и кол-во прудов и парков не фигурируют в дальнейших расчетах, поэтому избавляться от всех пропусков не вижу смысла."
   ]
  },
  {
   "cell_type": "code",
   "execution_count": 22,
   "id": "d6d798c5",
   "metadata": {},
   "outputs": [
    {
     "data": {
      "text/plain": [
       "total_images                0\n",
       "last_price                  0\n",
       "total_area                  0\n",
       "first_day_exposition        0\n",
       "rooms                       0\n",
       "ceiling_height              1\n",
       "floors_total                0\n",
       "living_area                 0\n",
       "floor                       0\n",
       "is_apartment                0\n",
       "studio                      0\n",
       "open_plan                   0\n",
       "kitchen_area                0\n",
       "balcony                     0\n",
       "locality_name               0\n",
       "airports_nearest         5365\n",
       "city_center_nearest      4809\n",
       "parks_around3000         5413\n",
       "parks_nearest           15412\n",
       "ponds_around3000         5413\n",
       "ponds_nearest           14397\n",
       "days_exposition             0\n",
       "dtype: int64"
      ]
     },
     "execution_count": 22,
     "metadata": {},
     "output_type": "execute_result"
    }
   ],
   "source": [
    "data.isna().sum()"
   ]
  },
  {
   "cell_type": "code",
   "execution_count": 23,
   "id": "f41d1854",
   "metadata": {
    "scrolled": true
   },
   "outputs": [
    {
     "data": {
      "text/plain": [
       "0"
      ]
     },
     "execution_count": 23,
     "metadata": {},
     "output_type": "execute_result"
    }
   ],
   "source": [
    "# проверим на дубликаты\n",
    "data.duplicated().sum()"
   ]
  },
  {
   "cell_type": "markdown",
   "id": "24d91c96",
   "metadata": {},
   "source": [
    "### ИЗМЕНЕНИЕ ТИПОВ ДАННЫХ"
   ]
  },
  {
   "cell_type": "markdown",
   "id": "386589d5",
   "metadata": {},
   "source": [
    "Ниже - список изменений типов данных, который я хочу произвести:\n",
    "* floors_total --> int потому что кол-во этажей не может быть дробным\n",
    "* first_day_exposition --> datetime потому что это дата\n",
    "* is apartment --> bool потому что содержит только True и False\n",
    "* balcony --> int потому что кол-во балконов не может быть дробным\n",
    "* days_exposition --> int потому что кол-во дней не может быть дробным\n",
    "* parks_around --> int (но остались данные с пропусками, так что менять не буду)\n",
    "* ponds_around --> int (но остались данные с пропусками, так что менять не буду)"
   ]
  },
  {
   "cell_type": "code",
   "execution_count": 24,
   "id": "020f9c46",
   "metadata": {},
   "outputs": [],
   "source": [
    "data['floors_total'] = data['floors_total'].astype('int')\n",
    "data['is_apartment'] = data['is_apartment'].astype('bool')\n",
    "data['balcony'] = data['balcony'].astype('int')\n",
    "data['days_exposition'] = data['days_exposition'].astype('int')\n",
    "# parks_around\n",
    "# ponds_around"
   ]
  },
  {
   "cell_type": "markdown",
   "id": "d8be02ac",
   "metadata": {},
   "source": [
    "## ВЫЧИСЛЕНИЯ"
   ]
  },
  {
   "cell_type": "markdown",
   "id": "df6c4aa6",
   "metadata": {},
   "source": [
    "### ВЫЧИСЛЕНИЕ СТОИМОСТИ КВАДРАТНОГО МЕТРА**"
   ]
  },
  {
   "cell_type": "code",
   "execution_count": 25,
   "id": "54ab4002",
   "metadata": {},
   "outputs": [],
   "source": [
    "# добавлю в таблицу столбец, в котором будет посчитана стоимость за кв. метр\n",
    "data['meters_price'] = (data['last_price'] / data['total_area']).round(2)"
   ]
  },
  {
   "cell_type": "markdown",
   "id": "153430be",
   "metadata": {},
   "source": [
    "### ДОБАВЛЕНИЕ В ТАБЛИЦУ ДНЯ НЕДЕЛИ, МЕСЯЦА И ГОДА ОБЪЯВЛЕНИЯ"
   ]
  },
  {
   "cell_type": "code",
   "execution_count": 26,
   "id": "0a8797ae",
   "metadata": {},
   "outputs": [],
   "source": [
    "data['time_data'] = pd.to_datetime(data['first_day_exposition'], format='%Y-%m-%dT%H:%M:%S') \n",
    "# добавлю столбец с номером месяца методом month\n",
    "data['month'] = data['time_data'].dt.month\n",
    "# добавлю столбец с номером дня методом weekday\n",
    "data['weekday'] = data['time_data'].dt.weekday\n",
    "# добавлю столбец с номером года методом year\n",
    "data['year'] = data['time_data'].dt.year\n",
    "#time_grouped.head()"
   ]
  },
  {
   "cell_type": "code",
   "execution_count": 27,
   "id": "3091cadd",
   "metadata": {},
   "outputs": [],
   "source": [
    "month_dict = {\n",
    "    1 : 'Январь',\n",
    "    2 : 'Февраль',\n",
    "    3 : 'Март',\n",
    "    4 : 'Апрель',\n",
    "    5 : 'Май',\n",
    "    6 : 'Июнь',\n",
    "    7 : 'Июль',\n",
    "    8 : 'Август',\n",
    "    9 : 'Сентябрь',\n",
    "    10 : 'Октябрь',\n",
    "    11 : 'Ноябрь',\n",
    "    12 : 'Декабрь'    \n",
    "}\n",
    "\n",
    "data['month_name'] = data['month'].map(month_dict)"
   ]
  },
  {
   "cell_type": "code",
   "execution_count": 28,
   "id": "0f146734",
   "metadata": {},
   "outputs": [],
   "source": [
    "day_dict = {\n",
    "    0 : 'Понедельник',\n",
    "    1 : 'Вторник',\n",
    "    2 : 'Среда',\n",
    "    3 : 'Четверг',\n",
    "    4 : 'Пятница',\n",
    "    5 : 'Суббота',\n",
    "    6 : 'Воскресенье'\n",
    "}\n",
    "\n",
    "data['day_name'] = data['weekday'].map(day_dict)"
   ]
  },
  {
   "cell_type": "markdown",
   "id": "e384ffa7",
   "metadata": {},
   "source": [
    "**3. ДОБАВЛЕНИЕ В ТАБЛИЦУ КАТЕГОРИЙ ЭТАЖЕЙ**"
   ]
  },
  {
   "cell_type": "code",
   "execution_count": 29,
   "id": "a5919c92",
   "metadata": {},
   "outputs": [],
   "source": [
    "# напишу функцию, котрая будет присваивать значения по этажам.\n",
    "# если в исходной таблице не указано общее кол-во этажей, функция вернет значение \"неизвестен\"\n",
    "\n",
    "def what_floor(row):\n",
    "    if row['floor'] == 1:\n",
    "        return 'первый'\n",
    "    if row['floor'] == row['floors_total']:\n",
    "        return 'последний'\n",
    "    if row['floors_total'] == 0:\n",
    "        return 'неизвестен'\n",
    "    if row['floor'] != 1 and row['floor'] != row['floors_total']:\n",
    "        return 'другой'\n",
    "# добавлю в основную таблицу\n",
    "data['floor_name'] = data.apply(what_floor, axis=1)"
   ]
  },
  {
   "cell_type": "markdown",
   "id": "41bb8500",
   "metadata": {},
   "source": [
    "### СООТНОШЕНИЯ ПЛОЩАДЕЙ"
   ]
  },
  {
   "cell_type": "code",
   "execution_count": 30,
   "id": "1f4412e6",
   "metadata": {},
   "outputs": [],
   "source": [
    "data['living_to_total'] = (data['living_area'] / data['total_area']).round(2)\n",
    "data['kitchen_to_total'] = (data['kitchen_area'] / data['total_area']).round(2)"
   ]
  },
  {
   "cell_type": "markdown",
   "id": "f09412b5",
   "metadata": {},
   "source": [
    "## ИССЛЕДОВАНИЕ"
   ]
  },
  {
   "cell_type": "markdown",
   "id": "be8b7b6d",
   "metadata": {},
   "source": [
    "### ГИСТОГРАММА ДЛЯ ЦЕНЫ НА КВАРТИРУ"
   ]
  },
  {
   "cell_type": "code",
   "execution_count": 31,
   "id": "ba12d322",
   "metadata": {},
   "outputs": [
    {
     "data": {
      "image/png": "[encoded data removed]",
      "text/plain": [
       "<Figure size 720x432 with 2 Axes>"
      ]
     },
     "metadata": {
      "needs_background": "light"
     },
     "output_type": "display_data"
    }
   ],
   "source": [
    "plt.figure(figsize=(10,6))\n",
    "ax = plt.subplot(1, 2, 1)\n",
    "plt.hist(data['last_price'], bins=50, range=(0, 20000000), color='#4682B4')\n",
    "plt.xlabel('Цена квартиры рублей')\n",
    "plt.ylabel('Частота повторений')\n",
    "plt.title('Распределение по стоимости квартир ')\n",
    "plt.grid(True)\n",
    "\n",
    "plt.subplot(1, 2, 2)\n",
    "data.boxplot('last_price')\n",
    "plt.ylim(0, 20000000)\n",
    "plt.show()"
   ]
  },
  {
   "cell_type": "code",
   "execution_count": 32,
   "id": "5da89481",
   "metadata": {},
   "outputs": [
    {
     "name": "stdout",
     "output_type": "stream",
     "text": [
      "total_images            1.020670\n",
      "last_price              1.020670\n",
      "total_area              1.020670\n",
      "first_day_exposition    1.020670\n",
      "rooms                   1.020670\n",
      "ceiling_height          1.020670\n",
      "floors_total            1.020670\n",
      "living_area             1.020670\n",
      "floor                   1.020670\n",
      "is_apartment            1.020670\n",
      "studio                  1.020670\n",
      "open_plan               1.020670\n",
      "kitchen_area            1.020670\n",
      "balcony                 1.020670\n",
      "locality_name           1.020670\n",
      "airports_nearest        0.004271\n",
      "city_center_nearest     0.004271\n",
      "parks_around3000        0.004271\n",
      "parks_nearest           0.004271\n",
      "ponds_around3000        0.004271\n",
      "ponds_nearest           0.000000\n",
      "days_exposition         1.020670\n",
      "meters_price            1.020670\n",
      "time_data               1.020670\n",
      "month                   1.020670\n",
      "weekday                 1.020670\n",
      "year                    1.020670\n",
      "month_name              1.020670\n",
      "day_name                1.020670\n",
      "floor_name              1.020670\n",
      "living_to_total         1.020670\n",
      "kitchen_to_total        1.020670\n",
      "dtype: float64\n"
     ]
    }
   ],
   "source": [
    "# квартиры, стоимостью менее 1млн рублей можно также считать аномальными. Аномально низкими.\n",
    "# таких данных 1%.\n",
    "print(data.query('last_price <= 1000000').count()/len(data)*100)"
   ]
  },
  {
   "cell_type": "markdown",
   "id": "62da85af",
   "metadata": {},
   "source": [
    "Анализ данных показал, что 3% квартир - квартиры, стоимостью более 20млн рублей, 1% квартир - квартиры менее 1млн рублей. И те и другие данные принимаю как аномальные и исключаю."
   ]
  },
  {
   "cell_type": "code",
   "execution_count": 33,
   "id": "d7d32046",
   "metadata": {},
   "outputs": [],
   "source": [
    "data = data.query('last_price < 20000000 and last_price > 1000000')"
   ]
  },
  {
   "cell_type": "markdown",
   "id": "320a2df1",
   "metadata": {},
   "source": [
    "### ГИСТОГРАММА ДЛЯ ПЛОЩАДИ"
   ]
  },
  {
   "cell_type": "markdown",
   "id": "a8f4e8c1",
   "metadata": {},
   "source": [
    "Среди всех квартир, что представлены нам есть и очень маленькие и очень большие по площади квартиры. Построю гистограмму для всех площадей, не буду ничего исключать на данном этапе."
   ]
  },
  {
   "cell_type": "code",
   "execution_count": 34,
   "id": "5f1cd35b",
   "metadata": {},
   "outputs": [
    {
     "data": {
      "image/png": "[encoded data removed]",
      "text/plain": [
       "<Figure size 720x432 with 2 Axes>"
      ]
     },
     "metadata": {
      "needs_background": "light"
     },
     "output_type": "display_data"
    }
   ],
   "source": [
    "# построю гистаграмму для суммарной площади\n",
    "plt.figure(figsize=(10, 6))\n",
    "plt.subplot(1, 2, 1)\n",
    "plt.hist(data['total_area'], bins=40, range=(12, 300), color='#4682B4')\n",
    "# задам подпись оси х\n",
    "plt.xlabel('Площадь квартиры, кв. метры')\n",
    "# задам подпись оси у\n",
    "plt.ylabel('Частота повторений')\n",
    "# задам название графика\n",
    "plt.title('Распределение суммарной площади квартир')\n",
    "# добавлю линии сетки\n",
    "plt.grid(True)\n",
    "\n",
    "plt.subplot(1, 2, 2)\n",
    "data.boxplot('total_area')\n",
    "plt.ylim(0, 200)\n",
    "\n",
    "plt.show()"
   ]
  },
  {
   "cell_type": "code",
   "execution_count": 35,
   "id": "06915b99",
   "metadata": {},
   "outputs": [
    {
     "name": "stdout",
     "output_type": "stream",
     "text": [
      "Доля квартир, площадь которых более 250кв. метров:\n",
      "total_images            0.031165\n",
      "last_price              0.031165\n",
      "total_area              0.031165\n",
      "first_day_exposition    0.031165\n",
      "rooms                   0.031165\n",
      "ceiling_height          0.031165\n",
      "floors_total            0.031165\n",
      "living_area             0.031165\n",
      "floor                   0.031165\n",
      "is_apartment            0.031165\n",
      "studio                  0.031165\n",
      "open_plan               0.031165\n",
      "kitchen_area            0.031165\n",
      "balcony                 0.031165\n",
      "locality_name           0.031165\n",
      "airports_nearest        0.031165\n",
      "city_center_nearest     0.031165\n",
      "parks_around3000        0.031165\n",
      "parks_nearest           0.013356\n",
      "ponds_around3000        0.031165\n",
      "ponds_nearest           0.008904\n",
      "days_exposition         0.031165\n",
      "meters_price            0.031165\n",
      "time_data               0.031165\n",
      "month                   0.031165\n",
      "weekday                 0.031165\n",
      "year                    0.031165\n",
      "month_name              0.031165\n",
      "day_name                0.031165\n",
      "floor_name              0.031165\n",
      "living_to_total         0.031165\n",
      "kitchen_to_total        0.031165\n",
      "dtype: float64\n"
     ]
    }
   ],
   "source": [
    "print('Доля квартир, площадь которых более 250кв. метров:')\n",
    "print(data.query('total_area >= 250').count() / len(data) * 100)"
   ]
  },
  {
   "cell_type": "code",
   "execution_count": 36,
   "id": "c1bcb32a",
   "metadata": {},
   "outputs": [],
   "source": [
    "# удалим те квартиры, площадь которых более 250кв. метров (всего 5 квартир)\n",
    "data = data.query('total_area <= 250')"
   ]
  },
  {
   "cell_type": "markdown",
   "id": "61956f87",
   "metadata": {},
   "source": [
    "**вывод:**\n",
    "\n",
    "Исходя из гистограммы хорошо видно распределение площадей квартир. Основная масса представленных квартир - малометражные. Медианные значения приходятся на ~50 квадратных метров. Есть и гигантские квартиры (можно ли их назвать квартирами) в 900 кв. метров, но цена у этой квартиры, соответствующая, так что мы оставим это значение в таблице."
   ]
  },
  {
   "cell_type": "markdown",
   "id": "0913613b",
   "metadata": {},
   "source": [
    "### ГИСТОГРАММА ДЛЯ КОЛИЧЕСТВА КОМНАТ"
   ]
  },
  {
   "cell_type": "markdown",
   "id": "07dcb826",
   "metadata": {},
   "source": [
    "В данных по кол-ву комнат присутствуют совершенно разные, например, имеются квартиры, где 0 комнат, возможно это квартиры с открытой планировкой, или студии, а возможно - какая-то ошибка. Есть квартиры, в которых > 5 комнат. И уж совсем сомнительные 19 комнат. С другой стороны, если это какой-то особняк или коттедж, то это вполне вероятно."
   ]
  },
  {
   "cell_type": "code",
   "execution_count": 37,
   "id": "7dfa5d25",
   "metadata": {},
   "outputs": [
    {
     "data": {
      "text/plain": [
       "open_plan\n",
       "False    106\n",
       "True      46\n",
       "Name: open_plan, dtype: int64"
      ]
     },
     "execution_count": 37,
     "metadata": {},
     "output_type": "execute_result"
    }
   ],
   "source": [
    "# всего квартир, в которых комнат 0: 197 штук, из них 138 - студии\n",
    "data.query('rooms == 0').groupby(['studio'])['studio'].count()\n",
    "# 59 - c открытой планировкой\n",
    "data.query('rooms == 0').groupby(['open_plan'])['open_plan'].count()"
   ]
  },
  {
   "cell_type": "code",
   "execution_count": 38,
   "id": "c0422d53",
   "metadata": {},
   "outputs": [
    {
     "data": {
      "image/png": "[encoded data removed]",
      "text/plain": [
       "<Figure size 720x360 with 2 Axes>"
      ]
     },
     "metadata": {
      "needs_background": "light"
     },
     "output_type": "display_data"
    }
   ],
   "source": [
    "plt.figure(figsize=(10,5))\n",
    "ax = plt.subplot(1, 2, 1)\n",
    "# данные для гистограммы\n",
    "plt.hist(data['rooms'], range=(0,16), bins=15, color='#4682B4')\n",
    "# значения для оси х\n",
    "ax.set_xticks([0, 1, 2, 3, 4, 5, 10, 15, 19])\n",
    "# для оси у\n",
    "ax.set_yticks([0, 200, 1200, 5800, 8000])\n",
    "plt.ylabel('Частота повторений')\n",
    "plt.xlabel('Количество комнат в квартирах')\n",
    "plt.title('Распределение количества комнат в квартирах')\n",
    "plt.grid(True)\n",
    "# диаграмма размаха\n",
    "plt.subplot(1, 2, 2)\n",
    "data.boxplot('rooms')\n",
    "plt.show()"
   ]
  },
  {
   "cell_type": "code",
   "execution_count": 39,
   "id": "e478881f",
   "metadata": {},
   "outputs": [
    {
     "data": {
      "text/plain": [
       "total_images            0.115787\n",
       "last_price              0.115787\n",
       "total_area              0.115787\n",
       "first_day_exposition    0.115787\n",
       "rooms                   0.115787\n",
       "ceiling_height          0.115787\n",
       "floors_total            0.115787\n",
       "living_area             0.115787\n",
       "floor                   0.115787\n",
       "is_apartment            0.115787\n",
       "studio                  0.115787\n",
       "open_plan               0.115787\n",
       "kitchen_area            0.115787\n",
       "balcony                 0.115787\n",
       "locality_name           0.115787\n",
       "airports_nearest        0.115787\n",
       "city_center_nearest     0.115787\n",
       "parks_around3000        0.115787\n",
       "parks_nearest           0.093520\n",
       "ponds_around3000        0.115787\n",
       "ponds_nearest           0.053440\n",
       "days_exposition         0.115787\n",
       "meters_price            0.115787\n",
       "time_data               0.115787\n",
       "month                   0.115787\n",
       "weekday                 0.115787\n",
       "year                    0.115787\n",
       "month_name              0.115787\n",
       "day_name                0.115787\n",
       "floor_name              0.115787\n",
       "living_to_total         0.115787\n",
       "kitchen_to_total        0.115787\n",
       "dtype: float64"
      ]
     },
     "execution_count": 39,
     "metadata": {},
     "output_type": "execute_result"
    }
   ],
   "source": [
    "# проверим сколько квартир с кол-вом комнат больше 6\n",
    "data.query('rooms > 6').count()/len(data)*100"
   ]
  },
  {
   "cell_type": "markdown",
   "id": "01bc233f",
   "metadata": {},
   "source": [
    "Посмотрим на квартиры, количество комнат в которых больше или равно 7, сгруппируем по кол-ву комнат и выведем медиану площадей этих квартир, можно предположить что если в квартире суммарная площадь более 150 метров, то там возможно наличие столь большого количества комнат. Такие квартиры выбиваются из \"средних\" значений, однако выкидывать их мы не можем."
   ]
  },
  {
   "cell_type": "code",
   "execution_count": 40,
   "id": "b94b6bda",
   "metadata": {},
   "outputs": [
    {
     "data": {
      "text/plain": [
       "rooms\n",
       "7     175.0\n",
       "8     229.0\n",
       "9     235.0\n",
       "10    216.1\n",
       "11    183.7\n",
       "Name: total_area, dtype: float64"
      ]
     },
     "execution_count": 40,
     "metadata": {},
     "output_type": "execute_result"
    }
   ],
   "source": [
    "data.query('rooms >= 7').groupby('rooms')['total_area'].median()"
   ]
  },
  {
   "cell_type": "markdown",
   "id": "8f494119",
   "metadata": {},
   "source": [
    "**вывод:**\n",
    "\n",
    "Полученные данные указывают на то что медианным значением количества комнат является - 2 комнаты. Минимальным значением кол-ва комнат является 0 - и это так же не является ошибкой, потому что все эти квартиры либо студии, либо квартиры с открытой планировкой, так что, возможно, в таких квартирах просто нельзя выделить определенное кол-во комнат. Есть квартиры, в которых кол-во комнат выше 7, однако суммарная площадь этих объектов превышает 150 кв. метров, так что мы можем предположить что это также нормально и оставить данные, не удаляя их. Однако, для нашего исследования важно избавиться от выбросов, и рассматривать именно средние значения, так что удалим все данные, где кол-во комнат более 6."
   ]
  },
  {
   "cell_type": "code",
   "execution_count": 41,
   "id": "3d6f68dd",
   "metadata": {},
   "outputs": [],
   "source": [
    "# удалим все данные, кол-во комнат в которых больше  6\n",
    "data = data.query('rooms <= 6')"
   ]
  },
  {
   "cell_type": "markdown",
   "id": "23e4f654",
   "metadata": {},
   "source": [
    "### ГИСТОГРАММА СТОИМОСТИ КВАРТИРЫ ЗА КВАДРАТНЫЙ МЕТР"
   ]
  },
  {
   "cell_type": "code",
   "execution_count": 42,
   "id": "129bf06d",
   "metadata": {},
   "outputs": [
    {
     "data": {
      "text/plain": [
       "392354.12"
      ]
     },
     "execution_count": 42,
     "metadata": {},
     "output_type": "execute_result"
    }
   ],
   "source": [
    "data['meters_price'].max()"
   ]
  },
  {
   "cell_type": "code",
   "execution_count": 43,
   "id": "bead77c6",
   "metadata": {},
   "outputs": [
    {
     "data": {
      "image/png": "[encoded data removed]",
      "text/plain": [
       "<Figure size 720x360 with 2 Axes>"
      ]
     },
     "metadata": {
      "needs_background": "light"
     },
     "output_type": "display_data"
    }
   ],
   "source": [
    "plt.figure(figsize=(10, 5))\n",
    "ax = plt.subplot(1, 2, 1)\n",
    "plt.hist(data['meters_price'], bins=100, color='#4682B4')\n",
    "plt.axis([0, 400000, 0, 1500])\n",
    "#plt.xlim(0, 400000)\n",
    "ax.set_xticklabels(['0', '100', '200', '300', '400'])\n",
    "plt.xlabel('Цена за кв. метр, тыс. рублей')\n",
    "plt.ylabel('Частота повторений')\n",
    "plt.title('Распределение стоимости квартир за кв.метр')\n",
    "plt.grid(True)\n",
    "\n",
    "plt.subplot(1, 2, 2)\n",
    "data.boxplot('meters_price')\n",
    "plt.ylim(0, 250000)\n",
    "plt.show()"
   ]
  },
  {
   "cell_type": "markdown",
   "id": "3e140dfb",
   "metadata": {},
   "source": [
    "Из очевидного - квартиры в Санкт-Петербурге не могут стоить ниже 36 тыс. рублей за кв.метр\n",
    "https://lenta.ru/news/2020/06/14/spb_minimum/\n",
    "Поэтому данные, удовлетворяющие условию - СПБ и менее 36 тыс. рублей за кв. метр, являются аномально низкими."
   ]
  },
  {
   "cell_type": "code",
   "execution_count": 44,
   "id": "ef1dc974",
   "metadata": {
    "scrolled": false
   },
   "outputs": [
    {
     "data": {
      "text/html": [
       "<div>\n",
       "<style scoped>\n",
       "    .dataframe tbody tr th:only-of-type {\n",
       "        vertical-align: middle;\n",
       "    }\n",
       "\n",
       "    .dataframe tbody tr th {\n",
       "        vertical-align: top;\n",
       "    }\n",
       "\n",
       "    .dataframe thead th {\n",
       "        text-align: right;\n",
       "    }\n",
       "</style>\n",
       "<table border=\"1\" class=\"dataframe\">\n",
       "  <thead>\n",
       "    <tr style=\"text-align: right;\">\n",
       "      <th></th>\n",
       "      <th>locality_name</th>\n",
       "      <th>meters_price</th>\n",
       "    </tr>\n",
       "  </thead>\n",
       "  <tbody>\n",
       "    <tr>\n",
       "      <th>170</th>\n",
       "      <td>поселок Торковичи</td>\n",
       "      <td>19047.62</td>\n",
       "    </tr>\n",
       "    <tr>\n",
       "      <th>431</th>\n",
       "      <td>Луга</td>\n",
       "      <td>24285.71</td>\n",
       "    </tr>\n",
       "    <tr>\n",
       "      <th>487</th>\n",
       "      <td>поселок Оредеж</td>\n",
       "      <td>19877.68</td>\n",
       "    </tr>\n",
       "    <tr>\n",
       "      <th>703</th>\n",
       "      <td>Пикалево</td>\n",
       "      <td>20905.92</td>\n",
       "    </tr>\n",
       "    <tr>\n",
       "      <th>724</th>\n",
       "      <td>Кириши</td>\n",
       "      <td>26136.36</td>\n",
       "    </tr>\n",
       "    <tr>\n",
       "      <th>...</th>\n",
       "      <td>...</td>\n",
       "      <td>...</td>\n",
       "    </tr>\n",
       "    <tr>\n",
       "      <th>23434</th>\n",
       "      <td>поселок Громово</td>\n",
       "      <td>26271.19</td>\n",
       "    </tr>\n",
       "    <tr>\n",
       "      <th>23458</th>\n",
       "      <td>поселок Возрождение</td>\n",
       "      <td>24733.27</td>\n",
       "    </tr>\n",
       "    <tr>\n",
       "      <th>23477</th>\n",
       "      <td>Гатчина</td>\n",
       "      <td>10507.25</td>\n",
       "    </tr>\n",
       "    <tr>\n",
       "      <th>23490</th>\n",
       "      <td>Тихвин</td>\n",
       "      <td>28125.00</td>\n",
       "    </tr>\n",
       "    <tr>\n",
       "      <th>23498</th>\n",
       "      <td>Высоцк</td>\n",
       "      <td>29629.63</td>\n",
       "    </tr>\n",
       "  </tbody>\n",
       "</table>\n",
       "<p>250 rows × 2 columns</p>\n",
       "</div>"
      ],
      "text/plain": [
       "             locality_name  meters_price\n",
       "170      поселок Торковичи      19047.62\n",
       "431                   Луга      24285.71\n",
       "487         поселок Оредеж      19877.68\n",
       "703               Пикалево      20905.92\n",
       "724                 Кириши      26136.36\n",
       "...                    ...           ...\n",
       "23434      поселок Громово      26271.19\n",
       "23458  поселок Возрождение      24733.27\n",
       "23477              Гатчина      10507.25\n",
       "23490               Тихвин      28125.00\n",
       "23498               Высоцк      29629.63\n",
       "\n",
       "[250 rows x 2 columns]"
      ]
     },
     "execution_count": 44,
     "metadata": {},
     "output_type": "execute_result"
    }
   ],
   "source": [
    "data.query('meters_price <= 30000')[['locality_name', 'meters_price']]"
   ]
  },
  {
   "cell_type": "code",
   "execution_count": 45,
   "id": "a54d7cd6",
   "metadata": {},
   "outputs": [],
   "source": [
    "# удалим квартиры в СПБ, кв. метр, которых менее 36тыс руб.,\n",
    "#а так же квартиры, кв.метр которых менее 20тыс руб\n",
    "\n",
    "data = (data\n",
    ".query(\n",
    "    '(meters_price >= 36000 and locality_name == \"Санкт-Петербург\") or meters_price >=20000')\n",
    "       )"
   ]
  },
  {
   "cell_type": "markdown",
   "id": "83f02bb6",
   "metadata": {},
   "source": [
    "**вывод:**\n",
    "\n",
    "Цены за квадратный метр квартиры варьируются в широком диапазоне. Можно сказать одно - в среднем стоимость квадратного метра для большинства квартир - около 100 тысяч рублей. Квартиры, стоимость одного квадратного метра в Санкт-Петербурге меньше 36 метров, а также квартиры, стоимость кв. метра которых меньше 20тыс рублей, должны быть исключены из таблицы, как аномально низкие."
   ]
  },
  {
   "cell_type": "markdown",
   "id": "2b9ad712",
   "metadata": {},
   "source": [
    "### ГИСТОГРАММА ВЫСОТЫ ПОТОЛКОВ"
   ]
  },
  {
   "cell_type": "code",
   "execution_count": 46,
   "id": "1b603805",
   "metadata": {},
   "outputs": [
    {
     "data": {
      "text/plain": [
       "38"
      ]
     },
     "metadata": {},
     "output_type": "display_data"
    },
    {
     "data": {
      "text/plain": [
       "20"
      ]
     },
     "metadata": {},
     "output_type": "display_data"
    }
   ],
   "source": [
    "# по нормативным документам минимальная разрешенная высота потолков - 2 метра 40 см, \n",
    "# максимальная не регламентируется, но редко превышает высоту в 4 метра 20 см\n",
    "# таким образом нормальными будут потолки в этом промежутке\n",
    "data.query('ceiling_height > 2.40 and ceiling_height < 4.20')\n",
    "# аномально высокие потолки\n",
    "display(data.query('ceiling_height > 4.20')['ceiling_height'].count())\n",
    "# аномально низкие потолки\n",
    "display(data.query('ceiling_height < 2.40')['ceiling_height'].count())\n",
    "\n",
    "data = data.query('ceiling_height > 2.40 and ceiling_height < 4.20')"
   ]
  },
  {
   "cell_type": "code",
   "execution_count": 47,
   "id": "cb0912b2",
   "metadata": {
    "scrolled": true
   },
   "outputs": [
    {
     "data": {
      "text/plain": [
       "94.12633444449133"
      ]
     },
     "execution_count": 47,
     "metadata": {},
     "output_type": "execute_result"
    }
   ],
   "source": [
    "# посчитаем долю оставшихся данных, относительно исходных\n",
    "len(data) / 23699 * 100"
   ]
  },
  {
   "cell_type": "code",
   "execution_count": 48,
   "id": "6e8e01dc",
   "metadata": {},
   "outputs": [
    {
     "data": {
      "image/png": "[encoded data removed]",
      "text/plain": [
       "<Figure size 720x432 with 2 Axes>"
      ]
     },
     "metadata": {
      "needs_background": "light"
     },
     "output_type": "display_data"
    }
   ],
   "source": [
    "plt.figure(figsize=(10,6))\n",
    "ax = plt.subplot(1, 2, 1)\n",
    "plt.hist(data['ceiling_height'], bins=20, color='#4682B4')\n",
    "ax.set_xticks([2.40, 3.20, 4.20])\n",
    "plt.xlabel('Высота потолков, метр')\n",
    "plt.ylabel('Частота повторений')\n",
    "plt.title('Распределение высоты потолков в квартирах')\n",
    "plt.grid(True)\n",
    "\n",
    "plt.subplot(1, 2, 2)\n",
    "data.boxplot('ceiling_height')\n",
    "#plt.ylim(0, 5)\n",
    "plt.show()"
   ]
  },
  {
   "cell_type": "markdown",
   "id": "3b3ba0c9",
   "metadata": {},
   "source": [
    "**вывод:**\n",
    "\n",
    "Очевидно что в квартирах не может быть потолков, ниже 2метров 40см, это прописано в нормативных документах. Исходя из данных видно, что некоторое кол-во людей указало что высота потолков в их квартирах - меньше этого минимально допустимого норматива. Эти данные, скорее всего подлежат удалению, или приведению к нижнему стандарту для данной категории. В случае с значениями потолков, выше 4.20 метров также имеются вопросы. Можно допустить, поскольку нет верхнего предела, что высота потолков будет превышать 4 метра, однако такое возможно либо в частных домах, либо в Сталинских постройках в Москве. При этом значения > 5 метров явно являются ошибкой, и подлежат исключению."
   ]
  },
  {
   "cell_type": "markdown",
   "id": "dc6849e1",
   "metadata": {},
   "source": [
    "**ЗАДАНИЕ 1**\n",
    "\n",
    "Изучите время продажи квартиры. Постройте гистограмму. Посчитайте среднее и медиану. Опишите, сколько обычно занимает продажа. Когда можно считать, что продажи прошли очень быстро, а когда необычно долго?"
   ]
  },
  {
   "cell_type": "code",
   "execution_count": 49,
   "id": "0a349b25",
   "metadata": {},
   "outputs": [
    {
     "data": {
      "image/png": "[encoded data removed]",
      "text/plain": [
       "<Figure size 432x288 with 1 Axes>"
      ]
     },
     "metadata": {
      "needs_background": "light"
     },
     "output_type": "display_data"
    }
   ],
   "source": [
    "(data\n",
    ".query('not days_exposition == 0')\n",
    ".plot(y='days_exposition', kind='hist', bins=30)\n",
    ")\n",
    "plt.show()"
   ]
  },
  {
   "cell_type": "code",
   "execution_count": 50,
   "id": "c7f184c6",
   "metadata": {},
   "outputs": [
    {
     "name": "stdout",
     "output_type": "stream",
     "text": [
      "Медианым значением дней по продаже является:  74.0 дней.\n",
      "Средним  значением дней по продаже является:  155.66844488277223 дней.\n"
     ]
    },
    {
     "data": {
      "image/png": "[encoded data removed]",
      "text/plain": [
       "<Figure size 432x288 with 1 Axes>"
      ]
     },
     "metadata": {
      "needs_background": "light"
     },
     "output_type": "display_data"
    }
   ],
   "source": [
    "# для того чтобы точнее увидеть какие значения считать нормой, а какие выбиваются - построю \n",
    "# график \"ящик с усами\"\n",
    "(data\n",
    ".query('not days_exposition == 0')\n",
    ".boxplot('days_exposition')\n",
    ")\n",
    "print('Медианым значением дней по продаже является: ', data['days_exposition'].median(), 'дней.')\n",
    "print('Средним  значением дней по продаже является: ', data['days_exposition'].mean(), 'дней.')"
   ]
  },
  {
   "cell_type": "code",
   "execution_count": 51,
   "id": "aaeb534d",
   "metadata": {},
   "outputs": [
    {
     "data": {
      "text/plain": [
       "count    16599.000000\n",
       "mean       104.341225\n",
       "std         89.276900\n",
       "min          1.000000\n",
       "25%         37.000000\n",
       "50%         74.000000\n",
       "75%        153.000000\n",
       "max        364.000000\n",
       "Name: days_exposition, dtype: float64"
      ]
     },
     "execution_count": 51,
     "metadata": {},
     "output_type": "execute_result"
    }
   ],
   "source": [
    "test_1 = data.query('days_exposition != 0 and days_exposition < 365')\n",
    "test_1['days_exposition'].describe()"
   ]
  },
  {
   "cell_type": "markdown",
   "id": "345039fd",
   "metadata": {},
   "source": [
    "**вывод:**\n",
    "\n",
    "Медианным значением продажи является - 74 дня, Средним - 157 дней.\n",
    "При построении гистограмм убраны значения, в которых стоит значение 0, поскольку, предполагается, что такие объявления все еще висят и квартиры не проданы.\n",
    "Получается аномально быстрые продажи совершаются в срок до 1 месяца (<30 дней).\n",
    "Аномально долгими продажами стоит считать те, что висят больше 200 дней.\n",
    "\n",
    "Если отсечь значения, больше 365, и посмотреть описание, получается что среднее значение уменьшится: с 157 дней до 105 дней, медианное значение не меняется."
   ]
  },
  {
   "cell_type": "markdown",
   "id": "d7df635f",
   "metadata": {},
   "source": [
    "**ЗАДАНИЕ 2**\n",
    "\n",
    "* Изучить какие факторы влияют на ценообразование квартиры\n",
    "* от суммарной площади\n",
    "* чила комнат\n",
    "* этажа\n",
    "* удаленности от центра\n",
    "\n",
    "а также:\n",
    "* от дня недели\n",
    "* от месяца\n",
    "* от города"
   ]
  },
  {
   "cell_type": "markdown",
   "id": "0596bacf",
   "metadata": {},
   "source": [
    "### влияние метража квартиры на ее цену"
   ]
  },
  {
   "cell_type": "code",
   "execution_count": 52,
   "id": "4de6fe95",
   "metadata": {
    "scrolled": false
   },
   "outputs": [
    {
     "data": {
      "image/png": "[encoded data removed]",
      "text/plain": [
       "<Figure size 360x360 with 6 Axes>"
      ]
     },
     "metadata": {
      "needs_background": "light"
     },
     "output_type": "display_data"
    }
   ],
   "source": [
    "# как влияет метраж квартиры на ее стоимость\n",
    "data_grouped = (\n",
    "    data\n",
    "    .query('last_price < 20000000 and total_area <= 250')\n",
    "    .pivot_table(index='first_day_exposition', values=['last_price', 'total_area'], aggfunc='mean')\n",
    ")    \n",
    "\n",
    "#pd.plotting.scatter_matrix(data_grouped, figsize=(9,9), color='#4682B4')\n",
    "#print(data_grouped.corr())\n",
    "\n",
    "sns.pairplot(data_grouped)\n",
    "plt.show()\n",
    "# если ограничивать верхний порог цены и верхний порог метража мы будем наблюдать снижение\n",
    "# коэффициента корреляции с 0.77 до 0.65"
   ]
  },
  {
   "cell_type": "markdown",
   "id": "3c23f90e",
   "metadata": {},
   "source": [
    "**вывод**\n",
    "\n",
    "Метраж квартиры в значительной степени влияет на конечное ценообразование квартиры."
   ]
  },
  {
   "cell_type": "markdown",
   "id": "89b21ea1",
   "metadata": {},
   "source": [
    "### зависимость количества комнат в квартире на ее цену"
   ]
  },
  {
   "cell_type": "code",
   "execution_count": 53,
   "id": "c2644044",
   "metadata": {},
   "outputs": [
    {
     "data": {
      "image/png": "[encoded data removed]",
      "text/plain": [
       "<Figure size 360x360 with 6 Axes>"
      ]
     },
     "metadata": {
      "needs_background": "light"
     },
     "output_type": "display_data"
    },
    {
     "name": "stdout",
     "output_type": "stream",
     "text": [
      "            last_price     rooms\n",
      "last_price    1.000000  0.468441\n",
      "rooms         0.468441  1.000000\n"
     ]
    }
   ],
   "source": [
    "price_on_rooms = (\n",
    "    data\n",
    "    .query('last_price < 20000000 and rooms <= 6')\n",
    "    .pivot_table(index='first_day_exposition', values=['last_price', 'rooms'], aggfunc='mean')\n",
    ")    \n",
    "\n",
    "#pd.plotting.scatter_matrix(price_on_rooms, figsize=(9,9), color='#4682B4')\n",
    "sns.pairplot(data_grouped)\n",
    "plt.show()\n",
    "print(price_on_rooms.corr())"
   ]
  },
  {
   "cell_type": "markdown",
   "id": "d1870243",
   "metadata": {},
   "source": [
    "**вывод:**\n",
    "\n",
    "Количество комнат влияет сильно на ценообразование квартиры."
   ]
  },
  {
   "cell_type": "markdown",
   "id": "3571465d",
   "metadata": {},
   "source": [
    "Если строить диаграмму и считать коэффициент корреляции без ограничений, получется что он равен 0.34, то есть ко-во комнат очень слабо влияет на ценообразование. Это и понятно, поскольку одинаковое кол-во комнат может быть при совершенно разной площади квартир. Так что зависимость, по-видимому, описывается более сложной моделью.\n",
    "\n",
    "Если мы отсечем квартиры, стоимостью более 20млн, и кол-во комнат оставим меньше или равное 5 - то коэффициент корреляции увеличится до 0.47. \n"
   ]
  },
  {
   "cell_type": "markdown",
   "id": "bdd4d339",
   "metadata": {},
   "source": [
    "### зависимость цены квартиры от этажа"
   ]
  },
  {
   "cell_type": "code",
   "execution_count": 54,
   "id": "d788df56",
   "metadata": {},
   "outputs": [
    {
     "data": {
      "image/png": "[encoded data removed]",
      "text/plain": [
       "<Figure size 432x288 with 1 Axes>"
      ]
     },
     "metadata": {
      "needs_background": "light"
     },
     "output_type": "display_data"
    }
   ],
   "source": [
    "# построим столбчатую диаграмму, для того чтобы посмотреть среднюю стоимость квартиры на первом и последнем\n",
    "# этажах\n",
    "exp = (data\n",
    "    .query('floor_name == \"первый\" or floor_name == \"последний\"')\n",
    "    .pivot_table(index=['floor_name'], values=['last_price'], aggfunc='mean')\n",
    "    .plot(kind='bar')\n",
    ")"
   ]
  },
  {
   "cell_type": "markdown",
   "id": "3db7c7fc",
   "metadata": {},
   "source": [
    "Очевидно что квартиры на последнем этаже стоят несколько дороже, однако прямой сильной зависимости нет."
   ]
  },
  {
   "cell_type": "code",
   "execution_count": 55,
   "id": "12ae3d85",
   "metadata": {},
   "outputs": [
    {
     "data": {
      "image/png": "[encoded data removed]",
      "text/plain": [
       "<Figure size 720x576 with 1 Axes>"
      ]
     },
     "metadata": {
      "needs_background": "light"
     },
     "output_type": "display_data"
    }
   ],
   "source": [
    "# диаграмма распределения средних цен по каждому этажу\n",
    "(data\n",
    "    .pivot_table(index='floor', values=['last_price'], aggfunc='median')\n",
    "    .plot(kind='bar', figsize=(10,8))\n",
    ")\n",
    "plt.show()"
   ]
  },
  {
   "cell_type": "code",
   "execution_count": 56,
   "id": "0b049aa0",
   "metadata": {
    "scrolled": false
   },
   "outputs": [
    {
     "data": {
      "image/png": "[encoded data removed]",
      "text/plain": [
       "<Figure size 720x576 with 1 Axes>"
      ]
     },
     "metadata": {
      "needs_background": "light"
     },
     "output_type": "display_data"
    }
   ],
   "source": [
    "# диаграмма распределения средних цен по группам \"первый\"-\"последний\"-\"другой\"\n",
    "# поскольку считается, что на первых и последних этажах жить не хотят\n",
    "# возможно, средняя цена у \"другого\" будет выше\n",
    "(data\n",
    "    .query('floor_name != \"неизвестен\"')\n",
    "    .pivot_table(index='floor_name', values=['last_price'], aggfunc='median')\n",
    "    .plot(kind='bar', figsize=(10,8))\n",
    ")\n",
    "plt.show()"
   ]
  },
  {
   "cell_type": "markdown",
   "id": "e0cfe595",
   "metadata": {},
   "source": [
    "Наблюдается динамика в сторону увеличения цены (от первого этажа - к более высокому), резкое увеличение цены происходит у квартир, находящихся на этажах от 28, это, полагаю, можно объяснить тем, что такие квартиры находятся в небоскребах (или домах выше средних), а квартиры в таких домах, в среднем, стоят дороже.\n",
    "\n",
    "В целом, подтверждается заключение, сделаный ранее - квартиры на последних этажах стоят дороже, чем на первых."
   ]
  },
  {
   "cell_type": "markdown",
   "id": "bd9ee1c3",
   "metadata": {},
   "source": [
    "### влияние удаленности от центра на цену квартиры"
   ]
  },
  {
   "cell_type": "code",
   "execution_count": 57,
   "id": "17f722a7",
   "metadata": {
    "scrolled": false
   },
   "outputs": [
    {
     "data": {
      "image/png": "[encoded data removed]",
      "text/plain": [
       "<Figure size 360x360 with 6 Axes>"
      ]
     },
     "metadata": {
      "needs_background": "light"
     },
     "output_type": "display_data"
    },
    {
     "name": "stdout",
     "output_type": "stream",
     "text": [
      "                     city_center_nearest  last_price\n",
      "city_center_nearest             1.000000   -0.458792\n",
      "last_price                     -0.458792    1.000000\n"
     ]
    }
   ],
   "source": [
    "# как влияет расстояние до центра города на ее стоимость\n",
    "price_on_centr = (\n",
    "    data\n",
    "    .query('last_price <= 15000000 and city_center_nearest < 20')\n",
    "    .pivot_table(index='first_day_exposition', values=['last_price', 'city_center_nearest'], aggfunc='mean')\n",
    ")    \n",
    "\n",
    "#pd.plotting.scatter_matrix(price_on_centr, figsize=(9,9), color='#4682B4')\n",
    "\n",
    "sns.pairplot(price_on_centr)\n",
    "plt.show()\n",
    "print(price_on_centr.corr())"
   ]
  },
  {
   "cell_type": "code",
   "execution_count": 58,
   "id": "87eaa8e2",
   "metadata": {},
   "outputs": [
    {
     "data": {
      "text/plain": [
       "Index(['total_images', 'last_price', 'total_area', 'first_day_exposition',\n",
       "       'rooms', 'ceiling_height', 'floors_total', 'living_area', 'floor',\n",
       "       'is_apartment', 'studio', 'open_plan', 'kitchen_area', 'balcony',\n",
       "       'locality_name', 'airports_nearest', 'city_center_nearest',\n",
       "       'parks_around3000', 'parks_nearest', 'ponds_around3000',\n",
       "       'ponds_nearest', 'days_exposition', 'meters_price', 'time_data',\n",
       "       'month', 'weekday', 'year', 'month_name', 'day_name', 'floor_name',\n",
       "       'living_to_total', 'kitchen_to_total'],\n",
       "      dtype='object')"
      ]
     },
     "execution_count": 58,
     "metadata": {},
     "output_type": "execute_result"
    }
   ],
   "source": [
    "data.columns"
   ]
  },
  {
   "cell_type": "markdown",
   "id": "5f3b8572",
   "metadata": {},
   "source": [
    "**вывод**\n",
    "\n",
    "Мы наблюдаем обратную корреляцию - чем меньше расстояние до центра, тем выше цена квартиры."
   ]
  },
  {
   "cell_type": "markdown",
   "id": "982ea1e1",
   "metadata": {},
   "source": [
    "### влияние дня недели, в который выложено объявление на цену квартиры"
   ]
  },
  {
   "cell_type": "code",
   "execution_count": 59,
   "id": "85ae39e1",
   "metadata": {
    "scrolled": false
   },
   "outputs": [
    {
     "data": {
      "image/png": "[encoded data removed]",
      "text/plain": [
       "<Figure size 1080x432 with 1 Axes>"
      ]
     },
     "metadata": {
      "needs_background": "light"
     },
     "output_type": "display_data"
    }
   ],
   "source": [
    "plt.figure(figsize=(15, 6))\n",
    "day = ['понедельник', 'вторник', 'среда', 'четверг', 'пятница', 'суббота', 'воскресенье']\n",
    "plt.bar(day, data.groupby('day_name')['last_price'].mean())\n",
    "\n",
    "plt.xlabel('Дни недели')\n",
    "plt.ylabel('Стоимость квартиры')\n",
    "plt.show()"
   ]
  },
  {
   "cell_type": "markdown",
   "id": "380ceb2e",
   "metadata": {},
   "source": [
    "**вывод**\n",
    "\n",
    "Неважно в какой день недели выкладывается объявление о продаже квартиры. Влияния нет."
   ]
  },
  {
   "cell_type": "markdown",
   "id": "ec0eeecd",
   "metadata": {},
   "source": [
    "### влияние месяца года, в который выложено объявление на цену квартиры"
   ]
  },
  {
   "cell_type": "code",
   "execution_count": 60,
   "id": "e01eb29e",
   "metadata": {
    "scrolled": false
   },
   "outputs": [
    {
     "data": {
      "image/png": "[encoded data removed]",
      "text/plain": [
       "<Figure size 1080x504 with 1 Axes>"
      ]
     },
     "metadata": {
      "needs_background": "light"
     },
     "output_type": "display_data"
    }
   ],
   "source": [
    "plt.figure(figsize=(15, 7))\n",
    "mon = ['январь', 'февраль', 'март', 'апрель', 'май', 'июнь', 'июль', 'август', 'сентябрь', 'октябрь', 'ноябрь', 'декабрь']\n",
    "plt.bar(mon, data.groupby('month')['last_price'].mean())\n",
    "\n",
    "plt.xlabel('Месяц года')\n",
    "plt.ylabel('Стоимость квартиры')\n",
    "plt.show()"
   ]
  },
  {
   "cell_type": "markdown",
   "id": "abe4be06",
   "metadata": {},
   "source": [
    "**вывод**\n",
    "\n",
    "Неважно в какой месяц выкладывается объявление о продаже квартиры. Влияния нет."
   ]
  },
  {
   "cell_type": "markdown",
   "id": "474d1e1a",
   "metadata": {},
   "source": [
    "### влияние года, в который выложено объявление на цену квартиры"
   ]
  },
  {
   "cell_type": "code",
   "execution_count": 61,
   "id": "cbd0f87e",
   "metadata": {},
   "outputs": [
    {
     "data": {
      "image/png": "[encoded data removed]",
      "text/plain": [
       "<Figure size 720x504 with 1 Axes>"
      ]
     },
     "metadata": {
      "needs_background": "light"
     },
     "output_type": "display_data"
    }
   ],
   "source": [
    "plt.figure(figsize=(10, 7))\n",
    "#plt.scatter(data['year'], data['last_price'])\n",
    "\n",
    "plt.bar(range(2014, 2020), data.groupby('year')['last_price'].mean())\n",
    "plt.xlabel('Год')\n",
    "plt.ylabel('Стоимость квартиры')\n",
    "plt.show()"
   ]
  },
  {
   "cell_type": "markdown",
   "id": "31fb8b58",
   "metadata": {},
   "source": [
    "**вывод**\n",
    "\n",
    "При анализе данных - средней стоимости квартиры в зависимости от года выставления объявления на продажу можно выделить 2014 год - квартиры, в среднем здесь стоят дороже. Это может быть связано с чем угодно, в частности с политической ситуацией в стране, и курсом валюты."
   ]
  },
  {
   "cell_type": "markdown",
   "id": "32947245",
   "metadata": {},
   "source": [
    "**ВЫВОД**\n",
    "\n",
    "На ценообразование влияют такие параметры, как:\n",
    "* общий метраж квартиры (в большей степени). коэффициент корреляции~0.77\n",
    "* количество комнат (опосредованно). С увеличением комнат увеличивается, как правило, и суммарная площадь квартиры. Коэффициент корреляции ~0.47\n",
    "* расстояние до центра города - отрицательная корреляция - чем меньше расстояние, тем выше стоимость квартиры. После определенного расстояния, это влияние уменьшается. Чем ближе к центру - тем стоимость выше.\n",
    "* в целом, квартиры на последнем этаже стоят дороже, чем те, что на первом этаже\n",
    "\n",
    "На ценообразование не влияют:\n",
    "* день, месяц и год выставления объявления\n",
    "\n"
   ]
  },
  {
   "cell_type": "markdown",
   "id": "240e731a",
   "metadata": {},
   "source": [
    "**ЗАДАНИЕ 3**\n",
    "\n",
    "* Выбрать 10 населеных пунктов с наибольшим числом объявлений\n",
    "* Посчитать среднюю цену квадратного метра\n",
    "* Посчитать наименьшую и наибольшую цену квадратного метра в выборке"
   ]
  },
  {
   "cell_type": "code",
   "execution_count": 62,
   "id": "827c2cf0",
   "metadata": {
    "scrolled": false
   },
   "outputs": [
    {
     "data": {
      "text/html": [
       "<div>\n",
       "<style scoped>\n",
       "    .dataframe tbody tr th:only-of-type {\n",
       "        vertical-align: middle;\n",
       "    }\n",
       "\n",
       "    .dataframe tbody tr th {\n",
       "        vertical-align: top;\n",
       "    }\n",
       "\n",
       "    .dataframe thead th {\n",
       "        text-align: right;\n",
       "    }\n",
       "</style>\n",
       "<table border=\"1\" class=\"dataframe\">\n",
       "  <thead>\n",
       "    <tr style=\"text-align: right;\">\n",
       "      <th></th>\n",
       "      <th>count</th>\n",
       "      <th>median</th>\n",
       "    </tr>\n",
       "    <tr>\n",
       "      <th>locality_name</th>\n",
       "      <th></th>\n",
       "      <th></th>\n",
       "    </tr>\n",
       "  </thead>\n",
       "  <tbody>\n",
       "    <tr>\n",
       "      <th>Санкт-Петербург</th>\n",
       "      <td>14776</td>\n",
       "      <td>103339.885</td>\n",
       "    </tr>\n",
       "    <tr>\n",
       "      <th>поселок Мурино</th>\n",
       "      <td>526</td>\n",
       "      <td>84801.380</td>\n",
       "    </tr>\n",
       "    <tr>\n",
       "      <th>поселок Шушары</th>\n",
       "      <td>437</td>\n",
       "      <td>76666.670</td>\n",
       "    </tr>\n",
       "    <tr>\n",
       "      <th>Всеволожск</th>\n",
       "      <td>385</td>\n",
       "      <td>65686.270</td>\n",
       "    </tr>\n",
       "    <tr>\n",
       "      <th>Пушкин</th>\n",
       "      <td>354</td>\n",
       "      <td>99596.340</td>\n",
       "    </tr>\n",
       "    <tr>\n",
       "      <th>Колпино</th>\n",
       "      <td>335</td>\n",
       "      <td>74725.270</td>\n",
       "    </tr>\n",
       "    <tr>\n",
       "      <th>поселок Парголово</th>\n",
       "      <td>325</td>\n",
       "      <td>91642.860</td>\n",
       "    </tr>\n",
       "    <tr>\n",
       "      <th>Гатчина</th>\n",
       "      <td>299</td>\n",
       "      <td>67796.610</td>\n",
       "    </tr>\n",
       "    <tr>\n",
       "      <th>деревня Кудрово</th>\n",
       "      <td>287</td>\n",
       "      <td>91803.280</td>\n",
       "    </tr>\n",
       "    <tr>\n",
       "      <th>Выборг</th>\n",
       "      <td>228</td>\n",
       "      <td>58546.820</td>\n",
       "    </tr>\n",
       "  </tbody>\n",
       "</table>\n",
       "</div>"
      ],
      "text/plain": [
       "                   count      median\n",
       "locality_name                       \n",
       "Санкт-Петербург    14776  103339.885\n",
       "поселок Мурино       526   84801.380\n",
       "поселок Шушары       437   76666.670\n",
       "Всеволожск           385   65686.270\n",
       "Пушкин               354   99596.340\n",
       "Колпино              335   74725.270\n",
       "поселок Парголово    325   91642.860\n",
       "Гатчина              299   67796.610\n",
       "деревня Кудрово      287   91803.280\n",
       "Выборг               228   58546.820"
      ]
     },
     "metadata": {},
     "output_type": "display_data"
    },
    {
     "name": "stdout",
     "output_type": "stream",
     "text": [
      "Наибольшая средняя цена за кв. метр:  103339.88500000001 рублей, в Санкт-Петербурге\n",
      "Наименьшая средняя цена за кв. метр:  58546.82 рублей, в Выборге\n"
     ]
    }
   ],
   "source": [
    "# сгруппируем данные по городам и стоимосте за кв. метр\n",
    "city_separation = (\n",
    "    data\n",
    "    .pivot_table(index='locality_name', values='meters_price', aggfunc = ('count', 'median'))\n",
    ")\n",
    "# переименуем колонки\n",
    "city_separation.columns = ['count', 'median']\n",
    "# отсортируем по убыванию кол-ва объявлений\n",
    "city_separation.sort_values(by='count', ascending=False, inplace=True)\n",
    "# отсавим первые 10\n",
    "city_separation = city_separation.head(10)\n",
    "display(city_separation)\n",
    "# наибольшая средняя цена за кв. метр\n",
    "print('Наибольшая средняя цена за кв. метр: ', city_separation['median'].max(), 'рублей, в Санкт-Петербурге')\n",
    "# наименьшая средняя цена за кв. метр\n",
    "print('Наименьшая средняя цена за кв. метр: ', city_separation['median'].min(), 'рублей, в Выборге')"
   ]
  },
  {
   "cell_type": "markdown",
   "id": "46e800fb",
   "metadata": {},
   "source": [
    "**ЗАДАНИЕ 4**\n",
    "\n",
    "Понять какая область входит в понятие \"центр\".\n",
    "* собрать данные по Санкт-Петербургу\n",
    "* округлить значения расстояния до целого числа\n",
    "* построить диаграмму\n",
    "* определить центр\n",
    "* рассчитать среднюю стоимость для каждого километра"
   ]
  },
  {
   "cell_type": "code",
   "execution_count": 63,
   "id": "9b7bf0dd",
   "metadata": {},
   "outputs": [
    {
     "data": {
      "text/html": [
       "<div>\n",
       "<style scoped>\n",
       "    .dataframe tbody tr th:only-of-type {\n",
       "        vertical-align: middle;\n",
       "    }\n",
       "\n",
       "    .dataframe tbody tr th {\n",
       "        vertical-align: top;\n",
       "    }\n",
       "\n",
       "    .dataframe thead th {\n",
       "        text-align: right;\n",
       "    }\n",
       "</style>\n",
       "<table border=\"1\" class=\"dataframe\">\n",
       "  <thead>\n",
       "    <tr style=\"text-align: right;\">\n",
       "      <th></th>\n",
       "      <th>last_price</th>\n",
       "    </tr>\n",
       "    <tr>\n",
       "      <th>city_center_nearest</th>\n",
       "      <th></th>\n",
       "    </tr>\n",
       "  </thead>\n",
       "  <tbody>\n",
       "    <tr>\n",
       "      <th>0.0</th>\n",
       "      <td>9.981667e+06</td>\n",
       "    </tr>\n",
       "    <tr>\n",
       "      <th>1.0</th>\n",
       "      <td>1.055320e+07</td>\n",
       "    </tr>\n",
       "    <tr>\n",
       "      <th>2.0</th>\n",
       "      <td>9.898652e+06</td>\n",
       "    </tr>\n",
       "    <tr>\n",
       "      <th>3.0</th>\n",
       "      <td>8.945454e+06</td>\n",
       "    </tr>\n",
       "    <tr>\n",
       "      <th>4.0</th>\n",
       "      <td>9.336809e+06</td>\n",
       "    </tr>\n",
       "  </tbody>\n",
       "</table>\n",
       "</div>"
      ],
      "text/plain": [
       "                       last_price\n",
       "city_center_nearest              \n",
       "0.0                  9.981667e+06\n",
       "1.0                  1.055320e+07\n",
       "2.0                  9.898652e+06\n",
       "3.0                  8.945454e+06\n",
       "4.0                  9.336809e+06"
      ]
     },
     "execution_count": 63,
     "metadata": {},
     "output_type": "execute_result"
    }
   ],
   "source": [
    "test = (\n",
    "    data\n",
    "    .query('locality_name == \"Санкт-Петербург\" and last_price < 900000000')\n",
    "    .pivot_table(index='city_center_nearest', values='last_price', aggfunc='mean')\n",
    ")\n",
    "# в таблице средние значения для средней стоимости квартиры по каждому км вплоть до 30км.\n",
    "test.head()"
   ]
  },
  {
   "cell_type": "code",
   "execution_count": 64,
   "id": "dee26ced",
   "metadata": {
    "scrolled": false
   },
   "outputs": [
    {
     "data": {
      "image/png": "[encoded data removed]",
      "text/plain": [
       "<Figure size 720x504 with 1 Axes>"
      ]
     },
     "metadata": {
      "needs_background": "light"
     },
     "output_type": "display_data"
    }
   ],
   "source": [
    "plt.figure(figsize=(10,7))\n",
    "ax = plt.subplot()\n",
    "plt.bar(range(len(test)), test['last_price'], color='#4682B4')\n",
    "ax.set_xticks([0, 3, 8, 20, 30])\n",
    "ax.set_yticklabels(['0', '5 млн.руб', '10 млн.руб', '15 млн.руб', '20 млн.руб', '25 млн.руб', '30 млн.руб'])\n",
    "plt.xlabel('Расстояние от центра в км')\n",
    "plt.ylabel('Цена квартиры')\n",
    "plt.grid(True)\n",
    "\n",
    "plt.show()\n",
    "# всплеск на 25 км могу объяснить тем, что значения пропущенные в колонке \"до центра города\"\n",
    "# я заменила на 25км"
   ]
  },
  {
   "cell_type": "markdown",
   "id": "083af7ab",
   "metadata": {},
   "source": [
    "**вывод**\n",
    "\n",
    "Итак, могу отметить расстояние в 8км, после этого значения средняя стоимость квартир возрастает. Таким образом - все что в пределах 8ми км является центром."
   ]
  },
  {
   "cell_type": "code",
   "execution_count": 65,
   "id": "2a05deb3",
   "metadata": {},
   "outputs": [],
   "source": [
    "# применю к датасету фильтры и сохраню это в новой переменной\n",
    "# это все квартиры в Питере в центре \n",
    "piter_center = data.query('locality_name == \"Санкт-Петербург\" and city_center_nearest <= 8 and total_area <= 400 and last_price <= 200000000 and rooms <= 8') \n"
   ]
  },
  {
   "cell_type": "code",
   "execution_count": 66,
   "id": "07928374",
   "metadata": {
    "scrolled": false
   },
   "outputs": [
    {
     "data": {
      "image/png": "[encoded data removed]",
      "text/plain": [
       "<Figure size 1080x1080 with 5 Axes>"
      ]
     },
     "metadata": {
      "needs_background": "light"
     },
     "output_type": "display_data"
    }
   ],
   "source": [
    "# построю все гистограммы в одной картинке\n",
    "plt.figure(figsize=(15, 15))\n",
    "\n",
    "plt.subplot(2, 3, 1)\n",
    "plt.hist(piter_center['total_area'], bins=30)\n",
    "plt.title('Суммарная площадь квартиры')\n",
    "plt.xlabel('Площадь квартиры, метры кв.')\n",
    "plt.ylabel('Частота')\n",
    "\n",
    "plt.subplot(2, 3, 2)\n",
    "plt.hist(piter_center['last_price'])\n",
    "plt.title('Цена на квартиру')\n",
    "plt.xlabel('Цена квартиры, *10000000 руб.')\n",
    "plt.ylabel('Частота')\n",
    "\n",
    "plt.subplot(2, 3, 3)\n",
    "plt.hist(piter_center['rooms'], bins=5)\n",
    "plt.title('Кол-во комнат')\n",
    "plt.xlabel('Количесвто комнат, шт.')\n",
    "plt.ylabel('Частота')\n",
    "\n",
    "plt.subplot(2, 3, 4)\n",
    "plt.hist(piter_center['ceiling_height'])\n",
    "plt.title('Высота потолков')\n",
    "plt.xlabel('Высота потолков, метр')\n",
    "plt.ylabel('Частота')\n",
    "\n",
    "plt.subplot(2, 3, 5)\n",
    "plt.hist(piter_center['city_center_nearest'], bins=8)\n",
    "plt.title('Расстояние от центра города')\n",
    "plt.xlabel('Расстояние до центра города, км')\n",
    "plt.ylabel('Частота')\n",
    "\n",
    "plt.show()\n"
   ]
  },
  {
   "cell_type": "markdown",
   "id": "a41552e7",
   "metadata": {},
   "source": [
    "В целом показатели не сильно меняются от того, что мы видели до выборки.\n",
    "\n",
    "Итак:\n",
    "* суммарная площадь сместилась в сторону увеличения - то есть если раньше медиана была в районе 50кв.метров, а теперь - ближе к 100кв.метрам.\n",
    "* средняя стоимость квартиры увеличилась с 4млн рублей до ~10 млн. рублей\n",
    "* количество комнат - среднее значение было около 2х комнат, теперь сместилось к 3м комнатам.\n",
    "* высота потолков осталась без изменений"
   ]
  },
  {
   "cell_type": "code",
   "execution_count": 67,
   "id": "f94816f4",
   "metadata": {},
   "outputs": [
    {
     "data": {
      "text/html": [
       "<div>\n",
       "<style scoped>\n",
       "    .dataframe tbody tr th:only-of-type {\n",
       "        vertical-align: middle;\n",
       "    }\n",
       "\n",
       "    .dataframe tbody tr th {\n",
       "        vertical-align: top;\n",
       "    }\n",
       "\n",
       "    .dataframe thead th {\n",
       "        text-align: right;\n",
       "    }\n",
       "</style>\n",
       "<table border=\"1\" class=\"dataframe\">\n",
       "  <thead>\n",
       "    <tr style=\"text-align: right;\">\n",
       "      <th></th>\n",
       "      <th>Наименование параметра</th>\n",
       "      <th>Значение</th>\n",
       "      <th>Единица измерения</th>\n",
       "    </tr>\n",
       "  </thead>\n",
       "  <tbody>\n",
       "    <tr>\n",
       "      <th>0</th>\n",
       "      <td>ср.знач. площади квартиры для Центра Питера</td>\n",
       "      <td>75</td>\n",
       "      <td>кв. метр</td>\n",
       "    </tr>\n",
       "    <tr>\n",
       "      <th>1</th>\n",
       "      <td>ср.знач. площади квартиры для исходных данных</td>\n",
       "      <td>57</td>\n",
       "      <td>кв. метр</td>\n",
       "    </tr>\n",
       "    <tr>\n",
       "      <th>2</th>\n",
       "      <td>ср.знач. стоимости квартиры для Центра Питера</td>\n",
       "      <td>8898734</td>\n",
       "      <td>рублей</td>\n",
       "    </tr>\n",
       "    <tr>\n",
       "      <th>3</th>\n",
       "      <td>ср.знач. стоимости квартиры для исходных данных</td>\n",
       "      <td>5468347</td>\n",
       "      <td>рублей</td>\n",
       "    </tr>\n",
       "    <tr>\n",
       "      <th>4</th>\n",
       "      <td>ср.знач. кол-ва комнат, для Центра Питера</td>\n",
       "      <td>3</td>\n",
       "      <td>штук</td>\n",
       "    </tr>\n",
       "    <tr>\n",
       "      <th>5</th>\n",
       "      <td>ср.знач. кол-ва комнат, для данных \"до выборки\"</td>\n",
       "      <td>2</td>\n",
       "      <td>штук</td>\n",
       "    </tr>\n",
       "    <tr>\n",
       "      <th>6</th>\n",
       "      <td>ср.знач. высоты потолков для Центра Питера</td>\n",
       "      <td>3</td>\n",
       "      <td>метров</td>\n",
       "    </tr>\n",
       "    <tr>\n",
       "      <th>7</th>\n",
       "      <td>ср.знач. высоты потолков для исходных данных</td>\n",
       "      <td>3</td>\n",
       "      <td>метров</td>\n",
       "    </tr>\n",
       "  </tbody>\n",
       "</table>\n",
       "</div>"
      ],
      "text/plain": [
       "                            Наименование параметра  Значение Единица измерения\n",
       "0      ср.знач. площади квартиры для Центра Питера        75          кв. метр\n",
       "1    ср.знач. площади квартиры для исходных данных        57          кв. метр\n",
       "2    ср.знач. стоимости квартиры для Центра Питера   8898734            рублей\n",
       "3  ср.знач. стоимости квартиры для исходных данных   5468347            рублей\n",
       "4        ср.знач. кол-ва комнат, для Центра Питера         3              штук\n",
       "5  ср.знач. кол-ва комнат, для данных \"до выборки\"         2              штук\n",
       "6       ср.знач. высоты потолков для Центра Питера         3            метров\n",
       "7     ср.знач. высоты потолков для исходных данных         3            метров"
      ]
     },
     "metadata": {},
     "output_type": "display_data"
    }
   ],
   "source": [
    "summary = pd.DataFrame(\n",
    "[['ср.знач. площади квартиры для Центра Питера', round(piter_center['total_area'].mean()), 'кв. метр'],\n",
    " ['ср.знач. площади квартиры для исходных данных', round(data['total_area'].mean()), 'кв. метр'],\n",
    " ['ср.знач. стоимости квартиры для Центра Питера', round(piter_center['last_price'].mean()), 'рублей'],\n",
    " ['ср.знач. стоимости квартиры для исходных данных', round(data['last_price'].mean()), 'рублей'],\n",
    " ['ср.знач. кол-ва комнат, для Центра Питера', round(piter_center['rooms'].mean()), 'штук'],\n",
    " ['ср.знач. кол-ва комнат, для данных \"до выборки\"', round(data['rooms'].mean()), 'штук'],\n",
    " ['ср.знач. высоты потолков для Центра Питера', round(piter_center['ceiling_height'].mean()), 'метров'],\n",
    " ['ср.знач. высоты потолков для исходных данных', round(data['ceiling_height'].mean()), 'метров']],\n",
    " columns = ['Наименование параметра', 'Значение', 'Единица измерения'])\n",
    "\n",
    "display(summary)"
   ]
  },
  {
   "cell_type": "code",
   "execution_count": 68,
   "id": "c2e99f2b",
   "metadata": {
    "scrolled": false
   },
   "outputs": [
    {
     "data": {
      "image/png": "[encoded data removed]",
      "text/plain": [
       "<Figure size 720x504 with 1 Axes>"
      ]
     },
     "metadata": {
      "needs_background": "light"
     },
     "output_type": "display_data"
    },
    {
     "name": "stdout",
     "output_type": "stream",
     "text": [
      "Коэффициент корреляции между высотой потолка в квартире и ее ценой\n",
      "0.2723843515540132\n"
     ]
    }
   ],
   "source": [
    "plt.figure(figsize=(10, 7))\n",
    "plt.scatter(piter_center['ceiling_height'], piter_center['last_price'])\n",
    "plt.xlabel('Высота потолков')\n",
    "plt.ylabel('Стоимость квартиры')\n",
    "plt.show()\n",
    "\n",
    "print('Коэффициент корреляции между высотой потолка в квартире и ее ценой')\n",
    "print(piter_center['ceiling_height'].corr(piter_center['last_price']))"
   ]
  },
  {
   "cell_type": "code",
   "execution_count": 69,
   "id": "42888bae",
   "metadata": {
    "scrolled": false
   },
   "outputs": [
    {
     "data": {
      "image/png": "[encoded data removed]",
      "text/plain": [
       "<Figure size 720x504 with 1 Axes>"
      ]
     },
     "metadata": {
      "needs_background": "light"
     },
     "output_type": "display_data"
    }
   ],
   "source": [
    "plt.figure(figsize=(10, 7))\n",
    "#plt.scatter(piter_center['rooms'], piter_center['last_price'])\n",
    "\n",
    "plt.bar(range(0, 7), piter_center.groupby('rooms')['last_price'].mean())\n",
    "plt.xlabel('Количества комнат')\n",
    "plt.ylabel('Стоимость квартиры')\n",
    "plt.show()\n"
   ]
  },
  {
   "cell_type": "code",
   "execution_count": 70,
   "id": "139afb60",
   "metadata": {},
   "outputs": [
    {
     "data": {
      "image/png": "[encoded data removed]",
      "text/plain": [
       "<Figure size 720x504 with 1 Axes>"
      ]
     },
     "metadata": {
      "needs_background": "light"
     },
     "output_type": "display_data"
    },
    {
     "name": "stdout",
     "output_type": "stream",
     "text": [
      "Коэффициент корреляции между расстоянием до центра и ее ценой\n",
      "-0.18026221244038734\n"
     ]
    }
   ],
   "source": [
    "plt.figure(figsize=(10, 7))\n",
    "#plt.scatter(piter_center['city_center_nearest'], piter_center['last_price'])\n",
    "\n",
    "plt.bar(range(0, 9), piter_center.groupby('city_center_nearest')['last_price'].mean())\n",
    "plt.xlabel('Расстояние до центра, км')\n",
    "plt.ylabel('Стоимость квартиры')\n",
    "plt.show()\n",
    "\n",
    "print('Коэффициент корреляции между расстоянием до центра и ее ценой')\n",
    "print(piter_center['city_center_nearest'].corr(piter_center['last_price']))"
   ]
  },
  {
   "cell_type": "code",
   "execution_count": 71,
   "id": "fbc7fe01",
   "metadata": {},
   "outputs": [
    {
     "data": {
      "image/png": "[encoded data removed]",
      "text/plain": [
       "<Figure size 720x504 with 1 Axes>"
      ]
     },
     "metadata": {
      "needs_background": "light"
     },
     "output_type": "display_data"
    },
    {
     "name": "stdout",
     "output_type": "stream",
     "text": [
      "Коэффициент корреляции между площади квартиры и ее ценой\n",
      "0.7412330705461193\n"
     ]
    }
   ],
   "source": [
    "plt.figure(figsize=(10, 7))\n",
    "plt.scatter(piter_center['total_area'], piter_center['last_price'])\n",
    "\n",
    "plt.xlabel('Суммарная площадь квартиры, метры кв.')\n",
    "plt.ylabel('Стоимость квартиры')\n",
    "plt.show()\n",
    "\n",
    "print('Коэффициент корреляции между площади квартиры и ее ценой')\n",
    "print(piter_center['total_area'].corr(piter_center['last_price']))"
   ]
  },
  {
   "cell_type": "code",
   "execution_count": 72,
   "id": "880cb211",
   "metadata": {},
   "outputs": [
    {
     "data": {
      "image/png": "[encoded data removed]",
      "text/plain": [
       "<Figure size 720x504 with 1 Axes>"
      ]
     },
     "metadata": {
      "needs_background": "light"
     },
     "output_type": "display_data"
    }
   ],
   "source": [
    "plt.figure(figsize=(10, 7))\n",
    "#plt.scatter(piter_center['month_name'], piter_center['last_price'])\n",
    "\n",
    "plt.bar(mon, piter_center.groupby('month')['last_price'].mean())\n",
    "plt.xlabel('Месяц года')\n",
    "plt.ylabel('Стоимость квартиры')\n",
    "plt.show()"
   ]
  },
  {
   "cell_type": "code",
   "execution_count": 73,
   "id": "7c30ab1b",
   "metadata": {},
   "outputs": [
    {
     "data": {
      "text/html": [
       "<div>\n",
       "<style scoped>\n",
       "    .dataframe tbody tr th:only-of-type {\n",
       "        vertical-align: middle;\n",
       "    }\n",
       "\n",
       "    .dataframe tbody tr th {\n",
       "        vertical-align: top;\n",
       "    }\n",
       "\n",
       "    .dataframe thead th {\n",
       "        text-align: right;\n",
       "    }\n",
       "</style>\n",
       "<table border=\"1\" class=\"dataframe\">\n",
       "  <thead>\n",
       "    <tr style=\"text-align: right;\">\n",
       "      <th></th>\n",
       "      <th>total_images</th>\n",
       "      <th>last_price</th>\n",
       "      <th>total_area</th>\n",
       "      <th>first_day_exposition</th>\n",
       "      <th>rooms</th>\n",
       "      <th>ceiling_height</th>\n",
       "      <th>floors_total</th>\n",
       "      <th>living_area</th>\n",
       "      <th>floor</th>\n",
       "      <th>is_apartment</th>\n",
       "      <th>...</th>\n",
       "      <th>meters_price</th>\n",
       "      <th>time_data</th>\n",
       "      <th>month</th>\n",
       "      <th>weekday</th>\n",
       "      <th>year</th>\n",
       "      <th>month_name</th>\n",
       "      <th>day_name</th>\n",
       "      <th>floor_name</th>\n",
       "      <th>living_to_total</th>\n",
       "      <th>kitchen_to_total</th>\n",
       "    </tr>\n",
       "  </thead>\n",
       "  <tbody>\n",
       "    <tr>\n",
       "      <th>4</th>\n",
       "      <td>2</td>\n",
       "      <td>10000000.0</td>\n",
       "      <td>100.0</td>\n",
       "      <td>2018-06-19T00:00:00</td>\n",
       "      <td>2</td>\n",
       "      <td>3.03</td>\n",
       "      <td>14</td>\n",
       "      <td>32.0</td>\n",
       "      <td>13</td>\n",
       "      <td>False</td>\n",
       "      <td>...</td>\n",
       "      <td>100000.00</td>\n",
       "      <td>2018-06-19</td>\n",
       "      <td>6</td>\n",
       "      <td>1</td>\n",
       "      <td>2018</td>\n",
       "      <td>Июнь</td>\n",
       "      <td>Вторник</td>\n",
       "      <td>другой</td>\n",
       "      <td>0.32</td>\n",
       "      <td>0.41</td>\n",
       "    </tr>\n",
       "    <tr>\n",
       "      <th>24</th>\n",
       "      <td>8</td>\n",
       "      <td>6500000.0</td>\n",
       "      <td>97.2</td>\n",
       "      <td>2015-10-31T00:00:00</td>\n",
       "      <td>2</td>\n",
       "      <td>2.60</td>\n",
       "      <td>3</td>\n",
       "      <td>46.5</td>\n",
       "      <td>1</td>\n",
       "      <td>False</td>\n",
       "      <td>...</td>\n",
       "      <td>66872.43</td>\n",
       "      <td>2015-10-31</td>\n",
       "      <td>10</td>\n",
       "      <td>5</td>\n",
       "      <td>2015</td>\n",
       "      <td>Октябрь</td>\n",
       "      <td>Суббота</td>\n",
       "      <td>первый</td>\n",
       "      <td>0.48</td>\n",
       "      <td>0.20</td>\n",
       "    </tr>\n",
       "    <tr>\n",
       "      <th>35</th>\n",
       "      <td>6</td>\n",
       "      <td>15500000.0</td>\n",
       "      <td>149.0</td>\n",
       "      <td>2017-06-26T00:00:00</td>\n",
       "      <td>5</td>\n",
       "      <td>3.11</td>\n",
       "      <td>5</td>\n",
       "      <td>104.0</td>\n",
       "      <td>4</td>\n",
       "      <td>False</td>\n",
       "      <td>...</td>\n",
       "      <td>104026.85</td>\n",
       "      <td>2017-06-26</td>\n",
       "      <td>6</td>\n",
       "      <td>0</td>\n",
       "      <td>2017</td>\n",
       "      <td>Июнь</td>\n",
       "      <td>Понедельник</td>\n",
       "      <td>другой</td>\n",
       "      <td>0.70</td>\n",
       "      <td>0.11</td>\n",
       "    </tr>\n",
       "    <tr>\n",
       "      <th>52</th>\n",
       "      <td>20</td>\n",
       "      <td>11795000.0</td>\n",
       "      <td>136.0</td>\n",
       "      <td>2017-09-22T00:00:00</td>\n",
       "      <td>6</td>\n",
       "      <td>3.00</td>\n",
       "      <td>2</td>\n",
       "      <td>94.0</td>\n",
       "      <td>2</td>\n",
       "      <td>False</td>\n",
       "      <td>...</td>\n",
       "      <td>86727.94</td>\n",
       "      <td>2017-09-22</td>\n",
       "      <td>9</td>\n",
       "      <td>4</td>\n",
       "      <td>2017</td>\n",
       "      <td>Сентябрь</td>\n",
       "      <td>Пятница</td>\n",
       "      <td>последний</td>\n",
       "      <td>0.69</td>\n",
       "      <td>0.08</td>\n",
       "    </tr>\n",
       "    <tr>\n",
       "      <th>61</th>\n",
       "      <td>18</td>\n",
       "      <td>7990000.0</td>\n",
       "      <td>74.0</td>\n",
       "      <td>2017-08-24T00:00:00</td>\n",
       "      <td>2</td>\n",
       "      <td>2.60</td>\n",
       "      <td>4</td>\n",
       "      <td>43.0</td>\n",
       "      <td>4</td>\n",
       "      <td>False</td>\n",
       "      <td>...</td>\n",
       "      <td>107972.97</td>\n",
       "      <td>2017-08-24</td>\n",
       "      <td>8</td>\n",
       "      <td>3</td>\n",
       "      <td>2017</td>\n",
       "      <td>Август</td>\n",
       "      <td>Четверг</td>\n",
       "      <td>последний</td>\n",
       "      <td>0.58</td>\n",
       "      <td>0.27</td>\n",
       "    </tr>\n",
       "  </tbody>\n",
       "</table>\n",
       "<p>5 rows × 32 columns</p>\n",
       "</div>"
      ],
      "text/plain": [
       "    total_images  last_price  total_area first_day_exposition  rooms  \\\n",
       "4              2  10000000.0       100.0  2018-06-19T00:00:00      2   \n",
       "24             8   6500000.0        97.2  2015-10-31T00:00:00      2   \n",
       "35             6  15500000.0       149.0  2017-06-26T00:00:00      5   \n",
       "52            20  11795000.0       136.0  2017-09-22T00:00:00      6   \n",
       "61            18   7990000.0        74.0  2017-08-24T00:00:00      2   \n",
       "\n",
       "    ceiling_height  floors_total  living_area  floor  is_apartment  ...  \\\n",
       "4             3.03            14         32.0     13         False  ...   \n",
       "24            2.60             3         46.5      1         False  ...   \n",
       "35            3.11             5        104.0      4         False  ...   \n",
       "52            3.00             2         94.0      2         False  ...   \n",
       "61            2.60             4         43.0      4         False  ...   \n",
       "\n",
       "    meters_price  time_data  month  weekday  year  month_name     day_name  \\\n",
       "4      100000.00 2018-06-19      6        1  2018        Июнь      Вторник   \n",
       "24      66872.43 2015-10-31     10        5  2015     Октябрь      Суббота   \n",
       "35     104026.85 2017-06-26      6        0  2017        Июнь  Понедельник   \n",
       "52      86727.94 2017-09-22      9        4  2017    Сентябрь      Пятница   \n",
       "61     107972.97 2017-08-24      8        3  2017      Август      Четверг   \n",
       "\n",
       "    floor_name  living_to_total  kitchen_to_total  \n",
       "4       другой             0.32              0.41  \n",
       "24      первый             0.48              0.20  \n",
       "35      другой             0.70              0.11  \n",
       "52   последний             0.69              0.08  \n",
       "61   последний             0.58              0.27  \n",
       "\n",
       "[5 rows x 32 columns]"
      ]
     },
     "execution_count": 73,
     "metadata": {},
     "output_type": "execute_result"
    }
   ],
   "source": [
    "piter_center.head()"
   ]
  },
  {
   "cell_type": "code",
   "execution_count": 74,
   "id": "eec90ed4",
   "metadata": {},
   "outputs": [
    {
     "data": {
      "image/png": "[encoded data removed]",
      "text/plain": [
       "<Figure size 1080x432 with 1 Axes>"
      ]
     },
     "metadata": {
      "needs_background": "light"
     },
     "output_type": "display_data"
    }
   ],
   "source": [
    "plt.figure(figsize=(15, 6))\n",
    "#plt.scatter(piter_center['day_name'], piter_center['last_price'])\n",
    "#day = ['понедельник', 'вторник', 'среда', 'четверг', 'пятница', 'суббота', 'воскресенье']\n",
    "plt.bar(day, piter_center.groupby('day_name')['last_price'].mean())\n",
    "\n",
    "plt.xlabel('День недели')\n",
    "plt.ylabel('Стоимость квартиры')\n",
    "plt.show()"
   ]
  },
  {
   "cell_type": "code",
   "execution_count": 75,
   "id": "0fc69906",
   "metadata": {},
   "outputs": [
    {
     "data": {
      "image/png": "[encoded data removed]",
      "text/plain": [
       "<Figure size 720x504 with 1 Axes>"
      ]
     },
     "metadata": {
      "needs_background": "light"
     },
     "output_type": "display_data"
    }
   ],
   "source": [
    "plt.figure(figsize=(10, 7))\n",
    "#plt.scatter(piter_center['year'], piter_center['last_price'])\n",
    "\n",
    "plt.bar(range(2014, 2020), piter_center.groupby('year')['last_price'].mean())\n",
    "plt.xlabel('Год')\n",
    "plt.ylabel('Стоимость квартиры')\n",
    "plt.show()"
   ]
  },
  {
   "cell_type": "markdown",
   "id": "145a7259",
   "metadata": {},
   "source": [
    "**вывод**\n",
    "\n",
    "На ценообразование квартир в Питере в центровой зоне все также имеет влияение общая площадь квартиры, в меньшей степени - количество комнат, не влияют: день, месяц, год."
   ]
  },
  {
   "cell_type": "markdown",
   "id": "21bef43c",
   "metadata": {},
   "source": [
    "**ОБЩИЙ ВЫВОД**\n",
    "\n",
    "проведена обработка данных, заполненны пропуски в данных:\n",
    "* в некоторых местах данные заменены на медианные значения, сгруппированные по 2м показателям\n",
    "* некоторые значения заменены на 0, где-то на значения \"неизвестно\"\n",
    "* пропуски в значениях прудов, парков, расстояний до ажропортов - решила не придумывать и не заполнять, тем более что на дальнейшие расчеты это не влияет.\n",
    "\n",
    "при дальнейшем рассмотрении данных хорошо видно следующее:\n",
    "\n",
    "для необработанных данных:\n",
    "* средняя цена на квартиру ~4млн. рублей\n",
    "* средняя площадь квартиры ~50 кв. метров\n",
    "* среднее кол-во комнат - 2\n",
    "* средняя цена за кв. метр около 100 тысяч рублей\n",
    "* средняя высота потолков -2.50 метров\n",
    "\n",
    "**Задание 1**\n",
    "\n",
    "Исследованы значения продажи квартиры (дни), установлено:\n",
    "* медианное значение - 74 дня\n",
    "* среднее значение - 156 дней\n",
    "* аномально быстрыми продажами считаются продажи, совершенные менее чем за 30 дней\n",
    "* аномально долгими - те, что больше 200 дней\n",
    "\n",
    "**Задание 2**\n",
    "\n",
    "Исследование влияния параметров на цену квартир:\n",
    "* суммарная площадь квартир имеет сильное влияние на стоимость квартиры\n",
    "* количество комнат также имеет влияние, однако опосредованно, через площадь квартиры\n",
    "* расстояние до центра имеет обратную зависимоть - чем ближе к центру, тем выше стоимость\n",
    "* дата выставления объявления не влияет на цену квартиры\n",
    "\n",
    "**Задание 3**\n",
    "\n",
    "* выбраны 10 населенных пунктов с самым большим кол-вом объявлений\n",
    "* посчитано среднее значение цены квадратного метра\n",
    "* найдено минимальное значение стоимости кв. метра ( СПБ - 104761 тыс. руб)\n",
    "* найдено максимальное значение стоимости кв. метра (Выборг - 58307 тыс. руб)\n",
    "\n",
    "**Задание 4**\n",
    "\n",
    "* определен центр города - 8км\n",
    "* посчитана средняя стоимость для каждого км\n",
    "\n",
    "**Задание 5**\n",
    "\n",
    "для отфильтрованых значений Санкт-Петербурга в пределах 8 км\n",
    "* суммарная площадь сместилась в сторону увеличения - то есть если раньше медиана была в районе 50кв.метров, а теперь - ближе к 100кв.метрам.\n",
    "* средняя стоимость квартиры увеличилась с 4млн рублей до 10 млн. рублей\n",
    "* количество комнат - среднее значение было около 2х комнат, теперь сместилось к 3м комнатам.\n",
    "* высота потолков осталась без изменений\n"
   ]
  }
 ],
 "metadata": {
  "ExecuteTimeLog": [
   {
    "duration": 1344,
    "start_time": "2022-03-05T16:20:01.271Z"
   },
   {
    "duration": 1997,
    "start_time": "2022-03-05T16:20:02.619Z"
   },
   {
    "duration": -1414,
    "start_time": "2022-03-05T16:20:06.039Z"
   },
   {
    "duration": -1415,
    "start_time": "2022-03-05T16:20:06.042Z"
   },
   {
    "duration": -1417,
    "start_time": "2022-03-05T16:20:06.046Z"
   },
   {
    "duration": -1418,
    "start_time": "2022-03-05T16:20:06.049Z"
   },
   {
    "duration": -1419,
    "start_time": "2022-03-05T16:20:06.053Z"
   },
   {
    "duration": -1421,
    "start_time": "2022-03-05T16:20:06.057Z"
   },
   {
    "duration": -1421,
    "start_time": "2022-03-05T16:20:06.060Z"
   },
   {
    "duration": -1422,
    "start_time": "2022-03-05T16:20:06.063Z"
   },
   {
    "duration": -1422,
    "start_time": "2022-03-05T16:20:06.066Z"
   },
   {
    "duration": -1424,
    "start_time": "2022-03-05T16:20:06.070Z"
   },
   {
    "duration": -1424,
    "start_time": "2022-03-05T16:20:06.073Z"
   },
   {
    "duration": -1425,
    "start_time": "2022-03-05T16:20:06.076Z"
   },
   {
    "duration": -1426,
    "start_time": "2022-03-05T16:20:06.079Z"
   },
   {
    "duration": -1427,
    "start_time": "2022-03-05T16:20:06.083Z"
   },
   {
    "duration": -1428,
    "start_time": "2022-03-05T16:20:06.086Z"
   },
   {
    "duration": -1435,
    "start_time": "2022-03-05T16:20:06.095Z"
   },
   {
    "duration": -1417,
    "start_time": "2022-03-05T16:20:06.099Z"
   },
   {
    "duration": -1419,
    "start_time": "2022-03-05T16:20:06.103Z"
   },
   {
    "duration": -1420,
    "start_time": "2022-03-05T16:20:06.106Z"
   },
   {
    "duration": -1421,
    "start_time": "2022-03-05T16:20:06.109Z"
   },
   {
    "duration": -1423,
    "start_time": "2022-03-05T16:20:06.113Z"
   },
   {
    "duration": -1424,
    "start_time": "2022-03-05T16:20:06.117Z"
   },
   {
    "duration": -1426,
    "start_time": "2022-03-05T16:20:06.122Z"
   },
   {
    "duration": -1428,
    "start_time": "2022-03-05T16:20:06.126Z"
   },
   {
    "duration": -1430,
    "start_time": "2022-03-05T16:20:06.130Z"
   },
   {
    "duration": -1431,
    "start_time": "2022-03-05T16:20:06.133Z"
   },
   {
    "duration": -1433,
    "start_time": "2022-03-05T16:20:06.138Z"
   },
   {
    "duration": -1434,
    "start_time": "2022-03-05T16:20:06.141Z"
   },
   {
    "duration": -1437,
    "start_time": "2022-03-05T16:20:06.146Z"
   },
   {
    "duration": -1446,
    "start_time": "2022-03-05T16:20:06.158Z"
   },
   {
    "duration": -1474,
    "start_time": "2022-03-05T16:20:06.188Z"
   },
   {
    "duration": -1495,
    "start_time": "2022-03-05T16:20:06.212Z"
   },
   {
    "duration": -1511,
    "start_time": "2022-03-05T16:20:06.230Z"
   },
   {
    "duration": -1486,
    "start_time": "2022-03-05T16:20:06.268Z"
   },
   {
    "duration": -1486,
    "start_time": "2022-03-05T16:20:06.271Z"
   },
   {
    "duration": -1487,
    "start_time": "2022-03-05T16:20:06.274Z"
   },
   {
    "duration": -1489,
    "start_time": "2022-03-05T16:20:06.278Z"
   },
   {
    "duration": -1511,
    "start_time": "2022-03-05T16:20:06.302Z"
   },
   {
    "duration": -1513,
    "start_time": "2022-03-05T16:20:06.306Z"
   },
   {
    "duration": -1574,
    "start_time": "2022-03-05T16:20:06.370Z"
   },
   {
    "duration": -1576,
    "start_time": "2022-03-05T16:20:06.374Z"
   },
   {
    "duration": -1577,
    "start_time": "2022-03-05T16:20:06.377Z"
   },
   {
    "duration": -1577,
    "start_time": "2022-03-05T16:20:06.380Z"
   },
   {
    "duration": -1590,
    "start_time": "2022-03-05T16:20:06.395Z"
   },
   {
    "duration": -1637,
    "start_time": "2022-03-05T16:20:06.445Z"
   },
   {
    "duration": -1668,
    "start_time": "2022-03-05T16:20:06.478Z"
   },
   {
    "duration": -1669,
    "start_time": "2022-03-05T16:20:06.481Z"
   },
   {
    "duration": -1670,
    "start_time": "2022-03-05T16:20:06.484Z"
   },
   {
    "duration": -1671,
    "start_time": "2022-03-05T16:20:06.487Z"
   },
   {
    "duration": -1672,
    "start_time": "2022-03-05T16:20:06.490Z"
   },
   {
    "duration": -1673,
    "start_time": "2022-03-05T16:20:06.493Z"
   },
   {
    "duration": -1613,
    "start_time": "2022-03-05T16:20:06.495Z"
   },
   {
    "duration": -1615,
    "start_time": "2022-03-05T16:20:06.499Z"
   },
   {
    "duration": -1616,
    "start_time": "2022-03-05T16:20:06.501Z"
   },
   {
    "duration": -1617,
    "start_time": "2022-03-05T16:20:06.504Z"
   },
   {
    "duration": -1616,
    "start_time": "2022-03-05T16:20:06.507Z"
   },
   {
    "duration": -1617,
    "start_time": "2022-03-05T16:20:06.510Z"
   },
   {
    "duration": -1619,
    "start_time": "2022-03-05T16:20:06.513Z"
   },
   {
    "duration": -1620,
    "start_time": "2022-03-05T16:20:06.516Z"
   },
   {
    "duration": -1622,
    "start_time": "2022-03-05T16:20:06.519Z"
   },
   {
    "duration": -1623,
    "start_time": "2022-03-05T16:20:06.522Z"
   },
   {
    "duration": 195,
    "start_time": "2022-03-05T16:20:45.259Z"
   },
   {
    "duration": 26,
    "start_time": "2022-03-05T16:21:03.716Z"
   },
   {
    "duration": 11,
    "start_time": "2022-03-05T16:21:04.038Z"
   },
   {
    "duration": 12,
    "start_time": "2022-03-05T16:21:04.435Z"
   },
   {
    "duration": 43,
    "start_time": "2022-03-05T16:21:05.280Z"
   },
   {
    "duration": 42,
    "start_time": "2022-03-05T16:21:05.737Z"
   },
   {
    "duration": 5,
    "start_time": "2022-03-05T16:21:06.514Z"
   },
   {
    "duration": 13,
    "start_time": "2022-03-05T16:21:07.455Z"
   },
   {
    "duration": 9,
    "start_time": "2022-03-05T16:21:08.095Z"
   },
   {
    "duration": 38,
    "start_time": "2022-03-05T16:21:09.226Z"
   },
   {
    "duration": 12,
    "start_time": "2022-03-05T16:21:10.014Z"
   },
   {
    "duration": 5,
    "start_time": "2022-03-05T16:21:10.842Z"
   },
   {
    "duration": 56,
    "start_time": "2022-03-05T16:21:11.961Z"
   },
   {
    "duration": 9,
    "start_time": "2022-03-05T16:21:12.618Z"
   },
   {
    "duration": 17,
    "start_time": "2022-03-05T16:21:13.179Z"
   },
   {
    "duration": 6,
    "start_time": "2022-03-05T16:21:13.715Z"
   },
   {
    "duration": 24,
    "start_time": "2022-03-05T16:21:14.186Z"
   },
   {
    "duration": 35,
    "start_time": "2022-03-05T16:21:14.583Z"
   },
   {
    "duration": 16,
    "start_time": "2022-03-05T16:21:15.056Z"
   },
   {
    "duration": 12,
    "start_time": "2022-03-05T16:21:15.917Z"
   },
   {
    "duration": 40,
    "start_time": "2022-03-05T16:21:16.279Z"
   },
   {
    "duration": 13,
    "start_time": "2022-03-05T16:21:17.742Z"
   },
   {
    "duration": 666,
    "start_time": "2022-03-05T16:21:18.955Z"
   },
   {
    "duration": 26,
    "start_time": "2022-03-05T16:21:19.878Z"
   },
   {
    "duration": 20,
    "start_time": "2022-03-05T16:21:20.304Z"
   },
   {
    "duration": 15,
    "start_time": "2022-03-05T16:21:21.146Z"
   },
   {
    "duration": 1581,
    "start_time": "2022-03-05T16:21:22.172Z"
   },
   {
    "duration": 1272,
    "start_time": "2022-03-05T16:21:23.756Z"
   },
   {
    "duration": 718,
    "start_time": "2022-03-05T16:21:25.031Z"
   },
   {
    "duration": 3,
    "start_time": "2022-03-05T16:21:25.752Z"
   },
   {
    "duration": 635,
    "start_time": "2022-03-05T16:21:26.390Z"
   },
   {
    "duration": 18,
    "start_time": "2022-03-05T16:21:27.703Z"
   },
   {
    "duration": 454,
    "start_time": "2022-03-05T16:21:27.941Z"
   },
   {
    "duration": 13,
    "start_time": "2022-03-05T16:21:28.398Z"
   },
   {
    "duration": 6,
    "start_time": "2022-03-05T16:21:29.498Z"
   },
   {
    "duration": 761,
    "start_time": "2022-03-05T16:21:29.768Z"
   },
   {
    "duration": 4,
    "start_time": "2022-03-05T16:21:30.532Z"
   },
   {
    "duration": 22,
    "start_time": "2022-03-05T16:21:30.560Z"
   },
   {
    "duration": 37,
    "start_time": "2022-03-05T16:21:31.909Z"
   },
   {
    "duration": 503,
    "start_time": "2022-03-05T16:21:32.222Z"
   },
   {
    "duration": 423,
    "start_time": "2022-03-05T16:21:33.112Z"
   },
   {
    "duration": 253,
    "start_time": "2022-03-05T16:21:33.538Z"
   },
   {
    "duration": 20,
    "start_time": "2022-03-05T16:21:33.794Z"
   },
   {
    "duration": 1039,
    "start_time": "2022-03-05T16:21:35.093Z"
   },
   {
    "duration": 995,
    "start_time": "2022-03-05T16:21:36.135Z"
   },
   {
    "duration": 429,
    "start_time": "2022-03-05T16:21:37.133Z"
   },
   {
    "duration": 899,
    "start_time": "2022-03-05T16:21:37.835Z"
   },
   {
    "duration": 726,
    "start_time": "2022-03-05T16:21:38.737Z"
   },
   {
    "duration": 832,
    "start_time": "2022-03-05T16:21:39.619Z"
   },
   {
    "duration": 1152,
    "start_time": "2022-03-05T16:21:40.455Z"
   },
   {
    "duration": 52,
    "start_time": "2022-03-05T16:21:41.611Z"
   },
   {
    "duration": 40,
    "start_time": "2022-03-05T16:21:42.068Z"
   },
   {
    "duration": 568,
    "start_time": "2022-03-05T16:21:42.347Z"
   },
   {
    "duration": 16,
    "start_time": "2022-03-05T16:21:42.942Z"
   },
   {
    "duration": 1726,
    "start_time": "2022-03-05T16:21:43.676Z"
   },
   {
    "duration": 576,
    "start_time": "2022-03-05T16:21:49.768Z"
   },
   {
    "duration": 560,
    "start_time": "2022-03-05T16:21:50.422Z"
   },
   {
    "duration": 734,
    "start_time": "2022-03-05T16:21:52.903Z"
   },
   {
    "duration": 830,
    "start_time": "2022-03-05T16:21:53.640Z"
   },
   {
    "duration": 732,
    "start_time": "2022-03-05T16:21:54.484Z"
   },
   {
    "duration": 683,
    "start_time": "2022-03-05T16:21:56.145Z"
   },
   {
    "duration": 557,
    "start_time": "2022-03-05T16:21:56.831Z"
   },
   {
    "duration": 1501,
    "start_time": "2022-03-07T15:16:15.158Z"
   },
   {
    "duration": 2,
    "start_time": "2022-03-07T15:16:16.662Z"
   },
   {
    "duration": 127,
    "start_time": "2022-03-07T15:16:16.676Z"
   },
   {
    "duration": 16,
    "start_time": "2022-03-07T15:16:16.805Z"
   },
   {
    "duration": 11,
    "start_time": "2022-03-07T15:16:16.823Z"
   },
   {
    "duration": 41,
    "start_time": "2022-03-07T15:16:16.836Z"
   },
   {
    "duration": 45,
    "start_time": "2022-03-07T15:16:16.881Z"
   },
   {
    "duration": 63,
    "start_time": "2022-03-07T15:16:16.930Z"
   },
   {
    "duration": 64,
    "start_time": "2022-03-07T15:16:16.995Z"
   },
   {
    "duration": 11,
    "start_time": "2022-03-07T15:16:17.072Z"
   },
   {
    "duration": 17,
    "start_time": "2022-03-07T15:16:17.086Z"
   },
   {
    "duration": 12,
    "start_time": "2022-03-07T15:16:17.105Z"
   },
   {
    "duration": 17,
    "start_time": "2022-03-07T15:16:17.119Z"
   },
   {
    "duration": 21,
    "start_time": "2022-03-07T15:16:17.139Z"
   },
   {
    "duration": 47,
    "start_time": "2022-03-07T15:16:17.162Z"
   },
   {
    "duration": 5,
    "start_time": "2022-03-07T15:16:17.211Z"
   },
   {
    "duration": 86,
    "start_time": "2022-03-07T15:16:17.218Z"
   },
   {
    "duration": 8,
    "start_time": "2022-03-07T15:16:17.307Z"
   },
   {
    "duration": 31,
    "start_time": "2022-03-07T15:16:17.317Z"
   },
   {
    "duration": 18,
    "start_time": "2022-03-07T15:16:17.350Z"
   },
   {
    "duration": 32,
    "start_time": "2022-03-07T15:16:17.374Z"
   },
   {
    "duration": 36,
    "start_time": "2022-03-07T15:16:17.412Z"
   },
   {
    "duration": 35,
    "start_time": "2022-03-07T15:16:17.452Z"
   },
   {
    "duration": 19,
    "start_time": "2022-03-07T15:16:17.489Z"
   },
   {
    "duration": 43,
    "start_time": "2022-03-07T15:16:17.511Z"
   },
   {
    "duration": 23,
    "start_time": "2022-03-07T15:16:17.556Z"
   },
   {
    "duration": 16,
    "start_time": "2022-03-07T15:16:17.582Z"
   },
   {
    "duration": 37,
    "start_time": "2022-03-07T15:16:17.601Z"
   },
   {
    "duration": 20,
    "start_time": "2022-03-07T15:16:17.641Z"
   },
   {
    "duration": 19,
    "start_time": "2022-03-07T15:16:17.664Z"
   },
   {
    "duration": 1667,
    "start_time": "2022-03-07T15:16:17.685Z"
   },
   {
    "duration": 19,
    "start_time": "2022-03-07T15:16:19.355Z"
   },
   {
    "duration": 679,
    "start_time": "2022-03-07T15:16:19.376Z"
   },
   {
    "duration": 22,
    "start_time": "2022-03-07T15:16:20.057Z"
   },
   {
    "duration": 20,
    "start_time": "2022-03-07T15:16:20.081Z"
   },
   {
    "duration": 658,
    "start_time": "2022-03-07T15:16:20.104Z"
   },
   {
    "duration": 18,
    "start_time": "2022-03-07T15:16:20.765Z"
   },
   {
    "duration": 13,
    "start_time": "2022-03-07T15:16:20.785Z"
   },
   {
    "duration": 19,
    "start_time": "2022-03-07T15:16:20.801Z"
   },
   {
    "duration": 566,
    "start_time": "2022-03-07T15:16:20.822Z"
   },
   {
    "duration": 12,
    "start_time": "2022-03-07T15:16:21.391Z"
   },
   {
    "duration": 11,
    "start_time": "2022-03-07T15:16:21.406Z"
   },
   {
    "duration": 14,
    "start_time": "2022-03-07T15:16:21.419Z"
   },
   {
    "duration": 40,
    "start_time": "2022-03-07T15:16:21.435Z"
   },
   {
    "duration": 764,
    "start_time": "2022-03-07T15:16:21.477Z"
   },
   {
    "duration": 36,
    "start_time": "2022-03-07T15:16:22.244Z"
   },
   {
    "duration": 22,
    "start_time": "2022-03-07T15:16:22.282Z"
   },
   {
    "duration": 27,
    "start_time": "2022-03-07T15:16:22.306Z"
   },
   {
    "duration": 5,
    "start_time": "2022-03-07T15:16:22.335Z"
   },
   {
    "duration": 506,
    "start_time": "2022-03-07T15:16:22.374Z"
   },
   {
    "duration": 403,
    "start_time": "2022-03-07T15:16:22.882Z"
   },
   {
    "duration": 232,
    "start_time": "2022-03-07T15:16:23.289Z"
   },
   {
    "duration": 15,
    "start_time": "2022-03-07T15:16:23.523Z"
   },
   {
    "duration": 1752,
    "start_time": "2022-03-07T15:16:23.540Z"
   },
   {
    "duration": 1796,
    "start_time": "2022-03-07T15:16:25.295Z"
   },
   {
    "duration": 259,
    "start_time": "2022-03-07T15:16:27.095Z"
   },
   {
    "duration": 350,
    "start_time": "2022-03-07T15:16:27.357Z"
   },
   {
    "duration": 1792,
    "start_time": "2022-03-07T15:16:27.709Z"
   },
   {
    "duration": 870,
    "start_time": "2022-03-07T15:16:29.503Z"
   },
   {
    "duration": -620,
    "start_time": "2022-03-07T15:16:30.996Z"
   },
   {
    "duration": -624,
    "start_time": "2022-03-07T15:16:31.001Z"
   },
   {
    "duration": -627,
    "start_time": "2022-03-07T15:16:31.006Z"
   },
   {
    "duration": -629,
    "start_time": "2022-03-07T15:16:31.010Z"
   },
   {
    "duration": -633,
    "start_time": "2022-03-07T15:16:31.015Z"
   },
   {
    "duration": -636,
    "start_time": "2022-03-07T15:16:31.020Z"
   },
   {
    "duration": -641,
    "start_time": "2022-03-07T15:16:31.026Z"
   },
   {
    "duration": -645,
    "start_time": "2022-03-07T15:16:31.032Z"
   },
   {
    "duration": -649,
    "start_time": "2022-03-07T15:16:31.037Z"
   },
   {
    "duration": -651,
    "start_time": "2022-03-07T15:16:31.041Z"
   },
   {
    "duration": -654,
    "start_time": "2022-03-07T15:16:31.045Z"
   },
   {
    "duration": -657,
    "start_time": "2022-03-07T15:16:31.050Z"
   },
   {
    "duration": -669,
    "start_time": "2022-03-07T15:16:31.063Z"
   },
   {
    "duration": -672,
    "start_time": "2022-03-07T15:16:31.068Z"
   },
   {
    "duration": -676,
    "start_time": "2022-03-07T15:16:31.073Z"
   },
   {
    "duration": -678,
    "start_time": "2022-03-07T15:16:31.077Z"
   },
   {
    "duration": 1134,
    "start_time": "2022-03-07T19:47:36.887Z"
   },
   {
    "duration": 2,
    "start_time": "2022-03-07T19:47:38.023Z"
   },
   {
    "duration": 84,
    "start_time": "2022-03-07T19:47:38.026Z"
   },
   {
    "duration": 8,
    "start_time": "2022-03-07T19:47:38.112Z"
   },
   {
    "duration": 7,
    "start_time": "2022-03-07T19:47:38.122Z"
   },
   {
    "duration": 7,
    "start_time": "2022-03-07T19:47:38.130Z"
   },
   {
    "duration": 25,
    "start_time": "2022-03-07T19:47:38.139Z"
   },
   {
    "duration": 52,
    "start_time": "2022-03-07T19:47:38.166Z"
   },
   {
    "duration": 33,
    "start_time": "2022-03-07T19:47:38.220Z"
   },
   {
    "duration": 7,
    "start_time": "2022-03-07T19:47:38.255Z"
   },
   {
    "duration": 3,
    "start_time": "2022-03-07T19:47:38.264Z"
   },
   {
    "duration": 6,
    "start_time": "2022-03-07T19:47:38.268Z"
   },
   {
    "duration": 26,
    "start_time": "2022-03-07T19:47:38.275Z"
   },
   {
    "duration": 6,
    "start_time": "2022-03-07T19:47:38.303Z"
   },
   {
    "duration": 25,
    "start_time": "2022-03-07T19:47:38.310Z"
   },
   {
    "duration": 3,
    "start_time": "2022-03-07T19:47:38.336Z"
   },
   {
    "duration": 32,
    "start_time": "2022-03-07T19:47:38.341Z"
   },
   {
    "duration": 30,
    "start_time": "2022-03-07T19:47:38.374Z"
   },
   {
    "duration": 11,
    "start_time": "2022-03-07T19:47:38.406Z"
   },
   {
    "duration": 5,
    "start_time": "2022-03-07T19:47:38.419Z"
   },
   {
    "duration": 18,
    "start_time": "2022-03-07T19:47:38.425Z"
   },
   {
    "duration": 19,
    "start_time": "2022-03-07T19:47:38.444Z"
   },
   {
    "duration": 9,
    "start_time": "2022-03-07T19:47:38.467Z"
   },
   {
    "duration": 29,
    "start_time": "2022-03-07T19:47:38.478Z"
   },
   {
    "duration": 22,
    "start_time": "2022-03-07T19:47:38.509Z"
   },
   {
    "duration": 6,
    "start_time": "2022-03-07T19:47:38.532Z"
   },
   {
    "duration": 4,
    "start_time": "2022-03-07T19:47:38.539Z"
   },
   {
    "duration": 20,
    "start_time": "2022-03-07T19:47:38.545Z"
   },
   {
    "duration": 5,
    "start_time": "2022-03-07T19:47:38.566Z"
   },
   {
    "duration": 30,
    "start_time": "2022-03-07T19:47:38.572Z"
   },
   {
    "duration": 868,
    "start_time": "2022-03-07T19:47:38.604Z"
   },
   {
    "duration": 4,
    "start_time": "2022-03-07T19:47:39.474Z"
   },
   {
    "duration": 372,
    "start_time": "2022-03-07T19:47:39.479Z"
   },
   {
    "duration": 10,
    "start_time": "2022-03-07T19:47:39.852Z"
   },
   {
    "duration": 8,
    "start_time": "2022-03-07T19:47:39.864Z"
   },
   {
    "duration": 380,
    "start_time": "2022-03-07T19:47:39.874Z"
   },
   {
    "duration": 10,
    "start_time": "2022-03-07T19:47:40.256Z"
   },
   {
    "duration": 11,
    "start_time": "2022-03-07T19:47:40.268Z"
   },
   {
    "duration": 29,
    "start_time": "2022-03-07T19:47:40.281Z"
   },
   {
    "duration": 473,
    "start_time": "2022-03-07T19:47:40.312Z"
   },
   {
    "duration": 17,
    "start_time": "2022-03-07T19:47:40.787Z"
   },
   {
    "duration": 8,
    "start_time": "2022-03-07T19:47:40.805Z"
   },
   {
    "duration": 7,
    "start_time": "2022-03-07T19:47:40.814Z"
   },
   {
    "duration": 5,
    "start_time": "2022-03-07T19:47:40.822Z"
   },
   {
    "duration": 433,
    "start_time": "2022-03-07T19:47:40.829Z"
   },
   {
    "duration": 14,
    "start_time": "2022-03-07T19:47:41.264Z"
   },
   {
    "duration": 32,
    "start_time": "2022-03-07T19:47:41.279Z"
   },
   {
    "duration": 16,
    "start_time": "2022-03-07T19:47:41.312Z"
   },
   {
    "duration": 4,
    "start_time": "2022-03-07T19:47:41.329Z"
   },
   {
    "duration": 291,
    "start_time": "2022-03-07T19:47:41.335Z"
   },
   {
    "duration": 227,
    "start_time": "2022-03-07T19:47:41.628Z"
   },
   {
    "duration": 127,
    "start_time": "2022-03-07T19:47:41.857Z"
   },
   {
    "duration": 16,
    "start_time": "2022-03-07T19:47:41.986Z"
   },
   {
    "duration": 1078,
    "start_time": "2022-03-07T19:47:42.004Z"
   },
   {
    "duration": 1071,
    "start_time": "2022-03-07T19:47:43.084Z"
   },
   {
    "duration": 140,
    "start_time": "2022-03-07T19:47:44.157Z"
   },
   {
    "duration": 208,
    "start_time": "2022-03-07T19:47:44.299Z"
   },
   {
    "duration": 977,
    "start_time": "2022-03-07T19:47:44.509Z"
   },
   {
    "duration": 732,
    "start_time": "2022-03-07T19:47:45.488Z"
   },
   {
    "duration": -1139,
    "start_time": "2022-03-07T19:47:47.361Z"
   },
   {
    "duration": -1143,
    "start_time": "2022-03-07T19:47:47.367Z"
   },
   {
    "duration": -1147,
    "start_time": "2022-03-07T19:47:47.372Z"
   },
   {
    "duration": -1151,
    "start_time": "2022-03-07T19:47:47.377Z"
   },
   {
    "duration": -1155,
    "start_time": "2022-03-07T19:47:47.382Z"
   },
   {
    "duration": -1159,
    "start_time": "2022-03-07T19:47:47.387Z"
   },
   {
    "duration": -1164,
    "start_time": "2022-03-07T19:47:47.392Z"
   },
   {
    "duration": -1168,
    "start_time": "2022-03-07T19:47:47.398Z"
   },
   {
    "duration": -1179,
    "start_time": "2022-03-07T19:47:47.410Z"
   },
   {
    "duration": -1190,
    "start_time": "2022-03-07T19:47:47.422Z"
   },
   {
    "duration": -1201,
    "start_time": "2022-03-07T19:47:47.434Z"
   },
   {
    "duration": -1212,
    "start_time": "2022-03-07T19:47:47.446Z"
   },
   {
    "duration": -1216,
    "start_time": "2022-03-07T19:47:47.451Z"
   },
   {
    "duration": -1226,
    "start_time": "2022-03-07T19:47:47.462Z"
   },
   {
    "duration": -1230,
    "start_time": "2022-03-07T19:47:47.467Z"
   },
   {
    "duration": -1240,
    "start_time": "2022-03-07T19:47:47.478Z"
   },
   {
    "duration": 1132,
    "start_time": "2022-03-07T19:48:36.995Z"
   },
   {
    "duration": 2,
    "start_time": "2022-03-07T19:48:38.129Z"
   },
   {
    "duration": 98,
    "start_time": "2022-03-07T19:48:38.133Z"
   },
   {
    "duration": 10,
    "start_time": "2022-03-07T19:48:38.232Z"
   },
   {
    "duration": 14,
    "start_time": "2022-03-07T19:48:38.243Z"
   },
   {
    "duration": 17,
    "start_time": "2022-03-07T19:48:38.259Z"
   },
   {
    "duration": 34,
    "start_time": "2022-03-07T19:48:38.277Z"
   },
   {
    "duration": 23,
    "start_time": "2022-03-07T19:48:38.313Z"
   },
   {
    "duration": 31,
    "start_time": "2022-03-07T19:48:38.339Z"
   },
   {
    "duration": 8,
    "start_time": "2022-03-07T19:48:38.373Z"
   },
   {
    "duration": 4,
    "start_time": "2022-03-07T19:48:38.402Z"
   },
   {
    "duration": 12,
    "start_time": "2022-03-07T19:48:38.407Z"
   },
   {
    "duration": 22,
    "start_time": "2022-03-07T19:48:38.420Z"
   },
   {
    "duration": 25,
    "start_time": "2022-03-07T19:48:38.444Z"
   },
   {
    "duration": 35,
    "start_time": "2022-03-07T19:48:38.470Z"
   },
   {
    "duration": 3,
    "start_time": "2022-03-07T19:48:38.506Z"
   },
   {
    "duration": 47,
    "start_time": "2022-03-07T19:48:38.510Z"
   },
   {
    "duration": 6,
    "start_time": "2022-03-07T19:48:38.558Z"
   },
   {
    "duration": 30,
    "start_time": "2022-03-07T19:48:38.565Z"
   },
   {
    "duration": 30,
    "start_time": "2022-03-07T19:48:38.596Z"
   },
   {
    "duration": 30,
    "start_time": "2022-03-07T19:48:38.628Z"
   },
   {
    "duration": 28,
    "start_time": "2022-03-07T19:48:38.659Z"
   },
   {
    "duration": 28,
    "start_time": "2022-03-07T19:48:38.688Z"
   },
   {
    "duration": 22,
    "start_time": "2022-03-07T19:48:38.717Z"
   },
   {
    "duration": 33,
    "start_time": "2022-03-07T19:48:38.741Z"
   },
   {
    "duration": 7,
    "start_time": "2022-03-07T19:48:38.776Z"
   },
   {
    "duration": 17,
    "start_time": "2022-03-07T19:48:38.788Z"
   },
   {
    "duration": 31,
    "start_time": "2022-03-07T19:48:38.808Z"
   },
   {
    "duration": 15,
    "start_time": "2022-03-07T19:48:38.841Z"
   },
   {
    "duration": 25,
    "start_time": "2022-03-07T19:48:38.857Z"
   },
   {
    "duration": 885,
    "start_time": "2022-03-07T19:48:38.884Z"
   },
   {
    "duration": 4,
    "start_time": "2022-03-07T19:48:39.771Z"
   },
   {
    "duration": 370,
    "start_time": "2022-03-07T19:48:39.777Z"
   },
   {
    "duration": 8,
    "start_time": "2022-03-07T19:48:40.148Z"
   },
   {
    "duration": 18,
    "start_time": "2022-03-07T19:48:40.158Z"
   },
   {
    "duration": 354,
    "start_time": "2022-03-07T19:48:40.177Z"
   },
   {
    "duration": 9,
    "start_time": "2022-03-07T19:48:40.533Z"
   },
   {
    "duration": 28,
    "start_time": "2022-03-07T19:48:40.543Z"
   },
   {
    "duration": 23,
    "start_time": "2022-03-07T19:48:40.573Z"
   },
   {
    "duration": 292,
    "start_time": "2022-03-07T19:48:40.598Z"
   },
   {
    "duration": 14,
    "start_time": "2022-03-07T19:48:40.891Z"
   },
   {
    "duration": 23,
    "start_time": "2022-03-07T19:48:40.907Z"
   },
   {
    "duration": 16,
    "start_time": "2022-03-07T19:48:40.932Z"
   },
   {
    "duration": 24,
    "start_time": "2022-03-07T19:48:40.949Z"
   },
   {
    "duration": 423,
    "start_time": "2022-03-07T19:48:40.974Z"
   },
   {
    "duration": 14,
    "start_time": "2022-03-07T19:48:41.401Z"
   },
   {
    "duration": 12,
    "start_time": "2022-03-07T19:48:41.416Z"
   },
   {
    "duration": 15,
    "start_time": "2022-03-07T19:48:41.430Z"
   },
   {
    "duration": 4,
    "start_time": "2022-03-07T19:48:41.446Z"
   },
   {
    "duration": 293,
    "start_time": "2022-03-07T19:48:41.452Z"
   },
   {
    "duration": 207,
    "start_time": "2022-03-07T19:48:41.747Z"
   },
   {
    "duration": 125,
    "start_time": "2022-03-07T19:48:41.956Z"
   },
   {
    "duration": 18,
    "start_time": "2022-03-07T19:48:42.083Z"
   },
   {
    "duration": 978,
    "start_time": "2022-03-07T19:48:42.103Z"
   },
   {
    "duration": 1079,
    "start_time": "2022-03-07T19:48:43.082Z"
   },
   {
    "duration": 142,
    "start_time": "2022-03-07T19:48:44.163Z"
   },
   {
    "duration": 210,
    "start_time": "2022-03-07T19:48:44.306Z"
   },
   {
    "duration": 1087,
    "start_time": "2022-03-07T19:48:44.518Z"
   },
   {
    "duration": 1049,
    "start_time": "2022-03-07T19:48:45.607Z"
   },
   {
    "duration": -1301,
    "start_time": "2022-03-07T19:48:47.959Z"
   },
   {
    "duration": -1305,
    "start_time": "2022-03-07T19:48:47.964Z"
   },
   {
    "duration": -1309,
    "start_time": "2022-03-07T19:48:47.969Z"
   },
   {
    "duration": -1354,
    "start_time": "2022-03-07T19:48:48.015Z"
   },
   {
    "duration": -1359,
    "start_time": "2022-03-07T19:48:48.021Z"
   },
   {
    "duration": -1365,
    "start_time": "2022-03-07T19:48:48.028Z"
   },
   {
    "duration": -1370,
    "start_time": "2022-03-07T19:48:48.034Z"
   },
   {
    "duration": -1376,
    "start_time": "2022-03-07T19:48:48.041Z"
   },
   {
    "duration": -1381,
    "start_time": "2022-03-07T19:48:48.047Z"
   },
   {
    "duration": -1352,
    "start_time": "2022-03-07T19:48:48.053Z"
   },
   {
    "duration": -1356,
    "start_time": "2022-03-07T19:48:48.058Z"
   },
   {
    "duration": -1361,
    "start_time": "2022-03-07T19:48:48.064Z"
   },
   {
    "duration": -1415,
    "start_time": "2022-03-07T19:48:48.119Z"
   },
   {
    "duration": -1420,
    "start_time": "2022-03-07T19:48:48.125Z"
   },
   {
    "duration": -1424,
    "start_time": "2022-03-07T19:48:48.130Z"
   },
   {
    "duration": -1429,
    "start_time": "2022-03-07T19:48:48.136Z"
   },
   {
    "duration": 4,
    "start_time": "2022-03-07T19:50:28.423Z"
   },
   {
    "duration": 4,
    "start_time": "2022-03-07T19:50:39.145Z"
   },
   {
    "duration": 4,
    "start_time": "2022-03-07T19:50:55.515Z"
   },
   {
    "duration": 20,
    "start_time": "2022-03-07T19:51:19.712Z"
   },
   {
    "duration": 1081,
    "start_time": "2022-03-07T19:51:35.901Z"
   },
   {
    "duration": 2,
    "start_time": "2022-03-07T19:51:36.984Z"
   },
   {
    "duration": 86,
    "start_time": "2022-03-07T19:51:36.989Z"
   },
   {
    "duration": 9,
    "start_time": "2022-03-07T19:51:37.076Z"
   },
   {
    "duration": 18,
    "start_time": "2022-03-07T19:51:37.087Z"
   },
   {
    "duration": 7,
    "start_time": "2022-03-07T19:51:37.107Z"
   },
   {
    "duration": 25,
    "start_time": "2022-03-07T19:51:37.116Z"
   },
   {
    "duration": 21,
    "start_time": "2022-03-07T19:51:37.143Z"
   },
   {
    "duration": 53,
    "start_time": "2022-03-07T19:51:37.165Z"
   },
   {
    "duration": 7,
    "start_time": "2022-03-07T19:51:37.219Z"
   },
   {
    "duration": 3,
    "start_time": "2022-03-07T19:51:37.228Z"
   },
   {
    "duration": 5,
    "start_time": "2022-03-07T19:51:37.232Z"
   },
   {
    "duration": 5,
    "start_time": "2022-03-07T19:51:37.239Z"
   },
   {
    "duration": 7,
    "start_time": "2022-03-07T19:51:37.245Z"
   },
   {
    "duration": 48,
    "start_time": "2022-03-07T19:51:37.254Z"
   },
   {
    "duration": 3,
    "start_time": "2022-03-07T19:51:37.303Z"
   },
   {
    "duration": 31,
    "start_time": "2022-03-07T19:51:37.307Z"
   },
   {
    "duration": 5,
    "start_time": "2022-03-07T19:51:37.340Z"
   },
   {
    "duration": 14,
    "start_time": "2022-03-07T19:51:37.346Z"
   },
   {
    "duration": 7,
    "start_time": "2022-03-07T19:51:37.362Z"
   },
   {
    "duration": 36,
    "start_time": "2022-03-07T19:51:37.370Z"
   },
   {
    "duration": 19,
    "start_time": "2022-03-07T19:51:37.409Z"
   },
   {
    "duration": 11,
    "start_time": "2022-03-07T19:51:37.430Z"
   },
   {
    "duration": 7,
    "start_time": "2022-03-07T19:51:37.442Z"
   },
   {
    "duration": 22,
    "start_time": "2022-03-07T19:51:37.450Z"
   },
   {
    "duration": 28,
    "start_time": "2022-03-07T19:51:37.473Z"
   },
   {
    "duration": 3,
    "start_time": "2022-03-07T19:51:37.503Z"
   },
   {
    "duration": 18,
    "start_time": "2022-03-07T19:51:37.508Z"
   },
   {
    "duration": 6,
    "start_time": "2022-03-07T19:51:37.527Z"
   },
   {
    "duration": 8,
    "start_time": "2022-03-07T19:51:37.535Z"
   },
   {
    "duration": 885,
    "start_time": "2022-03-07T19:51:37.545Z"
   },
   {
    "duration": 5,
    "start_time": "2022-03-07T19:51:38.432Z"
   },
   {
    "duration": 368,
    "start_time": "2022-03-07T19:51:38.438Z"
   },
   {
    "duration": 8,
    "start_time": "2022-03-07T19:51:38.808Z"
   },
   {
    "duration": 8,
    "start_time": "2022-03-07T19:51:38.817Z"
   },
   {
    "duration": 361,
    "start_time": "2022-03-07T19:51:38.827Z"
   },
   {
    "duration": 16,
    "start_time": "2022-03-07T19:51:39.190Z"
   },
   {
    "duration": 10,
    "start_time": "2022-03-07T19:51:39.208Z"
   },
   {
    "duration": 15,
    "start_time": "2022-03-07T19:51:39.220Z"
   },
   {
    "duration": 320,
    "start_time": "2022-03-07T19:51:39.236Z"
   },
   {
    "duration": 9,
    "start_time": "2022-03-07T19:51:39.558Z"
   },
   {
    "duration": 8,
    "start_time": "2022-03-07T19:51:39.568Z"
   },
   {
    "duration": 27,
    "start_time": "2022-03-07T19:51:39.578Z"
   },
   {
    "duration": 4,
    "start_time": "2022-03-07T19:51:39.606Z"
   },
   {
    "duration": 417,
    "start_time": "2022-03-07T19:51:39.612Z"
   },
   {
    "duration": 12,
    "start_time": "2022-03-07T19:51:40.031Z"
   },
   {
    "duration": 11,
    "start_time": "2022-03-07T19:51:40.045Z"
   },
   {
    "duration": 43,
    "start_time": "2022-03-07T19:51:40.058Z"
   },
   {
    "duration": 4,
    "start_time": "2022-03-07T19:51:40.103Z"
   },
   {
    "duration": 265,
    "start_time": "2022-03-07T19:51:40.109Z"
   },
   {
    "duration": 223,
    "start_time": "2022-03-07T19:51:40.375Z"
   },
   {
    "duration": 130,
    "start_time": "2022-03-07T19:51:40.599Z"
   },
   {
    "duration": 9,
    "start_time": "2022-03-07T19:51:40.730Z"
   },
   {
    "duration": 1016,
    "start_time": "2022-03-07T19:51:40.741Z"
   },
   {
    "duration": 1037,
    "start_time": "2022-03-07T19:51:41.758Z"
   },
   {
    "duration": 136,
    "start_time": "2022-03-07T19:51:42.797Z"
   },
   {
    "duration": 191,
    "start_time": "2022-03-07T19:51:42.935Z"
   },
   {
    "duration": 1032,
    "start_time": "2022-03-07T19:51:43.128Z"
   },
   {
    "duration": 712,
    "start_time": "2022-03-07T19:51:44.161Z"
   },
   {
    "duration": -1154,
    "start_time": "2022-03-07T19:51:46.029Z"
   },
   {
    "duration": -1159,
    "start_time": "2022-03-07T19:51:46.035Z"
   },
   {
    "duration": -1164,
    "start_time": "2022-03-07T19:51:46.041Z"
   },
   {
    "duration": -1190,
    "start_time": "2022-03-07T19:51:46.067Z"
   },
   {
    "duration": -1195,
    "start_time": "2022-03-07T19:51:46.073Z"
   },
   {
    "duration": -1199,
    "start_time": "2022-03-07T19:51:46.078Z"
   },
   {
    "duration": -1203,
    "start_time": "2022-03-07T19:51:46.083Z"
   },
   {
    "duration": -1208,
    "start_time": "2022-03-07T19:51:46.088Z"
   },
   {
    "duration": -1214,
    "start_time": "2022-03-07T19:51:46.095Z"
   },
   {
    "duration": -1217,
    "start_time": "2022-03-07T19:51:46.099Z"
   },
   {
    "duration": -1204,
    "start_time": "2022-03-07T19:51:46.105Z"
   },
   {
    "duration": -1207,
    "start_time": "2022-03-07T19:51:46.109Z"
   },
   {
    "duration": -1212,
    "start_time": "2022-03-07T19:51:46.115Z"
   },
   {
    "duration": -1215,
    "start_time": "2022-03-07T19:51:46.119Z"
   },
   {
    "duration": -1220,
    "start_time": "2022-03-07T19:51:46.124Z"
   },
   {
    "duration": -1224,
    "start_time": "2022-03-07T19:51:46.129Z"
   },
   {
    "duration": 1094,
    "start_time": "2022-03-07T19:55:26.849Z"
   },
   {
    "duration": 2,
    "start_time": "2022-03-07T19:55:27.945Z"
   },
   {
    "duration": 103,
    "start_time": "2022-03-07T19:55:27.948Z"
   },
   {
    "duration": 11,
    "start_time": "2022-03-07T19:55:28.053Z"
   },
   {
    "duration": 8,
    "start_time": "2022-03-07T19:55:28.066Z"
   },
   {
    "duration": 27,
    "start_time": "2022-03-07T19:55:28.076Z"
   },
   {
    "duration": 29,
    "start_time": "2022-03-07T19:55:28.104Z"
   },
   {
    "duration": 22,
    "start_time": "2022-03-07T19:55:28.135Z"
   },
   {
    "duration": 55,
    "start_time": "2022-03-07T19:55:28.159Z"
   },
   {
    "duration": 9,
    "start_time": "2022-03-07T19:55:28.216Z"
   },
   {
    "duration": 3,
    "start_time": "2022-03-07T19:55:28.228Z"
   },
   {
    "duration": 6,
    "start_time": "2022-03-07T19:55:28.232Z"
   },
   {
    "duration": 6,
    "start_time": "2022-03-07T19:55:28.239Z"
   },
   {
    "duration": 7,
    "start_time": "2022-03-07T19:55:28.246Z"
   },
   {
    "duration": 50,
    "start_time": "2022-03-07T19:55:28.254Z"
   },
   {
    "duration": 2,
    "start_time": "2022-03-07T19:55:28.306Z"
   },
   {
    "duration": 31,
    "start_time": "2022-03-07T19:55:28.310Z"
   },
   {
    "duration": 5,
    "start_time": "2022-03-07T19:55:28.343Z"
   },
   {
    "duration": 13,
    "start_time": "2022-03-07T19:55:28.349Z"
   },
   {
    "duration": 9,
    "start_time": "2022-03-07T19:55:28.363Z"
   },
   {
    "duration": 36,
    "start_time": "2022-03-07T19:55:28.374Z"
   },
   {
    "duration": 20,
    "start_time": "2022-03-07T19:55:28.411Z"
   },
   {
    "duration": 10,
    "start_time": "2022-03-07T19:55:28.434Z"
   },
   {
    "duration": 8,
    "start_time": "2022-03-07T19:55:28.446Z"
   },
   {
    "duration": 23,
    "start_time": "2022-03-07T19:55:28.455Z"
   },
   {
    "duration": 7,
    "start_time": "2022-03-07T19:55:28.501Z"
   },
   {
    "duration": 3,
    "start_time": "2022-03-07T19:55:28.510Z"
   },
   {
    "duration": 17,
    "start_time": "2022-03-07T19:55:28.514Z"
   },
   {
    "duration": 5,
    "start_time": "2022-03-07T19:55:28.532Z"
   },
   {
    "duration": 9,
    "start_time": "2022-03-07T19:55:28.538Z"
   },
   {
    "duration": 918,
    "start_time": "2022-03-07T19:55:28.548Z"
   },
   {
    "duration": 13,
    "start_time": "2022-03-07T19:55:29.468Z"
   },
   {
    "duration": 424,
    "start_time": "2022-03-07T19:55:29.483Z"
   },
   {
    "duration": 9,
    "start_time": "2022-03-07T19:55:29.908Z"
   },
   {
    "duration": 39,
    "start_time": "2022-03-07T19:55:29.919Z"
   },
   {
    "duration": 389,
    "start_time": "2022-03-07T19:55:29.960Z"
   },
   {
    "duration": 10,
    "start_time": "2022-03-07T19:55:30.351Z"
   },
   {
    "duration": 17,
    "start_time": "2022-03-07T19:55:30.363Z"
   },
   {
    "duration": 30,
    "start_time": "2022-03-07T19:55:30.381Z"
   },
   {
    "duration": 351,
    "start_time": "2022-03-07T19:55:30.413Z"
   },
   {
    "duration": 9,
    "start_time": "2022-03-07T19:55:30.766Z"
   },
   {
    "duration": 18,
    "start_time": "2022-03-07T19:55:30.777Z"
   },
   {
    "duration": 12,
    "start_time": "2022-03-07T19:55:30.802Z"
   },
   {
    "duration": 12,
    "start_time": "2022-03-07T19:55:30.815Z"
   },
   {
    "duration": 443,
    "start_time": "2022-03-07T19:55:30.828Z"
   },
   {
    "duration": 12,
    "start_time": "2022-03-07T19:55:31.272Z"
   },
   {
    "duration": 2,
    "start_time": "2022-03-07T19:55:31.286Z"
   },
   {
    "duration": 17,
    "start_time": "2022-03-07T19:55:31.302Z"
   },
   {
    "duration": 4,
    "start_time": "2022-03-07T19:55:31.321Z"
   },
   {
    "duration": 17,
    "start_time": "2022-03-07T19:55:31.327Z"
   },
   {
    "duration": 3,
    "start_time": "2022-03-07T19:55:31.346Z"
   },
   {
    "duration": 304,
    "start_time": "2022-03-07T19:55:31.350Z"
   },
   {
    "duration": 227,
    "start_time": "2022-03-07T19:55:31.655Z"
   },
   {
    "duration": 131,
    "start_time": "2022-03-07T19:55:31.884Z"
   },
   {
    "duration": 9,
    "start_time": "2022-03-07T19:55:32.017Z"
   },
   {
    "duration": 1061,
    "start_time": "2022-03-07T19:55:32.028Z"
   },
   {
    "duration": 1114,
    "start_time": "2022-03-07T19:55:33.091Z"
   },
   {
    "duration": 137,
    "start_time": "2022-03-07T19:55:34.207Z"
   },
   {
    "duration": 183,
    "start_time": "2022-03-07T19:55:34.346Z"
   },
   {
    "duration": 965,
    "start_time": "2022-03-07T19:55:34.531Z"
   },
   {
    "duration": 731,
    "start_time": "2022-03-07T19:55:35.501Z"
   },
   {
    "duration": -1154,
    "start_time": "2022-03-07T19:55:37.388Z"
   },
   {
    "duration": -1179,
    "start_time": "2022-03-07T19:55:37.414Z"
   },
   {
    "duration": -1203,
    "start_time": "2022-03-07T19:55:37.439Z"
   },
   {
    "duration": -1225,
    "start_time": "2022-03-07T19:55:37.462Z"
   },
   {
    "duration": -1230,
    "start_time": "2022-03-07T19:55:37.468Z"
   },
   {
    "duration": -1236,
    "start_time": "2022-03-07T19:55:37.474Z"
   },
   {
    "duration": -1240,
    "start_time": "2022-03-07T19:55:37.479Z"
   },
   {
    "duration": -1245,
    "start_time": "2022-03-07T19:55:37.485Z"
   },
   {
    "duration": -1249,
    "start_time": "2022-03-07T19:55:37.490Z"
   },
   {
    "duration": -1254,
    "start_time": "2022-03-07T19:55:37.496Z"
   },
   {
    "duration": -1260,
    "start_time": "2022-03-07T19:55:37.503Z"
   },
   {
    "duration": -1264,
    "start_time": "2022-03-07T19:55:37.508Z"
   },
   {
    "duration": -1270,
    "start_time": "2022-03-07T19:55:37.515Z"
   },
   {
    "duration": -1277,
    "start_time": "2022-03-07T19:55:37.522Z"
   },
   {
    "duration": -1282,
    "start_time": "2022-03-07T19:55:37.528Z"
   },
   {
    "duration": -1288,
    "start_time": "2022-03-07T19:55:37.535Z"
   },
   {
    "duration": 1046,
    "start_time": "2022-03-07T19:57:53.476Z"
   },
   {
    "duration": 2,
    "start_time": "2022-03-07T19:57:54.523Z"
   },
   {
    "duration": 85,
    "start_time": "2022-03-07T19:57:54.527Z"
   },
   {
    "duration": 9,
    "start_time": "2022-03-07T19:57:54.614Z"
   },
   {
    "duration": 8,
    "start_time": "2022-03-07T19:57:54.625Z"
   },
   {
    "duration": 7,
    "start_time": "2022-03-07T19:57:54.635Z"
   },
   {
    "duration": 27,
    "start_time": "2022-03-07T19:57:54.644Z"
   },
   {
    "duration": 47,
    "start_time": "2022-03-07T19:57:54.673Z"
   },
   {
    "duration": 32,
    "start_time": "2022-03-07T19:57:54.722Z"
   },
   {
    "duration": 7,
    "start_time": "2022-03-07T19:57:54.756Z"
   },
   {
    "duration": 3,
    "start_time": "2022-03-07T19:57:54.764Z"
   },
   {
    "duration": 4,
    "start_time": "2022-03-07T19:57:54.769Z"
   },
   {
    "duration": 26,
    "start_time": "2022-03-07T19:57:54.775Z"
   },
   {
    "duration": 6,
    "start_time": "2022-03-07T19:57:54.802Z"
   },
   {
    "duration": 25,
    "start_time": "2022-03-07T19:57:54.810Z"
   },
   {
    "duration": 3,
    "start_time": "2022-03-07T19:57:54.837Z"
   },
   {
    "duration": 32,
    "start_time": "2022-03-07T19:57:54.841Z"
   },
   {
    "duration": 29,
    "start_time": "2022-03-07T19:57:54.875Z"
   },
   {
    "duration": 12,
    "start_time": "2022-03-07T19:57:54.905Z"
   },
   {
    "duration": 4,
    "start_time": "2022-03-07T19:57:54.919Z"
   },
   {
    "duration": 20,
    "start_time": "2022-03-07T19:57:54.924Z"
   },
   {
    "duration": 19,
    "start_time": "2022-03-07T19:57:54.945Z"
   },
   {
    "duration": 10,
    "start_time": "2022-03-07T19:57:54.967Z"
   },
   {
    "duration": 27,
    "start_time": "2022-03-07T19:57:54.979Z"
   },
   {
    "duration": 22,
    "start_time": "2022-03-07T19:57:55.007Z"
   },
   {
    "duration": 6,
    "start_time": "2022-03-07T19:57:55.030Z"
   },
   {
    "duration": 4,
    "start_time": "2022-03-07T19:57:55.038Z"
   },
   {
    "duration": 20,
    "start_time": "2022-03-07T19:57:55.043Z"
   },
   {
    "duration": 5,
    "start_time": "2022-03-07T19:57:55.065Z"
   },
   {
    "duration": 30,
    "start_time": "2022-03-07T19:57:55.071Z"
   },
   {
    "duration": 961,
    "start_time": "2022-03-07T19:57:55.103Z"
   },
   {
    "duration": 5,
    "start_time": "2022-03-07T19:57:56.066Z"
   },
   {
    "duration": 362,
    "start_time": "2022-03-07T19:57:56.072Z"
   },
   {
    "duration": 8,
    "start_time": "2022-03-07T19:57:56.435Z"
   },
   {
    "duration": 13,
    "start_time": "2022-03-07T19:57:56.444Z"
   },
   {
    "duration": 345,
    "start_time": "2022-03-07T19:57:56.458Z"
   },
   {
    "duration": 8,
    "start_time": "2022-03-07T19:57:56.804Z"
   },
   {
    "duration": 6,
    "start_time": "2022-03-07T19:57:56.813Z"
   },
   {
    "duration": 12,
    "start_time": "2022-03-07T19:57:56.820Z"
   },
   {
    "duration": 317,
    "start_time": "2022-03-07T19:57:56.834Z"
   },
   {
    "duration": 9,
    "start_time": "2022-03-07T19:57:57.152Z"
   },
   {
    "duration": 8,
    "start_time": "2022-03-07T19:57:57.162Z"
   },
   {
    "duration": 6,
    "start_time": "2022-03-07T19:57:57.171Z"
   },
   {
    "duration": 24,
    "start_time": "2022-03-07T19:57:57.178Z"
   },
   {
    "duration": 408,
    "start_time": "2022-03-07T19:57:57.204Z"
   },
   {
    "duration": 12,
    "start_time": "2022-03-07T19:57:57.614Z"
   },
   {
    "duration": 12,
    "start_time": "2022-03-07T19:57:57.628Z"
   },
   {
    "duration": 16,
    "start_time": "2022-03-07T19:57:57.641Z"
   },
   {
    "duration": 4,
    "start_time": "2022-03-07T19:57:57.658Z"
   },
   {
    "duration": 282,
    "start_time": "2022-03-07T19:57:57.663Z"
   },
   {
    "duration": 208,
    "start_time": "2022-03-07T19:57:57.947Z"
   },
   {
    "duration": 126,
    "start_time": "2022-03-07T19:57:58.157Z"
   },
   {
    "duration": 9,
    "start_time": "2022-03-07T19:57:58.285Z"
   },
   {
    "duration": 945,
    "start_time": "2022-03-07T19:57:58.301Z"
   },
   {
    "duration": 1067,
    "start_time": "2022-03-07T19:57:59.247Z"
   },
   {
    "duration": 141,
    "start_time": "2022-03-07T19:58:00.316Z"
   },
   {
    "duration": 212,
    "start_time": "2022-03-07T19:58:00.458Z"
   },
   {
    "duration": 1009,
    "start_time": "2022-03-07T19:58:00.672Z"
   },
   {
    "duration": 718,
    "start_time": "2022-03-07T19:58:01.683Z"
   },
   {
    "duration": -1130,
    "start_time": "2022-03-07T19:58:03.533Z"
   },
   {
    "duration": -1137,
    "start_time": "2022-03-07T19:58:03.541Z"
   },
   {
    "duration": -1143,
    "start_time": "2022-03-07T19:58:03.547Z"
   },
   {
    "duration": -1146,
    "start_time": "2022-03-07T19:58:03.551Z"
   },
   {
    "duration": -1150,
    "start_time": "2022-03-07T19:58:03.556Z"
   },
   {
    "duration": -1154,
    "start_time": "2022-03-07T19:58:03.561Z"
   },
   {
    "duration": -1158,
    "start_time": "2022-03-07T19:58:03.566Z"
   },
   {
    "duration": -1163,
    "start_time": "2022-03-07T19:58:03.571Z"
   },
   {
    "duration": -1167,
    "start_time": "2022-03-07T19:58:03.576Z"
   },
   {
    "duration": -1171,
    "start_time": "2022-03-07T19:58:03.581Z"
   },
   {
    "duration": -1175,
    "start_time": "2022-03-07T19:58:03.586Z"
   },
   {
    "duration": -1178,
    "start_time": "2022-03-07T19:58:03.590Z"
   },
   {
    "duration": -1182,
    "start_time": "2022-03-07T19:58:03.595Z"
   },
   {
    "duration": -1186,
    "start_time": "2022-03-07T19:58:03.600Z"
   },
   {
    "duration": -1190,
    "start_time": "2022-03-07T19:58:03.605Z"
   },
   {
    "duration": -1195,
    "start_time": "2022-03-07T19:58:03.610Z"
   },
   {
    "duration": 665,
    "start_time": "2022-03-07T20:20:41.298Z"
   },
   {
    "duration": 88,
    "start_time": "2022-03-07T20:28:05.141Z"
   },
   {
    "duration": 116,
    "start_time": "2022-03-07T20:28:10.935Z"
   },
   {
    "duration": 1079,
    "start_time": "2022-03-07T20:29:06.191Z"
   },
   {
    "duration": 1,
    "start_time": "2022-03-07T20:29:07.272Z"
   },
   {
    "duration": 84,
    "start_time": "2022-03-07T20:29:07.275Z"
   },
   {
    "duration": 9,
    "start_time": "2022-03-07T20:29:07.360Z"
   },
   {
    "duration": 6,
    "start_time": "2022-03-07T20:29:07.371Z"
   },
   {
    "duration": 23,
    "start_time": "2022-03-07T20:29:07.379Z"
   },
   {
    "duration": 26,
    "start_time": "2022-03-07T20:29:07.404Z"
   },
   {
    "duration": 22,
    "start_time": "2022-03-07T20:29:07.433Z"
   },
   {
    "duration": 58,
    "start_time": "2022-03-07T20:29:07.457Z"
   },
   {
    "duration": 9,
    "start_time": "2022-03-07T20:29:07.517Z"
   },
   {
    "duration": 4,
    "start_time": "2022-03-07T20:29:07.527Z"
   },
   {
    "duration": 6,
    "start_time": "2022-03-07T20:29:07.532Z"
   },
   {
    "duration": 8,
    "start_time": "2022-03-07T20:29:07.539Z"
   },
   {
    "duration": 8,
    "start_time": "2022-03-07T20:29:07.548Z"
   },
   {
    "duration": 62,
    "start_time": "2022-03-07T20:29:07.557Z"
   },
   {
    "duration": 3,
    "start_time": "2022-03-07T20:29:07.621Z"
   },
   {
    "duration": 33,
    "start_time": "2022-03-07T20:29:07.626Z"
   },
   {
    "duration": 5,
    "start_time": "2022-03-07T20:29:07.661Z"
   },
   {
    "duration": 36,
    "start_time": "2022-03-07T20:29:07.667Z"
   },
   {
    "duration": 4,
    "start_time": "2022-03-07T20:29:07.704Z"
   },
   {
    "duration": 18,
    "start_time": "2022-03-07T20:29:07.709Z"
   },
   {
    "duration": 21,
    "start_time": "2022-03-07T20:29:07.729Z"
   },
   {
    "duration": 12,
    "start_time": "2022-03-07T20:29:07.755Z"
   },
   {
    "duration": 35,
    "start_time": "2022-03-07T20:29:07.770Z"
   },
   {
    "duration": 25,
    "start_time": "2022-03-07T20:29:07.806Z"
   },
   {
    "duration": 8,
    "start_time": "2022-03-07T20:29:07.833Z"
   },
   {
    "duration": 5,
    "start_time": "2022-03-07T20:29:07.842Z"
   },
   {
    "duration": 25,
    "start_time": "2022-03-07T20:29:07.848Z"
   },
   {
    "duration": 32,
    "start_time": "2022-03-07T20:29:07.875Z"
   },
   {
    "duration": 8,
    "start_time": "2022-03-07T20:29:07.909Z"
   },
   {
    "duration": 883,
    "start_time": "2022-03-07T20:29:07.918Z"
   },
   {
    "duration": 5,
    "start_time": "2022-03-07T20:29:08.802Z"
   },
   {
    "duration": 395,
    "start_time": "2022-03-07T20:29:08.808Z"
   },
   {
    "duration": 9,
    "start_time": "2022-03-07T20:29:09.204Z"
   },
   {
    "duration": 18,
    "start_time": "2022-03-07T20:29:09.214Z"
   },
   {
    "duration": 352,
    "start_time": "2022-03-07T20:29:09.233Z"
   },
   {
    "duration": 14,
    "start_time": "2022-03-07T20:29:09.587Z"
   },
   {
    "duration": 7,
    "start_time": "2022-03-07T20:29:09.603Z"
   },
   {
    "duration": 11,
    "start_time": "2022-03-07T20:29:09.611Z"
   },
   {
    "duration": 318,
    "start_time": "2022-03-07T20:29:09.624Z"
   },
   {
    "duration": 9,
    "start_time": "2022-03-07T20:29:09.943Z"
   },
   {
    "duration": 6,
    "start_time": "2022-03-07T20:29:09.954Z"
   },
   {
    "duration": 7,
    "start_time": "2022-03-07T20:29:09.961Z"
   },
   {
    "duration": 4,
    "start_time": "2022-03-07T20:29:09.969Z"
   },
   {
    "duration": 427,
    "start_time": "2022-03-07T20:29:09.974Z"
   },
   {
    "duration": 12,
    "start_time": "2022-03-07T20:29:10.403Z"
   },
   {
    "duration": 11,
    "start_time": "2022-03-07T20:29:10.417Z"
   },
   {
    "duration": 13,
    "start_time": "2022-03-07T20:29:10.429Z"
   },
   {
    "duration": 3,
    "start_time": "2022-03-07T20:29:10.444Z"
   },
   {
    "duration": 304,
    "start_time": "2022-03-07T20:29:10.449Z"
   },
   {
    "duration": 217,
    "start_time": "2022-03-07T20:29:10.755Z"
   },
   {
    "duration": 123,
    "start_time": "2022-03-07T20:29:10.974Z"
   },
   {
    "duration": 10,
    "start_time": "2022-03-07T20:29:11.101Z"
   },
   {
    "duration": 1051,
    "start_time": "2022-03-07T20:29:11.113Z"
   },
   {
    "duration": 1107,
    "start_time": "2022-03-07T20:29:12.166Z"
   },
   {
    "duration": 144,
    "start_time": "2022-03-07T20:29:13.274Z"
   },
   {
    "duration": 185,
    "start_time": "2022-03-07T20:29:13.419Z"
   },
   {
    "duration": 1144,
    "start_time": "2022-03-07T20:29:13.605Z"
   },
   {
    "duration": 753,
    "start_time": "2022-03-07T20:29:14.750Z"
   },
   {
    "duration": -1149,
    "start_time": "2022-03-07T20:29:16.654Z"
   },
   {
    "duration": -1153,
    "start_time": "2022-03-07T20:29:16.659Z"
   },
   {
    "duration": -1157,
    "start_time": "2022-03-07T20:29:16.664Z"
   },
   {
    "duration": -1161,
    "start_time": "2022-03-07T20:29:16.669Z"
   },
   {
    "duration": -1164,
    "start_time": "2022-03-07T20:29:16.673Z"
   },
   {
    "duration": -1168,
    "start_time": "2022-03-07T20:29:16.678Z"
   },
   {
    "duration": -1172,
    "start_time": "2022-03-07T20:29:16.683Z"
   },
   {
    "duration": -1176,
    "start_time": "2022-03-07T20:29:16.688Z"
   },
   {
    "duration": -1179,
    "start_time": "2022-03-07T20:29:16.692Z"
   },
   {
    "duration": -1183,
    "start_time": "2022-03-07T20:29:16.697Z"
   },
   {
    "duration": -1186,
    "start_time": "2022-03-07T20:29:16.701Z"
   },
   {
    "duration": -1190,
    "start_time": "2022-03-07T20:29:16.706Z"
   },
   {
    "duration": -1193,
    "start_time": "2022-03-07T20:29:16.710Z"
   },
   {
    "duration": -1197,
    "start_time": "2022-03-07T20:29:16.715Z"
   },
   {
    "duration": -1201,
    "start_time": "2022-03-07T20:29:16.720Z"
   },
   {
    "duration": -1204,
    "start_time": "2022-03-07T20:29:16.724Z"
   },
   {
    "duration": 1451,
    "start_time": "2022-03-10T04:09:10.850Z"
   },
   {
    "duration": 3,
    "start_time": "2022-03-10T04:09:12.303Z"
   },
   {
    "duration": 133,
    "start_time": "2022-03-10T04:09:12.309Z"
   },
   {
    "duration": 16,
    "start_time": "2022-03-10T04:09:12.445Z"
   },
   {
    "duration": 10,
    "start_time": "2022-03-10T04:09:12.463Z"
   },
   {
    "duration": 12,
    "start_time": "2022-03-10T04:09:12.475Z"
   },
   {
    "duration": 75,
    "start_time": "2022-03-10T04:09:12.489Z"
   },
   {
    "duration": 35,
    "start_time": "2022-03-10T04:09:12.568Z"
   },
   {
    "duration": 73,
    "start_time": "2022-03-10T04:09:12.606Z"
   },
   {
    "duration": 11,
    "start_time": "2022-03-10T04:09:12.681Z"
   },
   {
    "duration": 4,
    "start_time": "2022-03-10T04:09:12.695Z"
   },
   {
    "duration": 34,
    "start_time": "2022-03-10T04:09:12.701Z"
   },
   {
    "duration": 9,
    "start_time": "2022-03-10T04:09:12.737Z"
   },
   {
    "duration": 9,
    "start_time": "2022-03-10T04:09:12.748Z"
   },
   {
    "duration": 44,
    "start_time": "2022-03-10T04:09:12.759Z"
   },
   {
    "duration": 5,
    "start_time": "2022-03-10T04:09:12.833Z"
   },
   {
    "duration": 57,
    "start_time": "2022-03-10T04:09:12.840Z"
   },
   {
    "duration": 32,
    "start_time": "2022-03-10T04:09:12.900Z"
   },
   {
    "duration": 18,
    "start_time": "2022-03-10T04:09:12.935Z"
   },
   {
    "duration": 8,
    "start_time": "2022-03-10T04:09:12.955Z"
   },
   {
    "duration": 14,
    "start_time": "2022-03-10T04:09:12.965Z"
   },
   {
    "duration": 66,
    "start_time": "2022-03-10T04:09:12.981Z"
   },
   {
    "duration": 16,
    "start_time": "2022-03-10T04:09:13.053Z"
   },
   {
    "duration": 12,
    "start_time": "2022-03-10T04:09:13.073Z"
   },
   {
    "duration": 72,
    "start_time": "2022-03-10T04:09:13.087Z"
   },
   {
    "duration": 10,
    "start_time": "2022-03-10T04:09:13.161Z"
   },
   {
    "duration": 16,
    "start_time": "2022-03-10T04:09:13.173Z"
   },
   {
    "duration": 45,
    "start_time": "2022-03-10T04:09:13.192Z"
   },
   {
    "duration": 8,
    "start_time": "2022-03-10T04:09:13.240Z"
   },
   {
    "duration": 11,
    "start_time": "2022-03-10T04:09:13.250Z"
   },
   {
    "duration": 1558,
    "start_time": "2022-03-10T04:09:13.263Z"
   },
   {
    "duration": 13,
    "start_time": "2022-03-10T04:09:14.823Z"
   },
   {
    "duration": 663,
    "start_time": "2022-03-10T04:09:14.838Z"
   },
   {
    "duration": 12,
    "start_time": "2022-03-10T04:09:15.504Z"
   },
   {
    "duration": 26,
    "start_time": "2022-03-10T04:09:15.519Z"
   },
   {
    "duration": 634,
    "start_time": "2022-03-10T04:09:15.548Z"
   },
   {
    "duration": 13,
    "start_time": "2022-03-10T04:09:16.184Z"
   },
   {
    "duration": 11,
    "start_time": "2022-03-10T04:09:16.199Z"
   },
   {
    "duration": 109,
    "start_time": "2022-03-10T04:09:16.213Z"
   },
   {
    "duration": 560,
    "start_time": "2022-03-10T04:09:16.334Z"
   },
   {
    "duration": 13,
    "start_time": "2022-03-10T04:09:16.897Z"
   },
   {
    "duration": 26,
    "start_time": "2022-03-10T04:09:16.913Z"
   },
   {
    "duration": 17,
    "start_time": "2022-03-10T04:09:16.941Z"
   },
   {
    "duration": 7,
    "start_time": "2022-03-10T04:09:16.960Z"
   },
   {
    "duration": 763,
    "start_time": "2022-03-10T04:09:16.969Z"
   },
   {
    "duration": 21,
    "start_time": "2022-03-10T04:09:17.734Z"
   },
   {
    "duration": 15,
    "start_time": "2022-03-10T04:09:17.758Z"
   },
   {
    "duration": 64,
    "start_time": "2022-03-10T04:09:17.775Z"
   },
   {
    "duration": 5,
    "start_time": "2022-03-10T04:09:17.841Z"
   },
   {
    "duration": 519,
    "start_time": "2022-03-10T04:09:17.849Z"
   },
   {
    "duration": 391,
    "start_time": "2022-03-10T04:09:18.371Z"
   },
   {
    "duration": 248,
    "start_time": "2022-03-10T04:09:18.764Z"
   },
   {
    "duration": 29,
    "start_time": "2022-03-10T04:09:19.016Z"
   },
   {
    "duration": 1760,
    "start_time": "2022-03-10T04:09:19.048Z"
   },
   {
    "duration": 1709,
    "start_time": "2022-03-10T04:09:20.811Z"
   },
   {
    "duration": 256,
    "start_time": "2022-03-10T04:09:22.531Z"
   },
   {
    "duration": 608,
    "start_time": "2022-03-10T04:09:22.790Z"
   },
   {
    "duration": 342,
    "start_time": "2022-03-10T04:09:23.401Z"
   },
   {
    "duration": 1612,
    "start_time": "2022-03-10T04:09:23.746Z"
   },
   {
    "duration": 7,
    "start_time": "2022-03-10T04:09:25.361Z"
   },
   {
    "duration": 372,
    "start_time": "2022-03-10T04:09:25.371Z"
   },
   {
    "duration": 423,
    "start_time": "2022-03-10T04:09:25.746Z"
   },
   {
    "duration": 455,
    "start_time": "2022-03-10T04:09:26.172Z"
   },
   {
    "duration": 37,
    "start_time": "2022-03-10T04:09:26.633Z"
   },
   {
    "duration": 59,
    "start_time": "2022-03-10T04:09:26.674Z"
   },
   {
    "duration": 396,
    "start_time": "2022-03-10T04:09:26.736Z"
   },
   {
    "duration": 15,
    "start_time": "2022-03-10T04:09:27.134Z"
   },
   {
    "duration": 1680,
    "start_time": "2022-03-10T04:09:27.156Z"
   },
   {
    "duration": 18,
    "start_time": "2022-03-10T04:09:28.839Z"
   },
   {
    "duration": 532,
    "start_time": "2022-03-10T04:09:28.859Z"
   },
   {
    "duration": 382,
    "start_time": "2022-03-10T04:09:29.394Z"
   },
   {
    "duration": 367,
    "start_time": "2022-03-10T04:09:29.779Z"
   },
   {
    "duration": 521,
    "start_time": "2022-03-10T04:09:30.148Z"
   },
   {
    "duration": 388,
    "start_time": "2022-03-10T04:09:30.671Z"
   },
   {
    "duration": 37,
    "start_time": "2022-03-10T04:09:31.061Z"
   },
   {
    "duration": 369,
    "start_time": "2022-03-10T04:09:31.101Z"
   },
   {
    "duration": 454,
    "start_time": "2022-03-10T04:09:31.473Z"
   },
   {
    "duration": 351,
    "start_time": "2022-03-10T04:10:28.381Z"
   },
   {
    "duration": 1273,
    "start_time": "2022-03-10T10:19:30.308Z"
   },
   {
    "duration": 3,
    "start_time": "2022-03-10T10:19:31.583Z"
   },
   {
    "duration": 114,
    "start_time": "2022-03-10T10:19:31.588Z"
   },
   {
    "duration": 13,
    "start_time": "2022-03-10T10:19:31.704Z"
   },
   {
    "duration": 9,
    "start_time": "2022-03-10T10:19:31.720Z"
   },
   {
    "duration": 11,
    "start_time": "2022-03-10T10:19:31.731Z"
   },
   {
    "duration": 67,
    "start_time": "2022-03-10T10:19:31.744Z"
   },
   {
    "duration": 30,
    "start_time": "2022-03-10T10:19:31.814Z"
   },
   {
    "duration": 58,
    "start_time": "2022-03-10T10:19:31.846Z"
   },
   {
    "duration": 9,
    "start_time": "2022-03-10T10:19:31.906Z"
   },
   {
    "duration": 6,
    "start_time": "2022-03-10T10:19:31.918Z"
   },
   {
    "duration": 15,
    "start_time": "2022-03-10T10:19:31.926Z"
   },
   {
    "duration": 18,
    "start_time": "2022-03-10T10:19:31.943Z"
   },
   {
    "duration": 17,
    "start_time": "2022-03-10T10:19:31.963Z"
   },
   {
    "duration": 40,
    "start_time": "2022-03-10T10:19:31.982Z"
   },
   {
    "duration": 3,
    "start_time": "2022-03-10T10:19:32.024Z"
   },
   {
    "duration": 50,
    "start_time": "2022-03-10T10:19:32.029Z"
   },
   {
    "duration": 24,
    "start_time": "2022-03-10T10:19:32.081Z"
   },
   {
    "duration": 18,
    "start_time": "2022-03-10T10:19:32.107Z"
   },
   {
    "duration": 9,
    "start_time": "2022-03-10T10:19:32.127Z"
   },
   {
    "duration": 22,
    "start_time": "2022-03-10T10:19:32.138Z"
   },
   {
    "duration": 39,
    "start_time": "2022-03-10T10:19:32.162Z"
   },
   {
    "duration": 13,
    "start_time": "2022-03-10T10:19:32.207Z"
   },
   {
    "duration": 10,
    "start_time": "2022-03-10T10:19:32.223Z"
   },
   {
    "duration": 39,
    "start_time": "2022-03-10T10:19:32.235Z"
   },
   {
    "duration": 31,
    "start_time": "2022-03-10T10:19:32.277Z"
   },
   {
    "duration": 9,
    "start_time": "2022-03-10T10:19:32.310Z"
   },
   {
    "duration": 31,
    "start_time": "2022-03-10T10:19:32.321Z"
   },
   {
    "duration": 9,
    "start_time": "2022-03-10T10:19:32.354Z"
   },
   {
    "duration": 18,
    "start_time": "2022-03-10T10:19:32.365Z"
   },
   {
    "duration": 1017,
    "start_time": "2022-03-10T10:19:32.385Z"
   },
   {
    "duration": 5,
    "start_time": "2022-03-10T10:19:33.404Z"
   },
   {
    "duration": 457,
    "start_time": "2022-03-10T10:19:33.411Z"
   },
   {
    "duration": 11,
    "start_time": "2022-03-10T10:19:33.870Z"
   },
   {
    "duration": 24,
    "start_time": "2022-03-10T10:19:33.882Z"
   },
   {
    "duration": 422,
    "start_time": "2022-03-10T10:19:33.908Z"
   },
   {
    "duration": 10,
    "start_time": "2022-03-10T10:19:34.332Z"
   },
   {
    "duration": 15,
    "start_time": "2022-03-10T10:19:34.343Z"
   },
   {
    "duration": 15,
    "start_time": "2022-03-10T10:19:34.361Z"
   },
   {
    "duration": 391,
    "start_time": "2022-03-10T10:19:34.378Z"
   },
   {
    "duration": 10,
    "start_time": "2022-03-10T10:19:34.771Z"
   },
   {
    "duration": 23,
    "start_time": "2022-03-10T10:19:34.783Z"
   },
   {
    "duration": 10,
    "start_time": "2022-03-10T10:19:34.808Z"
   },
   {
    "duration": 7,
    "start_time": "2022-03-10T10:19:34.820Z"
   },
   {
    "duration": 513,
    "start_time": "2022-03-10T10:19:34.828Z"
   },
   {
    "duration": 15,
    "start_time": "2022-03-10T10:19:35.343Z"
   },
   {
    "duration": 13,
    "start_time": "2022-03-10T10:19:35.360Z"
   },
   {
    "duration": 47,
    "start_time": "2022-03-10T10:19:35.375Z"
   },
   {
    "duration": 5,
    "start_time": "2022-03-10T10:19:35.424Z"
   },
   {
    "duration": 358,
    "start_time": "2022-03-10T10:19:35.430Z"
   },
   {
    "duration": 273,
    "start_time": "2022-03-10T10:19:35.790Z"
   },
   {
    "duration": 165,
    "start_time": "2022-03-10T10:19:36.065Z"
   },
   {
    "duration": 14,
    "start_time": "2022-03-10T10:19:36.232Z"
   },
   {
    "duration": 1247,
    "start_time": "2022-03-10T10:19:36.248Z"
   },
   {
    "duration": 1408,
    "start_time": "2022-03-10T10:19:37.501Z"
   },
   {
    "duration": 176,
    "start_time": "2022-03-10T10:19:38.911Z"
   },
   {
    "duration": 387,
    "start_time": "2022-03-10T10:19:39.089Z"
   },
   {
    "duration": 240,
    "start_time": "2022-03-10T10:19:39.478Z"
   },
   {
    "duration": 1316,
    "start_time": "2022-03-10T10:19:39.720Z"
   },
   {
    "duration": 5,
    "start_time": "2022-03-10T10:19:41.038Z"
   },
   {
    "duration": 263,
    "start_time": "2022-03-10T10:19:41.044Z"
   },
   {
    "duration": 298,
    "start_time": "2022-03-10T10:19:41.309Z"
   },
   {
    "duration": 342,
    "start_time": "2022-03-10T10:19:41.609Z"
   },
   {
    "duration": 26,
    "start_time": "2022-03-10T10:19:41.953Z"
   },
   {
    "duration": 39,
    "start_time": "2022-03-10T10:19:41.981Z"
   },
   {
    "duration": 276,
    "start_time": "2022-03-10T10:19:42.021Z"
   },
   {
    "duration": 12,
    "start_time": "2022-03-10T10:19:42.301Z"
   },
   {
    "duration": 1132,
    "start_time": "2022-03-10T10:19:42.318Z"
   },
   {
    "duration": 15,
    "start_time": "2022-03-10T10:19:43.453Z"
   },
   {
    "duration": 560,
    "start_time": "2022-03-10T10:19:43.471Z"
   },
   {
    "duration": 322,
    "start_time": "2022-03-10T10:19:44.033Z"
   },
   {
    "duration": 325,
    "start_time": "2022-03-10T10:19:44.357Z"
   },
   {
    "duration": 443,
    "start_time": "2022-03-10T10:19:44.683Z"
   },
   {
    "duration": 258,
    "start_time": "2022-03-10T10:19:45.127Z"
   },
   {
    "duration": 33,
    "start_time": "2022-03-10T10:19:45.387Z"
   },
   {
    "duration": 249,
    "start_time": "2022-03-10T10:19:45.421Z"
   },
   {
    "duration": 346,
    "start_time": "2022-03-10T10:19:45.672Z"
   },
   {
    "duration": 390,
    "start_time": "2022-03-10T23:54:46.552Z"
   },
   {
    "duration": 1455,
    "start_time": "2022-03-10T23:54:56.052Z"
   },
   {
    "duration": 3,
    "start_time": "2022-03-10T23:54:57.509Z"
   },
   {
    "duration": 128,
    "start_time": "2022-03-10T23:54:57.515Z"
   },
   {
    "duration": 16,
    "start_time": "2022-03-10T23:54:57.645Z"
   },
   {
    "duration": 11,
    "start_time": "2022-03-10T23:54:57.663Z"
   },
   {
    "duration": 11,
    "start_time": "2022-03-10T23:54:57.676Z"
   },
   {
    "duration": 80,
    "start_time": "2022-03-10T23:54:57.690Z"
   },
   {
    "duration": 37,
    "start_time": "2022-03-10T23:54:57.774Z"
   },
   {
    "duration": 78,
    "start_time": "2022-03-10T23:54:57.815Z"
   },
   {
    "duration": 12,
    "start_time": "2022-03-10T23:54:57.895Z"
   },
   {
    "duration": 23,
    "start_time": "2022-03-10T23:54:57.909Z"
   },
   {
    "duration": 7,
    "start_time": "2022-03-10T23:54:57.934Z"
   },
   {
    "duration": 12,
    "start_time": "2022-03-10T23:54:57.943Z"
   },
   {
    "duration": 9,
    "start_time": "2022-03-10T23:54:57.957Z"
   },
   {
    "duration": 73,
    "start_time": "2022-03-10T23:54:57.969Z"
   },
   {
    "duration": 5,
    "start_time": "2022-03-10T23:54:58.044Z"
   },
   {
    "duration": 57,
    "start_time": "2022-03-10T23:54:58.051Z"
   },
   {
    "duration": 26,
    "start_time": "2022-03-10T23:54:58.110Z"
   },
   {
    "duration": 17,
    "start_time": "2022-03-10T23:54:58.139Z"
   },
   {
    "duration": 7,
    "start_time": "2022-03-10T23:54:58.159Z"
   },
   {
    "duration": 15,
    "start_time": "2022-03-10T23:54:58.168Z"
   },
   {
    "duration": 67,
    "start_time": "2022-03-10T23:54:58.185Z"
   },
   {
    "duration": 17,
    "start_time": "2022-03-10T23:54:58.260Z"
   },
   {
    "duration": 14,
    "start_time": "2022-03-10T23:54:58.281Z"
   },
   {
    "duration": 41,
    "start_time": "2022-03-10T23:54:58.331Z"
   },
   {
    "duration": 9,
    "start_time": "2022-03-10T23:54:58.375Z"
   },
   {
    "duration": 6,
    "start_time": "2022-03-10T23:54:58.387Z"
   },
   {
    "duration": 58,
    "start_time": "2022-03-10T23:54:58.395Z"
   },
   {
    "duration": 7,
    "start_time": "2022-03-10T23:54:58.456Z"
   },
   {
    "duration": 9,
    "start_time": "2022-03-10T23:54:58.466Z"
   },
   {
    "duration": 1597,
    "start_time": "2022-03-10T23:54:58.478Z"
   },
   {
    "duration": 8,
    "start_time": "2022-03-10T23:55:00.077Z"
   },
   {
    "duration": 666,
    "start_time": "2022-03-10T23:55:00.087Z"
   },
   {
    "duration": 16,
    "start_time": "2022-03-10T23:55:00.756Z"
   },
   {
    "duration": 17,
    "start_time": "2022-03-10T23:55:00.775Z"
   },
   {
    "duration": 668,
    "start_time": "2022-03-10T23:55:00.795Z"
   },
   {
    "duration": 15,
    "start_time": "2022-03-10T23:55:01.465Z"
   },
   {
    "duration": 12,
    "start_time": "2022-03-10T23:55:01.484Z"
   },
   {
    "duration": 50,
    "start_time": "2022-03-10T23:55:01.499Z"
   },
   {
    "duration": 550,
    "start_time": "2022-03-10T23:55:01.551Z"
   },
   {
    "duration": 13,
    "start_time": "2022-03-10T23:55:02.104Z"
   },
   {
    "duration": 13,
    "start_time": "2022-03-10T23:55:02.133Z"
   },
   {
    "duration": 12,
    "start_time": "2022-03-10T23:55:02.148Z"
   },
   {
    "duration": 14,
    "start_time": "2022-03-10T23:55:02.162Z"
   },
   {
    "duration": 768,
    "start_time": "2022-03-10T23:55:02.178Z"
   },
   {
    "duration": 23,
    "start_time": "2022-03-10T23:55:02.949Z"
   },
   {
    "duration": 18,
    "start_time": "2022-03-10T23:55:02.975Z"
   },
   {
    "duration": 64,
    "start_time": "2022-03-10T23:55:02.996Z"
   },
   {
    "duration": 6,
    "start_time": "2022-03-10T23:55:03.063Z"
   },
   {
    "duration": 579,
    "start_time": "2022-03-10T23:55:03.072Z"
   },
   {
    "duration": 428,
    "start_time": "2022-03-10T23:55:03.654Z"
   },
   {
    "duration": 259,
    "start_time": "2022-03-10T23:55:04.084Z"
   },
   {
    "duration": 18,
    "start_time": "2022-03-10T23:55:04.346Z"
   },
   {
    "duration": 1906,
    "start_time": "2022-03-10T23:55:04.366Z"
   },
   {
    "duration": 2082,
    "start_time": "2022-03-10T23:55:06.275Z"
   },
   {
    "duration": 265,
    "start_time": "2022-03-10T23:55:08.360Z"
   },
   {
    "duration": 792,
    "start_time": "2022-03-10T23:55:08.632Z"
   },
   {
    "duration": 576,
    "start_time": "2022-03-10T23:55:09.432Z"
   },
   {
    "duration": 346,
    "start_time": "2022-03-10T23:55:10.010Z"
   },
   {
    "duration": 1689,
    "start_time": "2022-03-10T23:55:10.359Z"
   },
   {
    "duration": 6,
    "start_time": "2022-03-10T23:55:12.050Z"
   },
   {
    "duration": 455,
    "start_time": "2022-03-10T23:55:12.059Z"
   },
   {
    "duration": 437,
    "start_time": "2022-03-10T23:55:12.517Z"
   },
   {
    "duration": 370,
    "start_time": "2022-03-10T23:55:12.956Z"
   },
   {
    "duration": 38,
    "start_time": "2022-03-10T23:55:13.332Z"
   },
   {
    "duration": 29,
    "start_time": "2022-03-10T23:55:13.373Z"
   },
   {
    "duration": 437,
    "start_time": "2022-03-10T23:55:13.405Z"
   },
   {
    "duration": 15,
    "start_time": "2022-03-10T23:55:13.849Z"
   },
   {
    "duration": 1713,
    "start_time": "2022-03-10T23:55:13.866Z"
   },
   {
    "duration": 18,
    "start_time": "2022-03-10T23:55:15.582Z"
   },
   {
    "duration": 578,
    "start_time": "2022-03-10T23:55:15.602Z"
   },
   {
    "duration": 383,
    "start_time": "2022-03-10T23:55:16.182Z"
   },
   {
    "duration": 365,
    "start_time": "2022-03-10T23:55:16.567Z"
   },
   {
    "duration": 526,
    "start_time": "2022-03-10T23:55:16.935Z"
   },
   {
    "duration": 456,
    "start_time": "2022-03-10T23:55:17.463Z"
   },
   {
    "duration": 44,
    "start_time": "2022-03-10T23:55:17.922Z"
   },
   {
    "duration": 360,
    "start_time": "2022-03-10T23:55:17.968Z"
   },
   {
    "duration": 368,
    "start_time": "2022-03-10T23:55:18.333Z"
   },
   {
    "duration": 388,
    "start_time": "2022-03-10T23:55:49.398Z"
   },
   {
    "duration": 409,
    "start_time": "2022-03-10T23:55:59.865Z"
   },
   {
    "duration": 514,
    "start_time": "2022-03-10T23:56:40.289Z"
   },
   {
    "duration": 384,
    "start_time": "2022-03-10T23:56:48.036Z"
   },
   {
    "duration": 386,
    "start_time": "2022-03-10T23:58:12.621Z"
   },
   {
    "duration": 574,
    "start_time": "2022-03-10T23:58:41.323Z"
   },
   {
    "duration": 583,
    "start_time": "2022-03-10T23:58:50.170Z"
   },
   {
    "duration": 121,
    "start_time": "2022-03-11T00:00:50.585Z"
   },
   {
    "duration": 175,
    "start_time": "2022-03-11T00:01:07.486Z"
   },
   {
    "duration": 612,
    "start_time": "2022-03-11T00:01:17.130Z"
   },
   {
    "duration": 483,
    "start_time": "2022-03-11T00:01:42.708Z"
   },
   {
    "duration": 568,
    "start_time": "2022-03-11T00:02:59.905Z"
   },
   {
    "duration": 1081,
    "start_time": "2022-03-11T00:03:06.752Z"
   },
   {
    "duration": 742,
    "start_time": "2022-03-11T00:03:15.796Z"
   },
   {
    "duration": 620,
    "start_time": "2022-03-11T00:04:29.374Z"
   },
   {
    "duration": 118,
    "start_time": "2022-03-11T00:05:27.223Z"
   },
   {
    "duration": 616,
    "start_time": "2022-03-11T00:05:32.694Z"
   },
   {
    "duration": 602,
    "start_time": "2022-03-11T00:06:36.848Z"
   },
   {
    "duration": 1503,
    "start_time": "2022-03-11T00:07:03.032Z"
   },
   {
    "duration": 3,
    "start_time": "2022-03-11T00:07:04.539Z"
   },
   {
    "duration": 149,
    "start_time": "2022-03-11T00:07:04.545Z"
   },
   {
    "duration": 14,
    "start_time": "2022-03-11T00:07:04.697Z"
   },
   {
    "duration": 17,
    "start_time": "2022-03-11T00:07:04.713Z"
   },
   {
    "duration": 12,
    "start_time": "2022-03-11T00:07:04.732Z"
   },
   {
    "duration": 44,
    "start_time": "2022-03-11T00:07:04.746Z"
   },
   {
    "duration": 39,
    "start_time": "2022-03-11T00:07:04.794Z"
   },
   {
    "duration": 58,
    "start_time": "2022-03-11T00:07:04.836Z"
   },
   {
    "duration": 11,
    "start_time": "2022-03-11T00:07:04.897Z"
   },
   {
    "duration": 10,
    "start_time": "2022-03-11T00:07:04.911Z"
   },
   {
    "duration": 20,
    "start_time": "2022-03-11T00:07:04.923Z"
   },
   {
    "duration": 16,
    "start_time": "2022-03-11T00:07:04.945Z"
   },
   {
    "duration": 17,
    "start_time": "2022-03-11T00:07:04.964Z"
   },
   {
    "duration": 45,
    "start_time": "2022-03-11T00:07:04.983Z"
   },
   {
    "duration": 5,
    "start_time": "2022-03-11T00:07:05.030Z"
   },
   {
    "duration": 75,
    "start_time": "2022-03-11T00:07:05.037Z"
   },
   {
    "duration": 8,
    "start_time": "2022-03-11T00:07:05.114Z"
   },
   {
    "duration": 22,
    "start_time": "2022-03-11T00:07:05.124Z"
   },
   {
    "duration": 9,
    "start_time": "2022-03-11T00:07:05.148Z"
   },
   {
    "duration": 30,
    "start_time": "2022-03-11T00:07:05.159Z"
   },
   {
    "duration": 40,
    "start_time": "2022-03-11T00:07:05.191Z"
   },
   {
    "duration": 29,
    "start_time": "2022-03-11T00:07:05.237Z"
   },
   {
    "duration": 11,
    "start_time": "2022-03-11T00:07:05.270Z"
   },
   {
    "duration": 46,
    "start_time": "2022-03-11T00:07:05.284Z"
   },
   {
    "duration": 9,
    "start_time": "2022-03-11T00:07:05.332Z"
   },
   {
    "duration": 10,
    "start_time": "2022-03-11T00:07:05.344Z"
   },
   {
    "duration": 43,
    "start_time": "2022-03-11T00:07:05.356Z"
   },
   {
    "duration": 17,
    "start_time": "2022-03-11T00:07:05.402Z"
   },
   {
    "duration": 17,
    "start_time": "2022-03-11T00:07:05.421Z"
   },
   {
    "duration": 1982,
    "start_time": "2022-03-11T00:07:05.440Z"
   },
   {
    "duration": 12,
    "start_time": "2022-03-11T00:07:07.424Z"
   },
   {
    "duration": 706,
    "start_time": "2022-03-11T00:07:07.438Z"
   },
   {
    "duration": 14,
    "start_time": "2022-03-11T00:07:08.146Z"
   },
   {
    "duration": 23,
    "start_time": "2022-03-11T00:07:08.162Z"
   },
   {
    "duration": 635,
    "start_time": "2022-03-11T00:07:08.187Z"
   },
   {
    "duration": 18,
    "start_time": "2022-03-11T00:07:08.824Z"
   },
   {
    "duration": 13,
    "start_time": "2022-03-11T00:07:08.844Z"
   },
   {
    "duration": 101,
    "start_time": "2022-03-11T00:07:08.859Z"
   },
   {
    "duration": 461,
    "start_time": "2022-03-11T00:07:08.962Z"
   },
   {
    "duration": 18,
    "start_time": "2022-03-11T00:07:09.425Z"
   },
   {
    "duration": 14,
    "start_time": "2022-03-11T00:07:09.445Z"
   },
   {
    "duration": 11,
    "start_time": "2022-03-11T00:07:09.462Z"
   },
   {
    "duration": 6,
    "start_time": "2022-03-11T00:07:09.475Z"
   },
   {
    "duration": 781,
    "start_time": "2022-03-11T00:07:09.483Z"
   },
   {
    "duration": 21,
    "start_time": "2022-03-11T00:07:10.266Z"
   },
   {
    "duration": 15,
    "start_time": "2022-03-11T00:07:10.289Z"
   },
   {
    "duration": 33,
    "start_time": "2022-03-11T00:07:10.333Z"
   },
   {
    "duration": 5,
    "start_time": "2022-03-11T00:07:10.368Z"
   },
   {
    "duration": 547,
    "start_time": "2022-03-11T00:07:10.375Z"
   },
   {
    "duration": 400,
    "start_time": "2022-03-11T00:07:10.932Z"
   },
   {
    "duration": 235,
    "start_time": "2022-03-11T00:07:11.335Z"
   },
   {
    "duration": 19,
    "start_time": "2022-03-11T00:07:11.573Z"
   },
   {
    "duration": 1751,
    "start_time": "2022-03-11T00:07:11.595Z"
   },
   {
    "duration": 1902,
    "start_time": "2022-03-11T00:07:13.349Z"
   },
   {
    "duration": 248,
    "start_time": "2022-03-11T00:07:15.254Z"
   },
   {
    "duration": 631,
    "start_time": "2022-03-11T00:07:15.504Z"
   },
   {
    "duration": 580,
    "start_time": "2022-03-11T00:07:16.137Z"
   },
   {
    "duration": 352,
    "start_time": "2022-03-11T00:07:16.719Z"
   },
   {
    "duration": 1801,
    "start_time": "2022-03-11T00:07:17.073Z"
   },
   {
    "duration": 5,
    "start_time": "2022-03-11T00:07:18.876Z"
   },
   {
    "duration": 456,
    "start_time": "2022-03-11T00:07:18.883Z"
   },
   {
    "duration": 420,
    "start_time": "2022-03-11T00:07:19.341Z"
   },
   {
    "duration": 379,
    "start_time": "2022-03-11T00:07:19.764Z"
   },
   {
    "duration": 37,
    "start_time": "2022-03-11T00:07:20.145Z"
   },
   {
    "duration": 49,
    "start_time": "2022-03-11T00:07:20.185Z"
   },
   {
    "duration": 393,
    "start_time": "2022-03-11T00:07:20.237Z"
   },
   {
    "duration": 14,
    "start_time": "2022-03-11T00:07:20.638Z"
   },
   {
    "duration": 1682,
    "start_time": "2022-03-11T00:07:20.654Z"
   },
   {
    "duration": 18,
    "start_time": "2022-03-11T00:07:22.338Z"
   },
   {
    "duration": 512,
    "start_time": "2022-03-11T00:07:22.359Z"
   },
   {
    "duration": 397,
    "start_time": "2022-03-11T00:07:22.875Z"
   },
   {
    "duration": 367,
    "start_time": "2022-03-11T00:07:23.275Z"
   },
   {
    "duration": 507,
    "start_time": "2022-03-11T00:07:23.644Z"
   },
   {
    "duration": 487,
    "start_time": "2022-03-11T00:07:24.155Z"
   },
   {
    "duration": 35,
    "start_time": "2022-03-11T00:07:24.645Z"
   },
   {
    "duration": 364,
    "start_time": "2022-03-11T00:07:24.682Z"
   },
   {
    "duration": 360,
    "start_time": "2022-03-11T00:07:25.049Z"
   }
  ],
  "kernelspec": {
   "display_name": "Python 3 (ipykernel)",
   "language": "python",
   "name": "python3"
  },
  "language_info": {
   "codemirror_mode": {
    "name": "ipython",
    "version": 3
   },
   "file_extension": ".py",
   "mimetype": "text/x-python",
   "name": "python",
   "nbconvert_exporter": "python",
   "pygments_lexer": "ipython3",
   "version": "3.9.7"
  },
  "toc": {
   "base_numbering": 1,
   "nav_menu": {},
   "number_sections": true,
   "sideBar": true,
   "skip_h1_title": true,
   "title_cell": "Table of Contents",
   "title_sidebar": "Contents",
   "toc_cell": false,
   "toc_position": {},
   "toc_section_display": true,
   "toc_window_display": false
  }
 },
 "nbformat": 4,
 "nbformat_minor": 5
}
